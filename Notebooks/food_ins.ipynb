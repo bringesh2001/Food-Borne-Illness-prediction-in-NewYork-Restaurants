{
 "cells": [
  {
   "cell_type": "code",
   "execution_count": 1,
   "metadata": {},
   "outputs": [],
   "source": [
    "import numpy as np \n",
    "import pandas as pd\n",
    "import seaborn as sns\n",
    "import matplotlib.pyplot as plt\n"
   ]
  },
  {
   "cell_type": "markdown",
   "metadata": {},
   "source": [
    "Connecting to the database"
   ]
  },
  {
   "cell_type": "code",
   "execution_count": 3,
   "metadata": {},
   "outputs": [],
   "source": [
    "from sqlalchemy import create_engine\n",
    "from sqlalchemy.engine import URL"
   ]
  },
  {
   "cell_type": "code",
   "execution_count": 5,
   "metadata": {},
   "outputs": [],
   "source": [
    "\n",
    "import psycopg2\n",
    "hostname = 'localhost'\n",
    "database = 'nyfd'\n",
    "user_name = 'postgres'\n",
    "pwd = 'raksha' \n",
    "port_id= 5432\n",
    "conn=None\n",
    "cur=None\n"
   ]
  },
  {
   "cell_type": "code",
   "execution_count": 7,
   "metadata": {},
   "outputs": [],
   "source": [
    "engine = create_engine(f'postgresql://{user_name}:{pwd}@{hostname}:{port_id}/{database}')\n"
   ]
  },
  {
   "cell_type": "code",
   "execution_count": 9,
   "metadata": {},
   "outputs": [],
   "source": [
    "sql = \"SELECT * FROM public.insp\""
   ]
  },
  {
   "cell_type": "code",
   "execution_count": 11,
   "metadata": {},
   "outputs": [
    {
     "data": {
      "text/html": [
       "<div>\n",
       "<style scoped>\n",
       "    .dataframe tbody tr th:only-of-type {\n",
       "        vertical-align: middle;\n",
       "    }\n",
       "\n",
       "    .dataframe tbody tr th {\n",
       "        vertical-align: top;\n",
       "    }\n",
       "\n",
       "    .dataframe thead th {\n",
       "        text-align: right;\n",
       "    }\n",
       "</style>\n",
       "<table border=\"1\" class=\"dataframe\">\n",
       "  <thead>\n",
       "    <tr style=\"text-align: right;\">\n",
       "      <th></th>\n",
       "      <th>facility</th>\n",
       "      <th>address</th>\n",
       "      <th>date_of_inspection</th>\n",
       "      <th>violation_item</th>\n",
       "      <th>violation_description</th>\n",
       "      <th>critical_violation</th>\n",
       "      <th>total_critical_violations</th>\n",
       "      <th>total_crit_not_corrected</th>\n",
       "      <th>total_noncritical_violations</th>\n",
       "      <th>local_health_department</th>\n",
       "      <th>...</th>\n",
       "      <th>permitted_dba</th>\n",
       "      <th>permitted_corp_name</th>\n",
       "      <th>perm_operator_last_name</th>\n",
       "      <th>perm_operator_first_name</th>\n",
       "      <th>nys_health_operation_id</th>\n",
       "      <th>inspection_type</th>\n",
       "      <th>inspection_comments</th>\n",
       "      <th>fs_facility_state</th>\n",
       "      <th>latitude</th>\n",
       "      <th>longitude</th>\n",
       "    </tr>\n",
       "  </thead>\n",
       "  <tbody>\n",
       "    <tr>\n",
       "      <th>256784</th>\n",
       "      <td>GLEN ST FOOD CENTER &amp; GROCERY</td>\n",
       "      <td>33  GLEN STREET,  GLEN COVE</td>\n",
       "      <td>4/23/2019</td>\n",
       "      <td>16</td>\n",
       "      <td>Miscellaneous, Economic Violation, Choking Pos...</td>\n",
       "      <td>Not Critical Violation</td>\n",
       "      <td>1.0</td>\n",
       "      <td>0.0</td>\n",
       "      <td>6.0</td>\n",
       "      <td>Nassau  County</td>\n",
       "      <td>...</td>\n",
       "      <td>None</td>\n",
       "      <td>LTMN CORP</td>\n",
       "      <td>None</td>\n",
       "      <td>None</td>\n",
       "      <td>1014190.0</td>\n",
       "      <td>Re-Inspection</td>\n",
       "      <td>Nassau County Food Manager Training Certificat...</td>\n",
       "      <td>NY</td>\n",
       "      <td>NaN</td>\n",
       "      <td>NaN</td>\n",
       "    </tr>\n",
       "    <tr>\n",
       "      <th>868178</th>\n",
       "      <td>MALONE MIDDLE SCHOOL</td>\n",
       "      <td>15 FRANCIS STREET,  MALONE</td>\n",
       "      <td>5/24/2016</td>\n",
       "      <td>11D</td>\n",
       "      <td>Non food contact surfaces of equipment not clean</td>\n",
       "      <td>Not Critical Violation</td>\n",
       "      <td>0.0</td>\n",
       "      <td>0.0</td>\n",
       "      <td>2.0</td>\n",
       "      <td>Saranac Lake District Office</td>\n",
       "      <td>...</td>\n",
       "      <td>None</td>\n",
       "      <td>ARAMARK EDUCATIONAL SERVICES, LLC</td>\n",
       "      <td>POTTER</td>\n",
       "      <td>VICKIE</td>\n",
       "      <td>845419.0</td>\n",
       "      <td>Inspection</td>\n",
       "      <td>Facility is using time as a public health cont...</td>\n",
       "      <td>NY</td>\n",
       "      <td>44.846259</td>\n",
       "      <td>-74.296187</td>\n",
       "    </tr>\n",
       "    <tr>\n",
       "      <th>412542</th>\n",
       "      <td>CHINATOWN KITCHEN - LIBERTY VILLAGE</td>\n",
       "      <td>127 Route 52 East,  Liberty</td>\n",
       "      <td>4/24/2018</td>\n",
       "      <td>15A</td>\n",
       "      <td>Floors, walls, ceilings, not smooth, properly ...</td>\n",
       "      <td>Not Critical Violation</td>\n",
       "      <td>1.0</td>\n",
       "      <td>0.0</td>\n",
       "      <td>14.0</td>\n",
       "      <td>Middletown District Office</td>\n",
       "      <td>...</td>\n",
       "      <td>None</td>\n",
       "      <td>Liberty Chinatown Inc.</td>\n",
       "      <td>Zheng</td>\n",
       "      <td>Tian He</td>\n",
       "      <td>347759.0</td>\n",
       "      <td>Inspection</td>\n",
       "      <td>Steam table - egg drop soup 154F, wontons 144F...</td>\n",
       "      <td>NY</td>\n",
       "      <td>41.784024</td>\n",
       "      <td>-74.719861</td>\n",
       "    </tr>\n",
       "    <tr>\n",
       "      <th>1131266</th>\n",
       "      <td>GEORGE W. MILLER ELEMENTARY SCHOOL</td>\n",
       "      <td>50 BLAUVELT ROAD,  NANUET</td>\n",
       "      <td>10/4/2021</td>\n",
       "      <td>None</td>\n",
       "      <td>None</td>\n",
       "      <td>Not Critical Violation</td>\n",
       "      <td>0.0</td>\n",
       "      <td>0.0</td>\n",
       "      <td>0.0</td>\n",
       "      <td>Rockland County</td>\n",
       "      <td>...</td>\n",
       "      <td>GEORGE W. MILLER ELEMENTARY SCHOOL</td>\n",
       "      <td>NANUET UNION FREE SCHOOLS</td>\n",
       "      <td>GREGOR</td>\n",
       "      <td>MARYANN</td>\n",
       "      <td>303305.0</td>\n",
       "      <td>Inspection</td>\n",
       "      <td>No violations noted at this time, recommend is...</td>\n",
       "      <td>NY</td>\n",
       "      <td>41.085784</td>\n",
       "      <td>-74.006101</td>\n",
       "    </tr>\n",
       "    <tr>\n",
       "      <th>617213</th>\n",
       "      <td>HAPPY GROUP CHINESE RESTAURANT</td>\n",
       "      <td>1150 MERRICK AVENUE,  NORTH MERRICK</td>\n",
       "      <td>2/1/2024</td>\n",
       "      <td>8A</td>\n",
       "      <td>Food not protected during storage, preparation...</td>\n",
       "      <td>Not Critical Violation</td>\n",
       "      <td>0.0</td>\n",
       "      <td>0.0</td>\n",
       "      <td>4.0</td>\n",
       "      <td>Nassau  County</td>\n",
       "      <td>...</td>\n",
       "      <td>None</td>\n",
       "      <td>HAPPY WOK 1150, INC.</td>\n",
       "      <td>None</td>\n",
       "      <td>None</td>\n",
       "      <td>1102040.0</td>\n",
       "      <td>Re-Inspection</td>\n",
       "      <td>None</td>\n",
       "      <td>NY</td>\n",
       "      <td>NaN</td>\n",
       "      <td>NaN</td>\n",
       "    </tr>\n",
       "    <tr>\n",
       "      <th>777308</th>\n",
       "      <td>RESTAURANT 7</td>\n",
       "      <td>96 WASHINGTON STREET,  POUGHKEEPSIE</td>\n",
       "      <td>1/13/2023</td>\n",
       "      <td>10B</td>\n",
       "      <td>Non-food contact surfaces and equipment are im...</td>\n",
       "      <td>Not Critical Violation</td>\n",
       "      <td>1.0</td>\n",
       "      <td>0.0</td>\n",
       "      <td>8.0</td>\n",
       "      <td>Dutchess County</td>\n",
       "      <td>...</td>\n",
       "      <td>None</td>\n",
       "      <td>ACUARIO SERVICES INC</td>\n",
       "      <td>REYES</td>\n",
       "      <td>JESUS</td>\n",
       "      <td>1075460.0</td>\n",
       "      <td>Inspection</td>\n",
       "      <td>Capacity 19</td>\n",
       "      <td>NY</td>\n",
       "      <td>NaN</td>\n",
       "      <td>NaN</td>\n",
       "    </tr>\n",
       "    <tr>\n",
       "      <th>1132890</th>\n",
       "      <td>OSWEGO THEATRE</td>\n",
       "      <td>138 WEST SECOND STREET,  OSWEGO</td>\n",
       "      <td>11/23/2004</td>\n",
       "      <td>None</td>\n",
       "      <td>None</td>\n",
       "      <td>Not Critical Violation</td>\n",
       "      <td>NaN</td>\n",
       "      <td>NaN</td>\n",
       "      <td>NaN</td>\n",
       "      <td>Oswego County</td>\n",
       "      <td>...</td>\n",
       "      <td>OSWEGO THEATRE</td>\n",
       "      <td>ZURICH CINEMAS OF OSWEGO</td>\n",
       "      <td>LEE</td>\n",
       "      <td>RYAN</td>\n",
       "      <td>296578.0</td>\n",
       "      <td>Inspection</td>\n",
       "      <td>None</td>\n",
       "      <td>NY</td>\n",
       "      <td>43.455898</td>\n",
       "      <td>-76.512167</td>\n",
       "    </tr>\n",
       "    <tr>\n",
       "      <th>752594</th>\n",
       "      <td>CARLTON RECREATION HALL</td>\n",
       "      <td>1853 OAK ORCHARD  ROAD,  ALBION, NEW YORK</td>\n",
       "      <td>7/17/2015</td>\n",
       "      <td>13B</td>\n",
       "      <td>Garbage storage areas not properly constructed...</td>\n",
       "      <td>Not Critical Violation</td>\n",
       "      <td>1.0</td>\n",
       "      <td>0.0</td>\n",
       "      <td>11.0</td>\n",
       "      <td>Orleans County</td>\n",
       "      <td>...</td>\n",
       "      <td>None</td>\n",
       "      <td>CARLTON FIRE CO NO. 1</td>\n",
       "      <td>YOCKEL</td>\n",
       "      <td>THOMAS</td>\n",
       "      <td>295041.0</td>\n",
       "      <td>Inspection</td>\n",
       "      <td>James Tabor was present during inspection. He ...</td>\n",
       "      <td>NY</td>\n",
       "      <td>43.323958</td>\n",
       "      <td>-78.190804</td>\n",
       "    </tr>\n",
       "    <tr>\n",
       "      <th>401869</th>\n",
       "      <td>Mullin's Catering</td>\n",
       "      <td>1180A US Highway 11,  Gouverneur</td>\n",
       "      <td>10/2/2012</td>\n",
       "      <td>12E</td>\n",
       "      <td>Handwashing facilities inaccessible, improperl...</td>\n",
       "      <td>Not Critical Violation</td>\n",
       "      <td>0.0</td>\n",
       "      <td>0.0</td>\n",
       "      <td>22.0</td>\n",
       "      <td>Canton District Office</td>\n",
       "      <td>...</td>\n",
       "      <td>None</td>\n",
       "      <td>Mullin's Catering &amp; Take-Out LLC</td>\n",
       "      <td>Mullin</td>\n",
       "      <td>Daniel &amp; Tina</td>\n",
       "      <td>583370.0</td>\n",
       "      <td>Inspection</td>\n",
       "      <td>None</td>\n",
       "      <td>NY</td>\n",
       "      <td>44.323291</td>\n",
       "      <td>-75.483858</td>\n",
       "    </tr>\n",
       "    <tr>\n",
       "      <th>1124251</th>\n",
       "      <td>GUIDO'S FROZEN DESSERTS</td>\n",
       "      <td>160 QUAIL STREET,  ALBANY</td>\n",
       "      <td>4/26/1995</td>\n",
       "      <td>None</td>\n",
       "      <td>None</td>\n",
       "      <td>Not Critical Violation</td>\n",
       "      <td>NaN</td>\n",
       "      <td>NaN</td>\n",
       "      <td>NaN</td>\n",
       "      <td>Albany County</td>\n",
       "      <td>...</td>\n",
       "      <td>None</td>\n",
       "      <td>AMMG, INC.</td>\n",
       "      <td>GUIDO</td>\n",
       "      <td>MARK</td>\n",
       "      <td>251213.0</td>\n",
       "      <td>Inspection</td>\n",
       "      <td>None</td>\n",
       "      <td>NY</td>\n",
       "      <td>42.663112</td>\n",
       "      <td>-73.775838</td>\n",
       "    </tr>\n",
       "    <tr>\n",
       "      <th>1026364</th>\n",
       "      <td>Limp Lizard Roadside Cantina</td>\n",
       "      <td>224 NORTH Main STREET,  North Syracuse</td>\n",
       "      <td>4/6/2016</td>\n",
       "      <td>11D</td>\n",
       "      <td>Non food contact surfaces of equipment not clean</td>\n",
       "      <td>Not Critical Violation</td>\n",
       "      <td>0.0</td>\n",
       "      <td>0.0</td>\n",
       "      <td>4.0</td>\n",
       "      <td>Onondaga County</td>\n",
       "      <td>...</td>\n",
       "      <td>None</td>\n",
       "      <td>Lizard, Inc.</td>\n",
       "      <td>Orlando</td>\n",
       "      <td>Charles</td>\n",
       "      <td>718531.0</td>\n",
       "      <td>Re-Inspection</td>\n",
       "      <td>Reinspection this date for violations which we...</td>\n",
       "      <td>NY</td>\n",
       "      <td>43.136658</td>\n",
       "      <td>-76.129057</td>\n",
       "    </tr>\n",
       "    <tr>\n",
       "      <th>1126349</th>\n",
       "      <td>RVC SD - FRANCIS F WILSON ELEM SCH</td>\n",
       "      <td>25 BUCKINGHAM ROAD,  ROCKVILLE CENTRE</td>\n",
       "      <td>1/23/2024</td>\n",
       "      <td>None</td>\n",
       "      <td>None</td>\n",
       "      <td>Not Critical Violation</td>\n",
       "      <td>0.0</td>\n",
       "      <td>0.0</td>\n",
       "      <td>0.0</td>\n",
       "      <td>Nassau  County</td>\n",
       "      <td>...</td>\n",
       "      <td>None</td>\n",
       "      <td>ROCKVILLE CENTRE UFSD</td>\n",
       "      <td>None</td>\n",
       "      <td>None</td>\n",
       "      <td>683483.0</td>\n",
       "      <td>Inspection</td>\n",
       "      <td>Score: 0/0 A|Permit Expires: August 31, 2024...</td>\n",
       "      <td>NY</td>\n",
       "      <td>40.668712</td>\n",
       "      <td>-73.624262</td>\n",
       "    </tr>\n",
       "    <tr>\n",
       "      <th>1120051</th>\n",
       "      <td>GARY'S RESTAURANT</td>\n",
       "      <td>6367 LAKE SHORE ROAD S,  VERONA BEACH</td>\n",
       "      <td>7/8/2016</td>\n",
       "      <td>None</td>\n",
       "      <td>None</td>\n",
       "      <td>Not Critical Violation</td>\n",
       "      <td>0.0</td>\n",
       "      <td>0.0</td>\n",
       "      <td>0.0</td>\n",
       "      <td>Oneida County</td>\n",
       "      <td>...</td>\n",
       "      <td>None</td>\n",
       "      <td>None</td>\n",
       "      <td>PESCHEL</td>\n",
       "      <td>DIANNA</td>\n",
       "      <td>288804.0</td>\n",
       "      <td>Inspection</td>\n",
       "      <td>Satisfactory</td>\n",
       "      <td>NY</td>\n",
       "      <td>NaN</td>\n",
       "      <td>NaN</td>\n",
       "    </tr>\n",
       "    <tr>\n",
       "      <th>1197698</th>\n",
       "      <td>SHAMROCK HOUSE</td>\n",
       "      <td>2388 ROUTE 145,  EAST DURHAM</td>\n",
       "      <td>8/21/2014</td>\n",
       "      <td>11C</td>\n",
       "      <td>Food contact surfaces not washed, rinsed and s...</td>\n",
       "      <td>Not Critical Violation</td>\n",
       "      <td>0.0</td>\n",
       "      <td>0.0</td>\n",
       "      <td>4.0</td>\n",
       "      <td>Oneonta District Office</td>\n",
       "      <td>...</td>\n",
       "      <td>None</td>\n",
       "      <td>None</td>\n",
       "      <td>None</td>\n",
       "      <td>None</td>\n",
       "      <td>350585.0</td>\n",
       "      <td>Inspection</td>\n",
       "      <td>None</td>\n",
       "      <td>NY</td>\n",
       "      <td>42.370959</td>\n",
       "      <td>-74.090867</td>\n",
       "    </tr>\n",
       "  </tbody>\n",
       "</table>\n",
       "<p>14 rows × 31 columns</p>\n",
       "</div>"
      ],
      "text/plain": [
       "                                    facility  \\\n",
       "256784         GLEN ST FOOD CENTER & GROCERY   \n",
       "868178                  MALONE MIDDLE SCHOOL   \n",
       "412542   CHINATOWN KITCHEN - LIBERTY VILLAGE   \n",
       "1131266   GEORGE W. MILLER ELEMENTARY SCHOOL   \n",
       "617213        HAPPY GROUP CHINESE RESTAURANT   \n",
       "777308                          RESTAURANT 7   \n",
       "1132890                       OSWEGO THEATRE   \n",
       "752594               CARLTON RECREATION HALL   \n",
       "401869                     Mullin's Catering   \n",
       "1124251              GUIDO'S FROZEN DESSERTS   \n",
       "1026364         Limp Lizard Roadside Cantina   \n",
       "1126349   RVC SD - FRANCIS F WILSON ELEM SCH   \n",
       "1120051                    GARY'S RESTAURANT   \n",
       "1197698                       SHAMROCK HOUSE   \n",
       "\n",
       "                                           address date_of_inspection  \\\n",
       "256784                 33  GLEN STREET,  GLEN COVE          4/23/2019   \n",
       "868178                  15 FRANCIS STREET,  MALONE          5/24/2016   \n",
       "412542                 127 Route 52 East,  Liberty          4/24/2018   \n",
       "1131266                  50 BLAUVELT ROAD,  NANUET          10/4/2021   \n",
       "617213         1150 MERRICK AVENUE,  NORTH MERRICK           2/1/2024   \n",
       "777308         96 WASHINGTON STREET,  POUGHKEEPSIE          1/13/2023   \n",
       "1132890            138 WEST SECOND STREET,  OSWEGO         11/23/2004   \n",
       "752594   1853 OAK ORCHARD  ROAD,  ALBION, NEW YORK          7/17/2015   \n",
       "401869            1180A US Highway 11,  Gouverneur          10/2/2012   \n",
       "1124251                  160 QUAIL STREET,  ALBANY          4/26/1995   \n",
       "1026364     224 NORTH Main STREET,  North Syracuse           4/6/2016   \n",
       "1126349      25 BUCKINGHAM ROAD,  ROCKVILLE CENTRE          1/23/2024   \n",
       "1120051      6367 LAKE SHORE ROAD S,  VERONA BEACH           7/8/2016   \n",
       "1197698               2388 ROUTE 145,  EAST DURHAM          8/21/2014   \n",
       "\n",
       "        violation_item                              violation_description  \\\n",
       "256784              16  Miscellaneous, Economic Violation, Choking Pos...   \n",
       "868178             11D   Non food contact surfaces of equipment not clean   \n",
       "412542             15A  Floors, walls, ceilings, not smooth, properly ...   \n",
       "1131266           None                                               None   \n",
       "617213              8A  Food not protected during storage, preparation...   \n",
       "777308             10B  Non-food contact surfaces and equipment are im...   \n",
       "1132890           None                                               None   \n",
       "752594             13B  Garbage storage areas not properly constructed...   \n",
       "401869             12E  Handwashing facilities inaccessible, improperl...   \n",
       "1124251           None                                               None   \n",
       "1026364            11D   Non food contact surfaces of equipment not clean   \n",
       "1126349           None                                               None   \n",
       "1120051           None                                               None   \n",
       "1197698            11C  Food contact surfaces not washed, rinsed and s...   \n",
       "\n",
       "             critical_violation  total_critical_violations  \\\n",
       "256784   Not Critical Violation                        1.0   \n",
       "868178   Not Critical Violation                        0.0   \n",
       "412542   Not Critical Violation                        1.0   \n",
       "1131266  Not Critical Violation                        0.0   \n",
       "617213   Not Critical Violation                        0.0   \n",
       "777308   Not Critical Violation                        1.0   \n",
       "1132890  Not Critical Violation                        NaN   \n",
       "752594   Not Critical Violation                        1.0   \n",
       "401869   Not Critical Violation                        0.0   \n",
       "1124251  Not Critical Violation                        NaN   \n",
       "1026364  Not Critical Violation                        0.0   \n",
       "1126349  Not Critical Violation                        0.0   \n",
       "1120051  Not Critical Violation                        0.0   \n",
       "1197698  Not Critical Violation                        0.0   \n",
       "\n",
       "         total_crit_not_corrected  total_noncritical_violations  \\\n",
       "256784                        0.0                           6.0   \n",
       "868178                        0.0                           2.0   \n",
       "412542                        0.0                          14.0   \n",
       "1131266                       0.0                           0.0   \n",
       "617213                        0.0                           4.0   \n",
       "777308                        0.0                           8.0   \n",
       "1132890                       NaN                           NaN   \n",
       "752594                        0.0                          11.0   \n",
       "401869                        0.0                          22.0   \n",
       "1124251                       NaN                           NaN   \n",
       "1026364                       0.0                           4.0   \n",
       "1126349                       0.0                           0.0   \n",
       "1120051                       0.0                           0.0   \n",
       "1197698                       0.0                           4.0   \n",
       "\n",
       "              local_health_department  ...  \\\n",
       "256784                 Nassau  County  ...   \n",
       "868178   Saranac Lake District Office  ...   \n",
       "412542     Middletown District Office  ...   \n",
       "1131266               Rockland County  ...   \n",
       "617213                 Nassau  County  ...   \n",
       "777308                Dutchess County  ...   \n",
       "1132890                 Oswego County  ...   \n",
       "752594                 Orleans County  ...   \n",
       "401869         Canton District Office  ...   \n",
       "1124251                 Albany County  ...   \n",
       "1026364               Onondaga County  ...   \n",
       "1126349                Nassau  County  ...   \n",
       "1120051                 Oneida County  ...   \n",
       "1197698       Oneonta District Office  ...   \n",
       "\n",
       "                              permitted_dba  \\\n",
       "256784                                 None   \n",
       "868178                                 None   \n",
       "412542                                 None   \n",
       "1131266  GEORGE W. MILLER ELEMENTARY SCHOOL   \n",
       "617213                                 None   \n",
       "777308                                 None   \n",
       "1132890                      OSWEGO THEATRE   \n",
       "752594                                 None   \n",
       "401869                                 None   \n",
       "1124251                                None   \n",
       "1026364                                None   \n",
       "1126349                                None   \n",
       "1120051                                None   \n",
       "1197698                                None   \n",
       "\n",
       "                       permitted_corp_name perm_operator_last_name  \\\n",
       "256784                           LTMN CORP                    None   \n",
       "868178   ARAMARK EDUCATIONAL SERVICES, LLC                  POTTER   \n",
       "412542              Liberty Chinatown Inc.                   Zheng   \n",
       "1131266          NANUET UNION FREE SCHOOLS                  GREGOR   \n",
       "617213                HAPPY WOK 1150, INC.                    None   \n",
       "777308                ACUARIO SERVICES INC                   REYES   \n",
       "1132890           ZURICH CINEMAS OF OSWEGO                     LEE   \n",
       "752594               CARLTON FIRE CO NO. 1                  YOCKEL   \n",
       "401869    Mullin's Catering & Take-Out LLC                  Mullin   \n",
       "1124251                         AMMG, INC.                   GUIDO   \n",
       "1026364                       Lizard, Inc.                 Orlando   \n",
       "1126349              ROCKVILLE CENTRE UFSD                    None   \n",
       "1120051                               None                 PESCHEL   \n",
       "1197698                               None                    None   \n",
       "\n",
       "        perm_operator_first_name nys_health_operation_id  inspection_type  \\\n",
       "256784                      None               1014190.0    Re-Inspection   \n",
       "868178                    VICKIE                845419.0       Inspection   \n",
       "412542                   Tian He                347759.0       Inspection   \n",
       "1131266                  MARYANN                303305.0       Inspection   \n",
       "617213                      None               1102040.0    Re-Inspection   \n",
       "777308                     JESUS               1075460.0       Inspection   \n",
       "1132890                     RYAN                296578.0       Inspection   \n",
       "752594                    THOMAS                295041.0       Inspection   \n",
       "401869             Daniel & Tina                583370.0       Inspection   \n",
       "1124251                     MARK                251213.0       Inspection   \n",
       "1026364                  Charles                718531.0    Re-Inspection   \n",
       "1126349                     None                683483.0       Inspection   \n",
       "1120051                  DIANNA                 288804.0       Inspection   \n",
       "1197698                     None                350585.0       Inspection   \n",
       "\n",
       "                                       inspection_comments fs_facility_state  \\\n",
       "256784   Nassau County Food Manager Training Certificat...                NY   \n",
       "868178   Facility is using time as a public health cont...                NY   \n",
       "412542   Steam table - egg drop soup 154F, wontons 144F...                NY   \n",
       "1131266  No violations noted at this time, recommend is...                NY   \n",
       "617213                                                None                NY   \n",
       "777308                                         Capacity 19                NY   \n",
       "1132890                                               None                NY   \n",
       "752594   James Tabor was present during inspection. He ...                NY   \n",
       "401869                                                None                NY   \n",
       "1124251                                               None                NY   \n",
       "1026364  Reinspection this date for violations which we...                NY   \n",
       "1126349  Score: 0/0 A|Permit Expires: August 31, 2024...                NY   \n",
       "1120051                                       Satisfactory                NY   \n",
       "1197698                                               None                NY   \n",
       "\n",
       "          latitude  longitude  \n",
       "256784         NaN        NaN  \n",
       "868178   44.846259 -74.296187  \n",
       "412542   41.784024 -74.719861  \n",
       "1131266  41.085784 -74.006101  \n",
       "617213         NaN        NaN  \n",
       "777308         NaN        NaN  \n",
       "1132890  43.455898 -76.512167  \n",
       "752594   43.323958 -78.190804  \n",
       "401869   44.323291 -75.483858  \n",
       "1124251  42.663112 -73.775838  \n",
       "1026364  43.136658 -76.129057  \n",
       "1126349  40.668712 -73.624262  \n",
       "1120051        NaN        NaN  \n",
       "1197698  42.370959 -74.090867  \n",
       "\n",
       "[14 rows x 31 columns]"
      ]
     },
     "execution_count": 11,
     "metadata": {},
     "output_type": "execute_result"
    }
   ],
   "source": [
    "insp = pd.read_sql_query(sql,engine)\n",
    "insp.sample(14)"
   ]
  },
  {
   "cell_type": "markdown",
   "metadata": {},
   "source": [
    "SHAPE OF THE DATASET"
   ]
  },
  {
   "cell_type": "code",
   "execution_count": 13,
   "metadata": {},
   "outputs": [
    {
     "data": {
      "text/plain": [
       "(1310873, 31)"
      ]
     },
     "execution_count": 13,
     "metadata": {},
     "output_type": "execute_result"
    }
   ],
   "source": [
    "insp.shape"
   ]
  },
  {
   "cell_type": "markdown",
   "metadata": {},
   "source": [
    "NULL VALUES"
   ]
  },
  {
   "cell_type": "code",
   "execution_count": 15,
   "metadata": {},
   "outputs": [
    {
     "data": {
      "text/plain": [
       "facility                             39\n",
       "address                              41\n",
       "date_of_inspection                   39\n",
       "violation_item                   241221\n",
       "violation_description            241221\n",
       "critical_violation                   39\n",
       "total_critical_violations         80801\n",
       "total_crit_not_corrected          81419\n",
       "total_noncritical_violations      80672\n",
       "local_health_department              39\n",
       "county                               39\n",
       "facility_code                        39\n",
       "facility_address                     45\n",
       "facility_city                       172\n",
       "facility_postal_zipcode             172\n",
       "nysdoh_gazetteer                     39\n",
       "facility_municipality                39\n",
       "operation_name                       39\n",
       "permit_expiration_date            15672\n",
       "food_service_type                    39\n",
       "food_service_description             39\n",
       "permitted_dba                   1177058\n",
       "permitted_corp_name              305477\n",
       "perm_operator_last_name          334093\n",
       "perm_operator_first_name         335787\n",
       "nys_health_operation_id              39\n",
       "inspection_type                      39\n",
       "inspection_comments              687096\n",
       "fs_facility_state                    39\n",
       "latitude                         344431\n",
       "longitude                        344431\n",
       "dtype: int64"
      ]
     },
     "execution_count": 15,
     "metadata": {},
     "output_type": "execute_result"
    }
   ],
   "source": [
    "insp.isnull().sum()"
   ]
  },
  {
   "cell_type": "markdown",
   "metadata": {},
   "source": [
    "COLUMNS"
   ]
  },
  {
   "cell_type": "code",
   "execution_count": 17,
   "metadata": {},
   "outputs": [
    {
     "data": {
      "text/plain": [
       "Index(['facility', 'address', 'date_of_inspection', 'violation_item',\n",
       "       'violation_description', 'critical_violation',\n",
       "       'total_critical_violations', 'total_crit_not_corrected',\n",
       "       'total_noncritical_violations', 'local_health_department', 'county',\n",
       "       'facility_code', 'facility_address', 'facility_city',\n",
       "       'facility_postal_zipcode', 'nysdoh_gazetteer', 'facility_municipality',\n",
       "       'operation_name', 'permit_expiration_date', 'food_service_type',\n",
       "       'food_service_description', 'permitted_dba', 'permitted_corp_name',\n",
       "       'perm_operator_last_name', 'perm_operator_first_name',\n",
       "       'nys_health_operation_id', 'inspection_type', 'inspection_comments',\n",
       "       'fs_facility_state', 'latitude', 'longitude'],\n",
       "      dtype='object')"
      ]
     },
     "execution_count": 17,
     "metadata": {},
     "output_type": "execute_result"
    }
   ],
   "source": [
    "insp.columns"
   ]
  },
  {
   "cell_type": "markdown",
   "metadata": {},
   "source": [
    "COLUMNS INFO"
   ]
  },
  {
   "cell_type": "code",
   "execution_count": 19,
   "metadata": {},
   "outputs": [
    {
     "name": "stdout",
     "output_type": "stream",
     "text": [
      "<class 'pandas.core.frame.DataFrame'>\n",
      "RangeIndex: 1310873 entries, 0 to 1310872\n",
      "Data columns (total 31 columns):\n",
      " #   Column                        Non-Null Count    Dtype  \n",
      "---  ------                        --------------    -----  \n",
      " 0   facility                      1310834 non-null  object \n",
      " 1   address                       1310832 non-null  object \n",
      " 2   date_of_inspection            1310834 non-null  object \n",
      " 3   violation_item                1069652 non-null  object \n",
      " 4   violation_description         1069652 non-null  object \n",
      " 5   critical_violation            1310834 non-null  object \n",
      " 6   total_critical_violations     1230072 non-null  float64\n",
      " 7   total_crit_not_corrected      1229454 non-null  float64\n",
      " 8   total_noncritical_violations  1230201 non-null  float64\n",
      " 9   local_health_department       1310834 non-null  object \n",
      " 10  county                        1310834 non-null  object \n",
      " 11  facility_code                 1310834 non-null  object \n",
      " 12  facility_address              1310828 non-null  object \n",
      " 13  facility_city                 1310701 non-null  object \n",
      " 14  facility_postal_zipcode       1310701 non-null  object \n",
      " 15  nysdoh_gazetteer              1310834 non-null  float64\n",
      " 16  facility_municipality         1310834 non-null  object \n",
      " 17  operation_name                1310834 non-null  object \n",
      " 18  permit_expiration_date        1295201 non-null  object \n",
      " 19  food_service_type             1310834 non-null  object \n",
      " 20  food_service_description      1310834 non-null  object \n",
      " 21  permitted_dba                 133815 non-null   object \n",
      " 22  permitted_corp_name           1005396 non-null  object \n",
      " 23  perm_operator_last_name       976780 non-null   object \n",
      " 24  perm_operator_first_name      975086 non-null   object \n",
      " 25  nys_health_operation_id       1310834 non-null  float64\n",
      " 26  inspection_type               1310834 non-null  object \n",
      " 27  inspection_comments           623777 non-null   object \n",
      " 28  fs_facility_state             1310834 non-null  object \n",
      " 29  latitude                      966442 non-null   float64\n",
      " 30  longitude                     966442 non-null   float64\n",
      "dtypes: float64(7), object(24)\n",
      "memory usage: 310.0+ MB\n"
     ]
    }
   ],
   "source": [
    "insp.info()"
   ]
  },
  {
   "cell_type": "markdown",
   "metadata": {},
   "source": [
    "COLUMN STATS"
   ]
  },
  {
   "cell_type": "code",
   "execution_count": 21,
   "metadata": {},
   "outputs": [
    {
     "data": {
      "text/html": [
       "<div>\n",
       "<style scoped>\n",
       "    .dataframe tbody tr th:only-of-type {\n",
       "        vertical-align: middle;\n",
       "    }\n",
       "\n",
       "    .dataframe tbody tr th {\n",
       "        vertical-align: top;\n",
       "    }\n",
       "\n",
       "    .dataframe thead th {\n",
       "        text-align: right;\n",
       "    }\n",
       "</style>\n",
       "<table border=\"1\" class=\"dataframe\">\n",
       "  <thead>\n",
       "    <tr style=\"text-align: right;\">\n",
       "      <th></th>\n",
       "      <th>total_critical_violations</th>\n",
       "      <th>total_crit_not_corrected</th>\n",
       "      <th>total_noncritical_violations</th>\n",
       "      <th>nysdoh_gazetteer</th>\n",
       "      <th>nys_health_operation_id</th>\n",
       "      <th>latitude</th>\n",
       "      <th>longitude</th>\n",
       "    </tr>\n",
       "  </thead>\n",
       "  <tbody>\n",
       "    <tr>\n",
       "      <th>count</th>\n",
       "      <td>1.230072e+06</td>\n",
       "      <td>1.229454e+06</td>\n",
       "      <td>1.230201e+06</td>\n",
       "      <td>1.310834e+06</td>\n",
       "      <td>1.310834e+06</td>\n",
       "      <td>966442.000000</td>\n",
       "      <td>966442.000000</td>\n",
       "    </tr>\n",
       "    <tr>\n",
       "      <th>mean</th>\n",
       "      <td>8.127939e-01</td>\n",
       "      <td>2.876073e-02</td>\n",
       "      <td>5.250862e+00</td>\n",
       "      <td>3.322587e+05</td>\n",
       "      <td>6.106585e+05</td>\n",
       "      <td>42.319222</td>\n",
       "      <td>-75.191260</td>\n",
       "    </tr>\n",
       "    <tr>\n",
       "      <th>std</th>\n",
       "      <td>1.436214e+00</td>\n",
       "      <td>2.947295e-01</td>\n",
       "      <td>5.160587e+00</td>\n",
       "      <td>1.717231e+05</td>\n",
       "      <td>2.681871e+05</td>\n",
       "      <td>1.278077</td>\n",
       "      <td>2.384062</td>\n",
       "    </tr>\n",
       "    <tr>\n",
       "      <th>min</th>\n",
       "      <td>0.000000e+00</td>\n",
       "      <td>0.000000e+00</td>\n",
       "      <td>0.000000e+00</td>\n",
       "      <td>1.000000e+04</td>\n",
       "      <td>2.500760e+05</td>\n",
       "      <td>-78.976230</td>\n",
       "      <td>-79.761170</td>\n",
       "    </tr>\n",
       "    <tr>\n",
       "      <th>25%</th>\n",
       "      <td>0.000000e+00</td>\n",
       "      <td>0.000000e+00</td>\n",
       "      <td>2.000000e+00</td>\n",
       "      <td>2.269000e+05</td>\n",
       "      <td>3.345810e+05</td>\n",
       "      <td>41.293740</td>\n",
       "      <td>-76.199469</td>\n",
       "    </tr>\n",
       "    <tr>\n",
       "      <th>50%</th>\n",
       "      <td>0.000000e+00</td>\n",
       "      <td>0.000000e+00</td>\n",
       "      <td>4.000000e+00</td>\n",
       "      <td>3.121000e+05</td>\n",
       "      <td>5.770680e+05</td>\n",
       "      <td>42.459788</td>\n",
       "      <td>-74.422349</td>\n",
       "    </tr>\n",
       "    <tr>\n",
       "      <th>75%</th>\n",
       "      <td>1.000000e+00</td>\n",
       "      <td>0.000000e+00</td>\n",
       "      <td>7.000000e+00</td>\n",
       "      <td>4.559000e+05</td>\n",
       "      <td>8.500890e+05</td>\n",
       "      <td>43.090400</td>\n",
       "      <td>-73.791416</td>\n",
       "    </tr>\n",
       "    <tr>\n",
       "      <th>max</th>\n",
       "      <td>8.000000e+01</td>\n",
       "      <td>8.800000e+01</td>\n",
       "      <td>9.800000e+01</td>\n",
       "      <td>6.158000e+05</td>\n",
       "      <td>1.148773e+06</td>\n",
       "      <td>46.469864</td>\n",
       "      <td>76.308757</td>\n",
       "    </tr>\n",
       "  </tbody>\n",
       "</table>\n",
       "</div>"
      ],
      "text/plain": [
       "       total_critical_violations  total_crit_not_corrected  \\\n",
       "count               1.230072e+06              1.229454e+06   \n",
       "mean                8.127939e-01              2.876073e-02   \n",
       "std                 1.436214e+00              2.947295e-01   \n",
       "min                 0.000000e+00              0.000000e+00   \n",
       "25%                 0.000000e+00              0.000000e+00   \n",
       "50%                 0.000000e+00              0.000000e+00   \n",
       "75%                 1.000000e+00              0.000000e+00   \n",
       "max                 8.000000e+01              8.800000e+01   \n",
       "\n",
       "       total_noncritical_violations  nysdoh_gazetteer  \\\n",
       "count                  1.230201e+06      1.310834e+06   \n",
       "mean                   5.250862e+00      3.322587e+05   \n",
       "std                    5.160587e+00      1.717231e+05   \n",
       "min                    0.000000e+00      1.000000e+04   \n",
       "25%                    2.000000e+00      2.269000e+05   \n",
       "50%                    4.000000e+00      3.121000e+05   \n",
       "75%                    7.000000e+00      4.559000e+05   \n",
       "max                    9.800000e+01      6.158000e+05   \n",
       "\n",
       "       nys_health_operation_id       latitude      longitude  \n",
       "count             1.310834e+06  966442.000000  966442.000000  \n",
       "mean              6.106585e+05      42.319222     -75.191260  \n",
       "std               2.681871e+05       1.278077       2.384062  \n",
       "min               2.500760e+05     -78.976230     -79.761170  \n",
       "25%               3.345810e+05      41.293740     -76.199469  \n",
       "50%               5.770680e+05      42.459788     -74.422349  \n",
       "75%               8.500890e+05      43.090400     -73.791416  \n",
       "max               1.148773e+06      46.469864      76.308757  "
      ]
     },
     "execution_count": 21,
     "metadata": {},
     "output_type": "execute_result"
    }
   ],
   "source": [
    "insp.describe()"
   ]
  },
  {
   "cell_type": "markdown",
   "metadata": {},
   "source": [
    "DUPLICATED ROWS"
   ]
  },
  {
   "cell_type": "code",
   "execution_count": 23,
   "metadata": {},
   "outputs": [
    {
     "data": {
      "text/plain": [
       "350"
      ]
     },
     "execution_count": 23,
     "metadata": {},
     "output_type": "execute_result"
    }
   ],
   "source": [
    "insp.duplicated().sum()"
   ]
  },
  {
   "cell_type": "code",
   "execution_count": 25,
   "metadata": {},
   "outputs": [],
   "source": [
    "insp.drop_duplicates(inplace=True)"
   ]
  },
  {
   "cell_type": "code",
   "execution_count": 27,
   "metadata": {},
   "outputs": [
    {
     "data": {
      "text/plain": [
       "0"
      ]
     },
     "execution_count": 27,
     "metadata": {},
     "output_type": "execute_result"
    }
   ],
   "source": [
    "insp.duplicated().sum()"
   ]
  },
  {
   "cell_type": "markdown",
   "metadata": {},
   "source": [
    "UNIQUE VALUES IN EACH COLUMN"
   ]
  },
  {
   "cell_type": "code",
   "execution_count": 29,
   "metadata": {},
   "outputs": [
    {
     "data": {
      "text/plain": [
       "facility                         31971\n",
       "address                          31989\n",
       "date_of_inspection                9463\n",
       "violation_item                      98\n",
       "violation_description              116\n",
       "critical_violation                   2\n",
       "total_critical_violations           27\n",
       "total_crit_not_corrected            14\n",
       "total_noncritical_violations        72\n",
       "local_health_department             45\n",
       "county                              55\n",
       "facility_code                    33787\n",
       "facility_address                 30980\n",
       "facility_city                     1919\n",
       "facility_postal_zipcode           1799\n",
       "nysdoh_gazetteer                  1483\n",
       "facility_municipality              914\n",
       "operation_name                   34575\n",
       "permit_expiration_date             404\n",
       "food_service_type                    4\n",
       "food_service_description            26\n",
       "permitted_dba                     1913\n",
       "permitted_corp_name              22671\n",
       "perm_operator_last_name          13745\n",
       "perm_operator_first_name          7328\n",
       "nys_health_operation_id          37252\n",
       "inspection_type                      2\n",
       "inspection_comments             185714\n",
       "fs_facility_state                    1\n",
       "latitude                         17234\n",
       "longitude                        17288\n",
       "dtype: int64"
      ]
     },
     "execution_count": 29,
     "metadata": {},
     "output_type": "execute_result"
    }
   ],
   "source": [
    "insp.nunique()"
   ]
  },
  {
   "cell_type": "markdown",
   "metadata": {},
   "source": [
    "EDA THROUGH AUTOVIZ"
   ]
  },
  {
   "cell_type": "code",
   "execution_count": 16,
   "metadata": {},
   "outputs": [
    {
     "name": "stdout",
     "output_type": "stream",
     "text": [
      "Imported v0.1.905. Please call AutoViz in this sequence:\n",
      "    AV = AutoViz_Class()\n",
      "    %matplotlib inline\n",
      "    dfte = AV.AutoViz(filename, sep=',', depVar='', dfte=None, header=0, verbose=1, lowess=False,\n",
      "               chart_format='svg',max_rows_analyzed=150000,max_cols_analyzed=30, save_plot_dir=None)\n"
     ]
    }
   ],
   "source": [
    "from autoviz import AutoViz_Class\n",
    "AV = AutoViz_Class()\n"
   ]
  },
  {
   "cell_type": "code",
   "execution_count": 17,
   "metadata": {},
   "outputs": [
    {
     "name": "stdout",
     "output_type": "stream",
     "text": [
      "Bokeh version: 3.4.2\n",
      "AutoViz version: 0.1.905\n",
      "HoloViews version: 1.19.1\n"
     ]
    }
   ],
   "source": [
    "import bokeh\n",
    "import autoviz\n",
    "import holoviews\n",
    "\n",
    "print(f\"Bokeh version: {bokeh.__version__}\")\n",
    "print(f\"AutoViz version: {autoviz.__version__}\")\n",
    "print(f\"HoloViews version: {holoviews.__version__}\")"
   ]
  },
  {
   "cell_type": "code",
   "execution_count": 18,
   "metadata": {},
   "outputs": [
    {
     "data": {
      "text/html": [
       "    <style>\n",
       "        .bk-notebook-logo {\n",
       "            display: block;\n",
       "            width: 20px;\n",
       "            height: 20px;\n",
       "            background-image: url(data:image/png;base64,iVBORw0KGgoAAAANSUhEUgAAABQAAAAUCAYAAACNiR0NAAAABHNCSVQICAgIfAhkiAAAAAlwSFlzAAALEgAACxIB0t1+/AAAABx0RVh0U29mdHdhcmUAQWRvYmUgRmlyZXdvcmtzIENTNui8sowAAAOkSURBVDiNjZRtaJVlGMd/1/08zzln5zjP1LWcU9N0NkN8m2CYjpgQYQXqSs0I84OLIC0hkEKoPtiH3gmKoiJDU7QpLgoLjLIQCpEsNJ1vqUOdO7ppbuec5+V+rj4ctwzd8IIbbi6u+8f1539dt3A78eXC7QizUF7gyV1fD1Yqg4JWz84yffhm0qkFqBogB9rM8tZdtwVsPUhWhGcFJngGeWrPzHm5oaMmkfEg1usvLFyc8jLRqDOMru7AyC8saQr7GG7f5fvDeH7Ej8CM66nIF+8yngt6HWaKh7k49Soy9nXurCi1o3qUbS3zWfrYeQDTB/Qj6kX6Ybhw4B+bOYoLKCC9H3Nu/leUTZ1JdRWkkn2ldcCamzrcf47KKXdAJllSlxAOkRgyHsGC/zRday5Qld9DyoM4/q/rUoy/CXh3jzOu3bHUVZeU+DEn8FInkPBFlu3+nW3Nw0mk6vCDiWg8CeJaxEwuHS3+z5RgY+YBR6V1Z1nxSOfoaPa4LASWxxdNp+VWTk7+4vzaou8v8PN+xo+KY2xsw6une2frhw05CTYOmQvsEhjhWjn0bmXPjpE1+kplmmkP3suftwTubK9Vq22qKmrBhpY4jvd5afdRA3wGjFAgcnTK2s4hY0/GPNIb0nErGMCRxWOOX64Z8RAC4oCXdklmEvcL8o0BfkNK4lUg9HTl+oPlQxdNo3Mg4Nv175e/1LDGzZen30MEjRUtmXSfiTVu1kK8W4txyV6BMKlbgk3lMwYCiusNy9fVfvvwMxv8Ynl6vxoByANLTWplvuj/nF9m2+PDtt1eiHPBr1oIfhCChQMBw6Aw0UulqTKZdfVvfG7VcfIqLG9bcldL/+pdWTLxLUy8Qq38heUIjh4XlzZxzQm19lLFlr8vdQ97rjZVOLf8nclzckbcD4wxXMidpX30sFd37Fv/GtwwhzhxGVAprjbg0gCAEeIgwCZyTV2Z1REEW8O4py0wsjeloKoMr6iCY6dP92H6Vw/oTyICIthibxjm/DfN9lVz8IqtqKYLUXfoKVMVQVVJOElGjrnnUt9T9wbgp8AyYKaGlqingHZU/uG2NTZSVqwHQTWkx9hxjkpWDaCg6Ckj5qebgBVbT3V3NNXMSiWSDdGV3hrtzla7J+duwPOToIg42ChPQOQjspnSlp1V+Gjdged7+8UN5CRAV7a5EdFNwCjEaBR27b3W890TE7g24NAP/mMDXRWrGoFPQI9ls/MWO2dWFAar/xcOIImbbpA3zgAAAABJRU5ErkJggg==);\n",
       "        }\n",
       "    </style>\n",
       "    <div>\n",
       "        <a href=\"https://bokeh.org\" target=\"_blank\" class=\"bk-notebook-logo\"></a>\n",
       "        <span id=\"fdba997e-8360-4d19-a88c-62ef407a6864\">Loading BokehJS ...</span>\n",
       "    </div>\n"
      ]
     },
     "metadata": {},
     "output_type": "display_data"
    },
    {
     "data": {
      "application/javascript": [
       "'use strict';\n",
       "(function(root) {\n",
       "  function now() {\n",
       "    return new Date();\n",
       "  }\n",
       "\n",
       "  const force = true;\n",
       "\n",
       "  if (typeof root._bokeh_onload_callbacks === \"undefined\" || force === true) {\n",
       "    root._bokeh_onload_callbacks = [];\n",
       "    root._bokeh_is_loading = undefined;\n",
       "  }\n",
       "\n",
       "const JS_MIME_TYPE = 'application/javascript';\n",
       "  const HTML_MIME_TYPE = 'text/html';\n",
       "  const EXEC_MIME_TYPE = 'application/vnd.bokehjs_exec.v0+json';\n",
       "  const CLASS_NAME = 'output_bokeh rendered_html';\n",
       "\n",
       "  /**\n",
       "   * Render data to the DOM node\n",
       "   */\n",
       "  function render(props, node) {\n",
       "    const script = document.createElement(\"script\");\n",
       "    node.appendChild(script);\n",
       "  }\n",
       "\n",
       "  /**\n",
       "   * Handle when an output is cleared or removed\n",
       "   */\n",
       "  function handleClearOutput(event, handle) {\n",
       "    function drop(id) {\n",
       "      const view = Bokeh.index.get_by_id(id)\n",
       "      if (view != null) {\n",
       "        view.model.document.clear()\n",
       "        Bokeh.index.delete(view)\n",
       "      }\n",
       "    }\n",
       "\n",
       "    const cell = handle.cell;\n",
       "\n",
       "    const id = cell.output_area._bokeh_element_id;\n",
       "    const server_id = cell.output_area._bokeh_server_id;\n",
       "\n",
       "    // Clean up Bokeh references\n",
       "    if (id != null) {\n",
       "      drop(id)\n",
       "    }\n",
       "\n",
       "    if (server_id !== undefined) {\n",
       "      // Clean up Bokeh references\n",
       "      const cmd_clean = \"from bokeh.io.state import curstate; print(curstate().uuid_to_server['\" + server_id + \"'].get_sessions()[0].document.roots[0]._id)\";\n",
       "      cell.notebook.kernel.execute(cmd_clean, {\n",
       "        iopub: {\n",
       "          output: function(msg) {\n",
       "            const id = msg.content.text.trim()\n",
       "            drop(id)\n",
       "          }\n",
       "        }\n",
       "      });\n",
       "      // Destroy server and session\n",
       "      const cmd_destroy = \"import bokeh.io.notebook as ion; ion.destroy_server('\" + server_id + \"')\";\n",
       "      cell.notebook.kernel.execute(cmd_destroy);\n",
       "    }\n",
       "  }\n",
       "\n",
       "  /**\n",
       "   * Handle when a new output is added\n",
       "   */\n",
       "  function handleAddOutput(event, handle) {\n",
       "    const output_area = handle.output_area;\n",
       "    const output = handle.output;\n",
       "\n",
       "    // limit handleAddOutput to display_data with EXEC_MIME_TYPE content only\n",
       "    if ((output.output_type != \"display_data\") || (!Object.prototype.hasOwnProperty.call(output.data, EXEC_MIME_TYPE))) {\n",
       "      return\n",
       "    }\n",
       "\n",
       "    const toinsert = output_area.element.find(\".\" + CLASS_NAME.split(' ')[0]);\n",
       "\n",
       "    if (output.metadata[EXEC_MIME_TYPE][\"id\"] !== undefined) {\n",
       "      toinsert[toinsert.length - 1].firstChild.textContent = output.data[JS_MIME_TYPE];\n",
       "      // store reference to embed id on output_area\n",
       "      output_area._bokeh_element_id = output.metadata[EXEC_MIME_TYPE][\"id\"];\n",
       "    }\n",
       "    if (output.metadata[EXEC_MIME_TYPE][\"server_id\"] !== undefined) {\n",
       "      const bk_div = document.createElement(\"div\");\n",
       "      bk_div.innerHTML = output.data[HTML_MIME_TYPE];\n",
       "      const script_attrs = bk_div.children[0].attributes;\n",
       "      for (let i = 0; i < script_attrs.length; i++) {\n",
       "        toinsert[toinsert.length - 1].firstChild.setAttribute(script_attrs[i].name, script_attrs[i].value);\n",
       "        toinsert[toinsert.length - 1].firstChild.textContent = bk_div.children[0].textContent\n",
       "      }\n",
       "      // store reference to server id on output_area\n",
       "      output_area._bokeh_server_id = output.metadata[EXEC_MIME_TYPE][\"server_id\"];\n",
       "    }\n",
       "  }\n",
       "\n",
       "  function register_renderer(events, OutputArea) {\n",
       "\n",
       "    function append_mime(data, metadata, element) {\n",
       "      // create a DOM node to render to\n",
       "      const toinsert = this.create_output_subarea(\n",
       "        metadata,\n",
       "        CLASS_NAME,\n",
       "        EXEC_MIME_TYPE\n",
       "      );\n",
       "      this.keyboard_manager.register_events(toinsert);\n",
       "      // Render to node\n",
       "      const props = {data: data, metadata: metadata[EXEC_MIME_TYPE]};\n",
       "      render(props, toinsert[toinsert.length - 1]);\n",
       "      element.append(toinsert);\n",
       "      return toinsert\n",
       "    }\n",
       "\n",
       "    /* Handle when an output is cleared or removed */\n",
       "    events.on('clear_output.CodeCell', handleClearOutput);\n",
       "    events.on('delete.Cell', handleClearOutput);\n",
       "\n",
       "    /* Handle when a new output is added */\n",
       "    events.on('output_added.OutputArea', handleAddOutput);\n",
       "\n",
       "    /**\n",
       "     * Register the mime type and append_mime function with output_area\n",
       "     */\n",
       "    OutputArea.prototype.register_mime_type(EXEC_MIME_TYPE, append_mime, {\n",
       "      /* Is output safe? */\n",
       "      safe: true,\n",
       "      /* Index of renderer in `output_area.display_order` */\n",
       "      index: 0\n",
       "    });\n",
       "  }\n",
       "\n",
       "  // register the mime type if in Jupyter Notebook environment and previously unregistered\n",
       "  if (root.Jupyter !== undefined) {\n",
       "    const events = require('base/js/events');\n",
       "    const OutputArea = require('notebook/js/outputarea').OutputArea;\n",
       "\n",
       "    if (OutputArea.prototype.mime_types().indexOf(EXEC_MIME_TYPE) == -1) {\n",
       "      register_renderer(events, OutputArea);\n",
       "    }\n",
       "  }\n",
       "  if (typeof (root._bokeh_timeout) === \"undefined\" || force === true) {\n",
       "    root._bokeh_timeout = Date.now() + 5000;\n",
       "    root._bokeh_failed_load = false;\n",
       "  }\n",
       "\n",
       "  const NB_LOAD_WARNING = {'data': {'text/html':\n",
       "     \"<div style='background-color: #fdd'>\\n\"+\n",
       "     \"<p>\\n\"+\n",
       "     \"BokehJS does not appear to have successfully loaded. If loading BokehJS from CDN, this \\n\"+\n",
       "     \"may be due to a slow or bad network connection. Possible fixes:\\n\"+\n",
       "     \"</p>\\n\"+\n",
       "     \"<ul>\\n\"+\n",
       "     \"<li>re-rerun `output_notebook()` to attempt to load from CDN again, or</li>\\n\"+\n",
       "     \"<li>use INLINE resources instead, as so:</li>\\n\"+\n",
       "     \"</ul>\\n\"+\n",
       "     \"<code>\\n\"+\n",
       "     \"from bokeh.resources import INLINE\\n\"+\n",
       "     \"output_notebook(resources=INLINE)\\n\"+\n",
       "     \"</code>\\n\"+\n",
       "     \"</div>\"}};\n",
       "\n",
       "  function display_loaded(error = null) {\n",
       "    const el = document.getElementById(\"fdba997e-8360-4d19-a88c-62ef407a6864\");\n",
       "    if (el != null) {\n",
       "      const html = (() => {\n",
       "        if (typeof root.Bokeh === \"undefined\") {\n",
       "          if (error == null) {\n",
       "            return \"BokehJS is loading ...\";\n",
       "          } else {\n",
       "            return \"BokehJS failed to load.\";\n",
       "          }\n",
       "        } else {\n",
       "          const prefix = `BokehJS ${root.Bokeh.version}`;\n",
       "          if (error == null) {\n",
       "            return `${prefix} successfully loaded.`;\n",
       "          } else {\n",
       "            return `${prefix} <b>encountered errors</b> while loading and may not function as expected.`;\n",
       "          }\n",
       "        }\n",
       "      })();\n",
       "      el.innerHTML = html;\n",
       "\n",
       "      if (error != null) {\n",
       "        const wrapper = document.createElement(\"div\");\n",
       "        wrapper.style.overflow = \"auto\";\n",
       "        wrapper.style.height = \"5em\";\n",
       "        wrapper.style.resize = \"vertical\";\n",
       "        const content = document.createElement(\"div\");\n",
       "        content.style.fontFamily = \"monospace\";\n",
       "        content.style.whiteSpace = \"pre-wrap\";\n",
       "        content.style.backgroundColor = \"rgb(255, 221, 221)\";\n",
       "        content.textContent = error.stack ?? error.toString();\n",
       "        wrapper.append(content);\n",
       "        el.append(wrapper);\n",
       "      }\n",
       "    } else if (Date.now() < root._bokeh_timeout) {\n",
       "      setTimeout(() => display_loaded(error), 100);\n",
       "    }\n",
       "  }\n",
       "\n",
       "  function run_callbacks() {\n",
       "    try {\n",
       "      root._bokeh_onload_callbacks.forEach(function(callback) {\n",
       "        if (callback != null)\n",
       "          callback();\n",
       "      });\n",
       "    } finally {\n",
       "      delete root._bokeh_onload_callbacks\n",
       "    }\n",
       "    console.debug(\"Bokeh: all callbacks have finished\");\n",
       "  }\n",
       "\n",
       "  function load_libs(css_urls, js_urls, callback) {\n",
       "    if (css_urls == null) css_urls = [];\n",
       "    if (js_urls == null) js_urls = [];\n",
       "\n",
       "    root._bokeh_onload_callbacks.push(callback);\n",
       "    if (root._bokeh_is_loading > 0) {\n",
       "      console.debug(\"Bokeh: BokehJS is being loaded, scheduling callback at\", now());\n",
       "      return null;\n",
       "    }\n",
       "    if (js_urls == null || js_urls.length === 0) {\n",
       "      run_callbacks();\n",
       "      return null;\n",
       "    }\n",
       "    console.debug(\"Bokeh: BokehJS not loaded, scheduling load and callback at\", now());\n",
       "    root._bokeh_is_loading = css_urls.length + js_urls.length;\n",
       "\n",
       "    function on_load() {\n",
       "      root._bokeh_is_loading--;\n",
       "      if (root._bokeh_is_loading === 0) {\n",
       "        console.debug(\"Bokeh: all BokehJS libraries/stylesheets loaded\");\n",
       "        run_callbacks()\n",
       "      }\n",
       "    }\n",
       "\n",
       "    function on_error(url) {\n",
       "      console.error(\"failed to load \" + url);\n",
       "    }\n",
       "\n",
       "    for (let i = 0; i < css_urls.length; i++) {\n",
       "      const url = css_urls[i];\n",
       "      const element = document.createElement(\"link\");\n",
       "      element.onload = on_load;\n",
       "      element.onerror = on_error.bind(null, url);\n",
       "      element.rel = \"stylesheet\";\n",
       "      element.type = \"text/css\";\n",
       "      element.href = url;\n",
       "      console.debug(\"Bokeh: injecting link tag for BokehJS stylesheet: \", url);\n",
       "      document.body.appendChild(element);\n",
       "    }\n",
       "\n",
       "    for (let i = 0; i < js_urls.length; i++) {\n",
       "      const url = js_urls[i];\n",
       "      const element = document.createElement('script');\n",
       "      element.onload = on_load;\n",
       "      element.onerror = on_error.bind(null, url);\n",
       "      element.async = false;\n",
       "      element.src = url;\n",
       "      console.debug(\"Bokeh: injecting script tag for BokehJS library: \", url);\n",
       "      document.head.appendChild(element);\n",
       "    }\n",
       "  };\n",
       "\n",
       "  function inject_raw_css(css) {\n",
       "    const element = document.createElement(\"style\");\n",
       "    element.appendChild(document.createTextNode(css));\n",
       "    document.body.appendChild(element);\n",
       "  }\n",
       "\n",
       "  const js_urls = [\"https://cdn.bokeh.org/bokeh/release/bokeh-3.4.2.min.js\", \"https://cdn.bokeh.org/bokeh/release/bokeh-gl-3.4.2.min.js\", \"https://cdn.bokeh.org/bokeh/release/bokeh-widgets-3.4.2.min.js\", \"https://cdn.bokeh.org/bokeh/release/bokeh-tables-3.4.2.min.js\", \"https://cdn.bokeh.org/bokeh/release/bokeh-mathjax-3.4.2.min.js\", \"https://unpkg.com/@holoviz/panel@1.4.4/dist/panel.min.js\"];\n",
       "  const css_urls = [];\n",
       "\n",
       "  const inline_js = [    function(Bokeh) {\n",
       "      Bokeh.set_log_level(\"info\");\n",
       "    },\n",
       "function(Bokeh) {\n",
       "    }\n",
       "  ];\n",
       "\n",
       "  function run_inline_js() {\n",
       "    if (root.Bokeh !== undefined || force === true) {\n",
       "      try {\n",
       "            for (let i = 0; i < inline_js.length; i++) {\n",
       "      inline_js[i].call(root, root.Bokeh);\n",
       "    }\n",
       "\n",
       "      } catch (error) {display_loaded(error);throw error;\n",
       "      }if (force === true) {\n",
       "        display_loaded();\n",
       "      }} else if (Date.now() < root._bokeh_timeout) {\n",
       "      setTimeout(run_inline_js, 100);\n",
       "    } else if (!root._bokeh_failed_load) {\n",
       "      console.log(\"Bokeh: BokehJS failed to load within specified timeout.\");\n",
       "      root._bokeh_failed_load = true;\n",
       "    } else if (force !== true) {\n",
       "      const cell = $(document.getElementById(\"fdba997e-8360-4d19-a88c-62ef407a6864\")).parents('.cell').data().cell;\n",
       "      cell.output_area.append_execute_result(NB_LOAD_WARNING)\n",
       "    }\n",
       "  }\n",
       "\n",
       "  if (root._bokeh_is_loading === 0) {\n",
       "    console.debug(\"Bokeh: BokehJS loaded, going straight to plotting\");\n",
       "    run_inline_js();\n",
       "  } else {\n",
       "    load_libs(css_urls, js_urls, function() {\n",
       "      console.debug(\"Bokeh: BokehJS plotting callback run at\", now());\n",
       "      run_inline_js();\n",
       "    });\n",
       "  }\n",
       "}(window));"
      ],
      "application/vnd.bokehjs_load.v0+json": ""
     },
     "metadata": {},
     "output_type": "display_data"
    }
   ],
   "source": [
    "from bokeh.io import output_notebook\n",
    "output_notebook()"
   ]
  },
  {
   "cell_type": "code",
   "execution_count": 31,
   "metadata": {},
   "outputs": [
    {
     "data": {
      "text/plain": [
       "critical_violation\n",
       "Not Critical Violation    1157952\n",
       "Critical Violation         152570\n",
       "Name: count, dtype: int64"
      ]
     },
     "execution_count": 31,
     "metadata": {},
     "output_type": "execute_result"
    }
   ],
   "source": [
    "insp['critical_violation'].value_counts()"
   ]
  },
  {
   "cell_type": "code",
   "execution_count": 20,
   "metadata": {},
   "outputs": [],
   "source": [
    "# import pandas as pd\n",
    "# from sqlalchemy import create_engine\n",
    "# from autoviz.AutoViz_Class import AutoViz_Class\n",
    "\n",
    "# # Create database engine\n",
    "# engine = create_engine(f'postgresql://{user_name}:{pwd}@{hostname}:{port_id}/{database}')\n",
    "\n",
    "# # SQL query\n",
    "# sql = \"SELECT * FROM public.insp\"\n",
    "\n",
    "# # Load data in chunks and sample\n",
    "# chunk_size = 100000  # Adjust chunk size as needed\n",
    "# sampled_chunks = []\n",
    "\n",
    "# for chunk in pd.read_sql_query(sql, engine, chunksize=chunk_size):\n",
    "#     # Sample 10% of each chunk\n",
    "#     sampled_chunk = chunk.sample(frac=0.1, random_state=42)\n",
    "#     sampled_chunks.append(sampled_chunk)\n",
    "\n",
    "# # Concatenate all sampled chunks into a single DataFrame\n",
    "# sampled_insp = pd.concat(sampled_chunks, ignore_index=True)\n",
    "\n",
    "# # Initialize AutoViz\n",
    "# AV = AutoViz_Class()\n",
    "# custom_plot_dir = \"vcx\"\n",
    "\n",
    "# # AutoViz on the sampled data\n",
    "# dft = AV.AutoViz(\n",
    "#     \"\",\n",
    "#     sep=\",\",\n",
    "#     depVar=\"critical_violation\",\n",
    "#     dfte=sampled_insp,\n",
    "#     header=0,\n",
    "#     verbose=1,\n",
    "#     lowess=False,\n",
    "#     chart_format=\"bokeh\",\n",
    "#     max_rows_analyzed=1310873,\n",
    "#     max_cols_analyzed=31,\n",
    "#     save_plot_dir=custom_plot_dir,\n",
    "# )\n"
   ]
  },
  {
   "cell_type": "markdown",
   "metadata": {},
   "source": [
    "PANDAS PROFILING REPORT"
   ]
  },
  {
   "cell_type": "code",
   "execution_count": 21,
   "metadata": {},
   "outputs": [],
   "source": [
    "#from ydata_profiling import ProfileReport\n",
    "#prof = ProfileReport(insp)\n",
    "#prof.to_file(output_file='output.html')"
   ]
  },
  {
   "cell_type": "markdown",
   "metadata": {},
   "source": [
    "DATA CLEANING"
   ]
  },
  {
   "cell_type": "markdown",
   "metadata": {},
   "source": [
    "FILLING NULL VALUES FOR \"VIOLATION_ITEM\" USING RANDOM IMPUTATION."
   ]
  },
  {
   "cell_type": "code",
   "execution_count": 33,
   "metadata": {},
   "outputs": [],
   "source": [
    "def random_impute_categorical(df, column):\n",
    "    non_null = df[column].dropna()\n",
    "    random_value = np.random.choice(non_null)\n",
    "    df[column] = df[column].fillna(random_value)\n",
    "    \n",
    "\n",
    "random_impute_categorical(insp, 'violation_item')\n",
    "\n",
    "\n"
   ]
  },
  {
   "cell_type": "code",
   "execution_count": 35,
   "metadata": {},
   "outputs": [
    {
     "data": {
      "text/plain": [
       "0"
      ]
     },
     "execution_count": 35,
     "metadata": {},
     "output_type": "execute_result"
    }
   ],
   "source": [
    "insp['violation_item'].isnull().sum()"
   ]
  },
  {
   "cell_type": "code",
   "execution_count": 37,
   "metadata": {},
   "outputs": [],
   "source": [
    "insp.dropna(subset=['critical_violation'], inplace=True)"
   ]
  },
  {
   "cell_type": "code",
   "execution_count": 39,
   "metadata": {},
   "outputs": [
    {
     "data": {
      "text/plain": [
       "0"
      ]
     },
     "execution_count": 39,
     "metadata": {},
     "output_type": "execute_result"
    }
   ],
   "source": [
    "insp['critical_violation'].isnull().sum()"
   ]
  },
  {
   "cell_type": "markdown",
   "metadata": {},
   "source": [
    "IMPUTING ['total_critical_violations', 'total_crit_not_corrected',\n",
    "       'total_noncritical_violations']  USING MICE ALGORITHM."
   ]
  },
  {
   "cell_type": "code",
   "execution_count": 41,
   "metadata": {},
   "outputs": [],
   "source": [
    "from sklearn.experimental import enable_iterative_imputer\n",
    "from sklearn.impute import IterativeImputer"
   ]
  },
  {
   "cell_type": "code",
   "execution_count": 43,
   "metadata": {},
   "outputs": [],
   "source": [
    "imputer = IterativeImputer(random_state = 42)"
   ]
  },
  {
   "cell_type": "code",
   "execution_count": 45,
   "metadata": {},
   "outputs": [],
   "source": [
    "cols =['total_critical_violations', 'total_crit_not_corrected',\n",
    "       'total_noncritical_violations']\n",
    "insp[cols] = imputer.fit_transform(insp[cols])"
   ]
  },
  {
   "cell_type": "markdown",
   "metadata": {},
   "source": [
    "OUTLIERS DETECTION"
   ]
  },
  {
   "cell_type": "code",
   "execution_count": 47,
   "metadata": {},
   "outputs": [
    {
     "name": "stdout",
     "output_type": "stream",
     "text": [
      "                                 facility  \\\n",
      "4481     FAIRPORT CSD-MARTHA BROWN MIDDLE   \n",
      "4978        YESHIVA GEDOLAH ZICHRON MOSHE   \n",
      "5665                  #1 King's Buffet, A   \n",
      "5684                   BURGER KING ONEIDA   \n",
      "5722       MAMA GINA'S PIZZERIA OF FULTON   \n",
      "...                                   ...   \n",
      "1291723                 HARBOR CHILD CARE   \n",
      "1301271   W IRON CSD-DAKE JR. HIGH SCHOOL   \n",
      "1302398      RIT-CROSSROADS CAFE & MARKET   \n",
      "1304155                 Hartlot Happening   \n",
      "1306914  SPRING GARDEN CHINESE RESTAURANT   \n",
      "\n",
      "                                       address date_of_inspection  \\\n",
      "4481               665 AYRAULT ROAD,  FAIRPORT          11/8/2010   \n",
      "4978     84 Laurel Park ROAD,  South Fallsburg          3/29/2005   \n",
      "5665           115 Harte Haven Plaza,  Massena         12/28/2001   \n",
      "5684               212 GENESEE STREET,  ONEIDA           1/8/2004   \n",
      "5722          101 SOUTH SECOND STREET,  FULTON          1/29/2003   \n",
      "...                                        ...                ...   \n",
      "1291723        300 COMMUNITY DRIVE,  MANHASSET          9/29/2008   \n",
      "1301271            350 COOPER ROAD,  ROCHESTER         10/13/2010   \n",
      "1302398    39 LOMB  MEMORIAL DRIVE,  ROCHESTER         11/16/2010   \n",
      "1304155          639 Hartlot STREET,  Elbridge           3/8/2021   \n",
      "1306914                1217 BAY ROAD,  WEBSTER          1/10/2011   \n",
      "\n",
      "        violation_item violation_description      critical_violation  \\\n",
      "4481               15A                  None  Not Critical Violation   \n",
      "4978               15A                  None      Critical Violation   \n",
      "5665               15A                  None      Critical Violation   \n",
      "5684               15A                  None      Critical Violation   \n",
      "5722               15A                  None      Critical Violation   \n",
      "...                ...                   ...                     ...   \n",
      "1291723            15A                  None  Not Critical Violation   \n",
      "1301271            15A                  None  Not Critical Violation   \n",
      "1302398            15A                  None  Not Critical Violation   \n",
      "1304155            15A                  None  Not Critical Violation   \n",
      "1306914            15A                  None  Not Critical Violation   \n",
      "\n",
      "         total_critical_violations  total_crit_not_corrected  \\\n",
      "4481                           3.0                       0.0   \n",
      "4978                           3.0                       0.0   \n",
      "5665                           5.0                       0.0   \n",
      "5684                          10.0                       0.0   \n",
      "5722                          10.0                       0.0   \n",
      "...                            ...                       ...   \n",
      "1291723                        6.0                       0.0   \n",
      "1301271                        3.0                       0.0   \n",
      "1302398                        3.0                       0.0   \n",
      "1304155                        6.0                       6.0   \n",
      "1306914                        4.0                       0.0   \n",
      "\n",
      "         total_noncritical_violations     local_health_department  ...  \\\n",
      "4481                              2.0               Monroe County  ...   \n",
      "4978                              0.0  Middletown District Office  ...   \n",
      "5665                              0.0      Canton District Office  ...   \n",
      "5684                              1.0              Madison County  ...   \n",
      "5722                              3.0               Oswego County  ...   \n",
      "...                               ...                         ...  ...   \n",
      "1291723                           0.0              Nassau  County  ...   \n",
      "1301271                           1.0               Monroe County  ...   \n",
      "1302398                           1.0               Monroe County  ...   \n",
      "1304155                           9.0             Onondaga County  ...   \n",
      "1306914                           4.0               Monroe County  ...   \n",
      "\n",
      "             permitted_dba            permitted_corp_name  \\\n",
      "4481                  None                           None   \n",
      "4978                  None  Yeshiva Gedolah Zichron Moshe   \n",
      "5665                  None      A # 1 King's Buffet, Inc.   \n",
      "5684                  None    BART-RICH ENTERPRISES, INC.   \n",
      "5722                  None              MAMA GINA'S, INC.   \n",
      "...                    ...                            ...   \n",
      "1291723  HARBOR CHILD CARE     HARBOR DAY CARE CENTER INC   \n",
      "1301271               None                           None   \n",
      "1302398               None                           None   \n",
      "1304155               None          Hartlot Happening LLC   \n",
      "1306914               None                           None   \n",
      "\n",
      "        perm_operator_last_name perm_operator_first_name  \\\n",
      "4481                       None                     None   \n",
      "4978                       Sher                  Ephraim   \n",
      "5665                       Guan                  Yuanlin   \n",
      "5684                   BARTLETT                     MARK   \n",
      "5722                     MARINI                 SEVERINO   \n",
      "...                         ...                      ...   \n",
      "1291723                  ROONEY                     JILL   \n",
      "1301271                    None                     None   \n",
      "1302398                    None                     None   \n",
      "1304155                    Peck                    Katie   \n",
      "1306914                   JIANG                  WENDUAN   \n",
      "\n",
      "        nys_health_operation_id  inspection_type  \\\n",
      "4481                   667049.0       Inspection   \n",
      "4978                   347841.0       Inspection   \n",
      "5665                   325026.0       Inspection   \n",
      "5684                   280599.0       Inspection   \n",
      "5722                   296590.0       Inspection   \n",
      "...                         ...              ...   \n",
      "1291723                573120.0       Inspection   \n",
      "1301271                666605.0       Inspection   \n",
      "1302398                667778.0       Inspection   \n",
      "1304155               1058422.0       Inspection   \n",
      "1306914                695776.0       Inspection   \n",
      "\n",
      "                                       inspection_comments fs_facility_state  \\\n",
      "4481                                                  None                NY   \n",
      "4978                                                  None                NY   \n",
      "5665                                                  None                NY   \n",
      "5684                                                  None                NY   \n",
      "5722                                                  None                NY   \n",
      "...                                                    ...               ...   \n",
      "1291723                                               None                NY   \n",
      "1301271                                               None                NY   \n",
      "1302398                                               None                NY   \n",
      "1304155  Permission to open and operate is not being gr...                NY   \n",
      "1306914                                               None                NY   \n",
      "\n",
      "          latitude  longitude  \n",
      "4481     43.078995 -77.447956  \n",
      "4978           NaN        NaN  \n",
      "5665     44.919810 -74.880849  \n",
      "5684     43.078866 -75.645492  \n",
      "5722     43.322828 -76.415512  \n",
      "...            ...        ...  \n",
      "1291723  40.784467 -73.704768  \n",
      "1301271  43.218154 -77.598542  \n",
      "1302398  43.089557 -77.675237  \n",
      "1304155  43.010970 -76.457640  \n",
      "1306914  43.192456 -77.506128  \n",
      "\n",
      "[118620 rows x 31 columns]\n"
     ]
    }
   ],
   "source": [
    "\n",
    "def detect_outliers(column):\n",
    "    q1 = insp[column].quantile(0.25)\n",
    "    q3 = insp[column].quantile(0.75)\n",
    "    iqr = q3 - q1\n",
    "    lower_bound = q1 - 1.5 * iqr\n",
    "    upper_bound = q3 + 1.5 * iqr\n",
    "    return insp[(insp[column] < lower_bound) | (insp[column] > upper_bound)]\n",
    "outliers = detect_outliers('total_critical_violations')\n",
    "\n",
    "print(outliers)"
   ]
  },
  {
   "cell_type": "code",
   "execution_count": 30,
   "metadata": {},
   "outputs": [],
   "source": [
    "%matplotlib inline\n",
    "# plt.figure(figsize=(10, 6))\n",
    "# sns.boxplot(x=insp[\"total_critical_violations\"],hue=insp['critical_violation'])\n",
    "\n",
    "# plt.show()"
   ]
  },
  {
   "cell_type": "code",
   "execution_count": 31,
   "metadata": {},
   "outputs": [],
   "source": [
    "# plt.figure(figsize=(10, 6))\n",
    "# plt.subplot(2,2,1)\n",
    "# sns.boxplot(x=insp[\"total_crit_not_corrected\"],hue=insp['critical_violation'])\n",
    "# plt.subplot(2,2,2)\n",
    "# sns.kdeplot(x=insp['total_crit_not_corrected'])\n",
    "# plt.show()\n"
   ]
  },
  {
   "cell_type": "code",
   "execution_count": 32,
   "metadata": {},
   "outputs": [],
   "source": [
    "# sns.histplot(x='total_crit_not_corrected',data=insp)"
   ]
  },
  {
   "cell_type": "code",
   "execution_count": 33,
   "metadata": {},
   "outputs": [],
   "source": [
    "# plt.figure(figsize=(10, 6))\n",
    "# plt.subplot(2,2,1)\n",
    "# sns.boxplot(x=insp['total_noncritical_violations'],hue=insp['critical_violation'])\n",
    "# plt.subplot(2,2,2)\n",
    "# sns.kdeplot(x=insp['total_noncritical_violations'])"
   ]
  },
  {
   "cell_type": "markdown",
   "metadata": {},
   "source": [
    "CAPPING"
   ]
  },
  {
   "cell_type": "code",
   "execution_count": 49,
   "metadata": {},
   "outputs": [],
   "source": [
    "\n",
    "lower_limit = insp['total_critical_violations'].quantile(0.01)\n",
    "upper_limit = insp['total_critical_violations'].quantile(0.99)\n",
    "\n",
    "\n",
    "insp['total_critical_violations'] = insp['total_critical_violations'].clip(lower_limit, upper_limit)"
   ]
  },
  {
   "cell_type": "code",
   "execution_count": 35,
   "metadata": {},
   "outputs": [],
   "source": [
    "\n",
    "# plt.figure(figsize=(10, 6))\n",
    "# sns.boxplot(x=insp[\"total_critical_violations\"],hue=insp['critical_violation'])\n",
    "\n",
    "# plt.show()"
   ]
  },
  {
   "cell_type": "code",
   "execution_count": 36,
   "metadata": {},
   "outputs": [],
   "source": [
    "\n",
    "# lower_limit = insp['total_crit_not_corrected'].quantile(0.01)\n",
    "# upper_limit = insp['total_crit_not_corrected'].quantile(0.99)\n",
    "\n",
    "\n",
    "# insp['total_crit_not_corrected'] = insp['total_crit_not_corrected'].clip(lower_limit, upper_limit)\n",
    "\n",
    "# plt.figure(figsize=(10, 6))\n",
    "# sns.boxplot(x=insp[\"total_crit_not_corrected\"],hue=insp['critical_violation'])\n",
    "\n",
    "# plt.show()"
   ]
  },
  {
   "cell_type": "code",
   "execution_count": 37,
   "metadata": {},
   "outputs": [],
   "source": [
    "\n",
    "# lower_limit = insp['total_noncritical_violations'].quantile(0.01)\n",
    "# upper_limit = insp['total_noncritical_violations'].quantile(0.99)\n",
    "\n",
    "\n",
    "# insp['total_noncritical_violations'] = insp['total_noncritical_violations'].clip(lower_limit, upper_limit)\n",
    "\n",
    "# plt.figure(figsize=(10, 6))\n",
    "# plt.subplot(2,2,1)\n",
    "# sns.boxplot(x=insp[\"total_noncritical_violations\"],hue=insp['critical_violation'])\n",
    "# plt.subplot(2,2,2)\n",
    "# sns.kdeplot(insp['total_noncritical_violations'])\n",
    "# plt.show()"
   ]
  },
  {
   "cell_type": "markdown",
   "metadata": {},
   "source": [
    "FEATURE ENG"
   ]
  },
  {
   "cell_type": "code",
   "execution_count": 51,
   "metadata": {},
   "outputs": [
    {
     "data": {
      "text/plain": [
       "dtype('<M8[ns]')"
      ]
     },
     "execution_count": 51,
     "metadata": {},
     "output_type": "execute_result"
    }
   ],
   "source": [
    "insp['date_of_inspection']=pd.to_datetime(insp['date_of_inspection'],errors='coerce')\n",
    "insp['date_of_inspection'].dtype"
   ]
  },
  {
   "cell_type": "markdown",
   "metadata": {},
   "source": [
    "FEATURER EXTRACTION FROM \"DATE OF INSPECTION\" COLUMN"
   ]
  },
  {
   "cell_type": "code",
   "execution_count": 53,
   "metadata": {},
   "outputs": [],
   "source": [
    "insp['insp_day'] = insp['date_of_inspection'].dt.day \n",
    "insp['insp_dayofweek'] = pd.to_datetime(insp['date_of_inspection']).dt.dayofweek\n",
    "insp['insp_year'] = pd.to_datetime(insp['date_of_inspection']).dt.year\n",
    "insp['insp_month'] = pd.to_datetime(insp['date_of_inspection']).dt.month\n"
   ]
  },
  {
   "cell_type": "markdown",
   "metadata": {},
   "source": [
    "DAYS TILL LAST INSPECTION."
   ]
  },
  {
   "cell_type": "code",
   "execution_count": 55,
   "metadata": {},
   "outputs": [
    {
     "name": "stdout",
     "output_type": "stream",
     "text": [
      "facility\n",
      "#1 King's Buffet, A                  30.214789\n",
      "& C CAFE, A                           6.750000\n",
      "& D BUFFALO'S, A                    194.625000\n",
      "& G CANDY CONE, A                     0.000000\n",
      "& G TEXAS WEINERS, A                 73.935484\n",
      "                                       ...    \n",
      "Zebb's Deluxe Grill & Bar            31.090909\n",
      "Zeppo's Creekside Creamery          315.500000\n",
      "Zuke's Corner Store & Deli, LLC     256.666667\n",
      "iPHO                                 72.323529\n",
      "the COUNTRY PUNKIN' BAKERY, LLC.    177.000000\n",
      "Name: days_since_last_inspection, Length: 31971, dtype: float64\n"
     ]
    }
   ],
   "source": [
    "insp_sorted = insp.sort_values(['facility', 'date_of_inspection'])\n",
    "insp_sorted['days_since_last_inspection'] = insp_sorted.groupby('facility')['date_of_inspection'].diff().dt.days\n",
    "avg_days_between_inspections = insp_sorted.groupby('facility')['days_since_last_inspection'].mean()\n",
    "print(avg_days_between_inspections)\n"
   ]
  },
  {
   "cell_type": "code",
   "execution_count": 57,
   "metadata": {},
   "outputs": [
    {
     "data": {
      "text/plain": [
       "23990"
      ]
     },
     "execution_count": 57,
     "metadata": {},
     "output_type": "execute_result"
    }
   ],
   "source": [
    "avg_days_between_inspections.nunique()"
   ]
  },
  {
   "cell_type": "code",
   "execution_count": 59,
   "metadata": {},
   "outputs": [
    {
     "data": {
      "text/plain": [
       "count    30713.000000\n",
       "mean       171.287615\n",
       "std        202.580164\n",
       "min          0.000000\n",
       "25%         58.068182\n",
       "50%        121.141026\n",
       "75%        234.238095\n",
       "max       8407.000000\n",
       "Name: days_since_last_inspection, dtype: float64"
      ]
     },
     "execution_count": 59,
     "metadata": {},
     "output_type": "execute_result"
    }
   ],
   "source": [
    "avg_days_between_inspections.describe()"
   ]
  },
  {
   "cell_type": "code",
   "execution_count": 61,
   "metadata": {},
   "outputs": [
    {
     "name": "stdout",
     "output_type": "stream",
     "text": [
      "inspection_interval_category\n",
      "0-30 days       851045\n",
      "31-60 days       24108\n",
      "61-120 days      46061\n",
      "121-240 days    114512\n",
      "241-365 days    122261\n",
      "365+ days       120515\n",
      "Name: count, dtype: int64\n"
     ]
    },
    {
     "data": {
      "image/png": "[encoded data removed]",
      "text/plain": [
       "<Figure size 1000x600 with 1 Axes>"
      ]
     },
     "metadata": {},
     "output_type": "display_data"
    }
   ],
   "source": [
    "import matplotlib.pyplot as plt\n",
    "\n",
    "# Assuming your dataframe with the 'days_since_last_inspection' column is called 'df'\n",
    "\n",
    "# Define bin edges\n",
    "bins = [0, 30, 60, 120, 240, 365, np.inf]\n",
    "labels = ['0-30 days', '31-60 days', '61-120 days', '121-240 days', '241-365 days', '365+ days']\n",
    "\n",
    "# Create a new column with the binned data\n",
    "insp['inspection_interval_category'] = pd.cut(insp_sorted['days_since_last_inspection'], bins=bins, labels=labels, include_lowest=True)\n",
    "\n",
    "# Calculate the frequency of each bin\n",
    "bin_counts = insp['inspection_interval_category'].value_counts().sort_index()\n",
    "\n",
    "# Display the results\n",
    "print(bin_counts)\n",
    "\n",
    "# Visualize the distribution\n",
    "plt.figure(figsize=(10, 6))\n",
    "bin_counts.plot(kind='bar')\n",
    "plt.title('Distribution of Days Since Last Inspection')\n",
    "plt.xlabel('Interval Category')\n",
    "plt.ylabel('Frequency')\n",
    "plt.xticks(rotation=45)\n",
    "plt.tight_layout()\n",
    "plt.show()"
   ]
  },
  {
   "cell_type": "code",
   "execution_count": 63,
   "metadata": {},
   "outputs": [
    {
     "data": {
      "text/plain": [
       "inspection_interval_category\n",
       "0-30 days       851045\n",
       "241-365 days    122261\n",
       "365+ days       120515\n",
       "121-240 days    114512\n",
       "61-120 days      46061\n",
       "31-60 days       24108\n",
       "Name: count, dtype: int64"
      ]
     },
     "execution_count": 63,
     "metadata": {},
     "output_type": "execute_result"
    }
   ],
   "source": [
    "insp['inspection_interval_category'].value_counts()"
   ]
  },
  {
   "cell_type": "code",
   "execution_count": 65,
   "metadata": {},
   "outputs": [
    {
     "data": {
      "text/plain": [
       "0"
      ]
     },
     "execution_count": 65,
     "metadata": {},
     "output_type": "execute_result"
    }
   ],
   "source": [
    "insp = insp.dropna(subset=['inspection_interval_category'])\n",
    "insp['inspection_interval_category'].isnull().sum()\n"
   ]
  },
  {
   "cell_type": "code",
   "execution_count": 67,
   "metadata": {},
   "outputs": [
    {
     "data": {
      "text/plain": [
       "0             365+ days\n",
       "1          121-240 days\n",
       "2             365+ days\n",
       "3          121-240 days\n",
       "4             0-30 days\n",
       "               ...     \n",
       "1310868    121-240 days\n",
       "1310869    241-365 days\n",
       "1310870    241-365 days\n",
       "1310871    121-240 days\n",
       "1310872       0-30 days\n",
       "Name: days_since_last_inspection, Length: 1278502, dtype: category\n",
       "Categories (6, object): ['0-30 days' < '31-60 days' < '61-120 days' < '121-240 days' < '241-365 days' < '365+ days']"
      ]
     },
     "execution_count": 67,
     "metadata": {},
     "output_type": "execute_result"
    }
   ],
   "source": [
    "insp['days_since_last_inspection']=insp['inspection_interval_category']\n",
    "insp['days_since_last_inspection'].astype('category')"
   ]
  },
  {
   "cell_type": "markdown",
   "metadata": {},
   "source": [
    " average violations per inspection over the past year"
   ]
  },
  {
   "cell_type": "code",
   "execution_count": 69,
   "metadata": {},
   "outputs": [
    {
     "name": "stderr",
     "output_type": "stream",
     "text": [
      "C:\\Users\\STSC\\AppData\\Local\\Temp\\ipykernel_5856\\918828386.py:27: DeprecationWarning: DataFrameGroupBy.apply operated on the grouping columns. This behavior is deprecated, and in a future version of pandas the grouping columns will be excluded from the operation. Either pass `include_groups=False` to exclude the groupings or explicitly select the grouping columns after groupby to silence this warning.\n",
      "  historical_rates = df_sorted.groupby('facility').apply(violation_rate)\n"
     ]
    },
    {
     "name": "stdout",
     "output_type": "stream",
     "text": [
      "                    facility date_of_inspection  historical_violation_rate\n",
      "791492   #1 King's Buffet, A         2000-08-07                        6.0\n",
      "624      #1 King's Buffet, A         2000-11-29                        6.0\n",
      "5665     #1 King's Buffet, A         2001-12-28                        6.0\n",
      "171314   #1 King's Buffet, A         2002-01-02                        6.0\n",
      "210243   #1 King's Buffet, A         2002-11-07                        6.0\n",
      "424342   #1 King's Buffet, A         2003-05-15                        6.0\n",
      "318859   #1 King's Buffet, A         2003-12-19                        6.0\n",
      "183207   #1 King's Buffet, A         2004-03-02                        6.0\n",
      "331357   #1 King's Buffet, A         2004-11-22                        6.0\n",
      "1142649  #1 King's Buffet, A         2005-07-28                        6.0\n",
      "count    1.278502e+06\n",
      "mean     4.721878e+00\n",
      "std      4.135785e+00\n",
      "min      0.000000e+00\n",
      "25%      1.666667e+00\n",
      "50%      4.000000e+00\n",
      "75%      6.789474e+00\n",
      "max      6.400000e+01\n",
      "Name: historical_violation_rate, dtype: float64\n"
     ]
    },
    {
     "data": {
      "image/png": "[encoded data removed]",
      "text/plain": [
       "<Figure size 1000x600 with 1 Axes>"
      ]
     },
     "metadata": {},
     "output_type": "display_data"
    }
   ],
   "source": [
    "import pandas as pd\n",
    "from datetime import timedelta\n",
    "\n",
    "def calculate_historical_violation_rate(df, lookback_period=365):\n",
    "    # Ensure date column is datetime\n",
    "    df['date_of_inspection'] = pd.to_datetime(df['date_of_inspection'])\n",
    "    \n",
    "    # Sort the dataframe by facility and date\n",
    "    df_sorted = df.sort_values(['facility', 'date_of_inspection'])\n",
    "    \n",
    "    # Function to calculate violation rate for a group\n",
    "    def violation_rate(group):\n",
    "        # Calculate the date one year before the current inspection\n",
    "        one_year_ago = group['date_of_inspection'].max() - timedelta(days=lookback_period)\n",
    "        \n",
    "        # Filter inspections within the last year\n",
    "        recent_inspections = group[group['date_of_inspection'] > one_year_ago]\n",
    "        \n",
    "        # Calculate average violations per inspection\n",
    "        if len(recent_inspections) > 0:\n",
    "            return (recent_inspections['total_critical_violations'].sum() + \n",
    "                    recent_inspections['total_noncritical_violations'].sum()) / len(recent_inspections)\n",
    "        else:\n",
    "            return 0  # Return 0 if no inspections in the past year\n",
    "\n",
    "    # Apply the function to each facility group\n",
    "    historical_rates = df_sorted.groupby('facility').apply(violation_rate)\n",
    "    \n",
    "    # Merge the rates back to the original dataframe\n",
    "    df_with_rates = df_sorted.merge(historical_rates.rename('historical_violation_rate'), \n",
    "                                    left_on='facility', right_index=True)\n",
    "    \n",
    "    return df_with_rates\n",
    "\n",
    "# Assuming your dataframe is called 'insp'\n",
    "# Make sure it has columns: 'facility', 'date_of_inspection', 'TOTAL # CRITICAL VIOLATIONS', 'TOTAL # NONCRITICAL VIOLATIONS'\n",
    "\n",
    "# Check if required columns are present\n",
    "required_columns = ['facility', 'date_of_inspection', 'total_critical_violations', 'total_noncritical_violations']\n",
    "missing_columns = [col for col in required_columns if col not in insp.columns]\n",
    "\n",
    "if missing_columns:\n",
    "    print(f\"Error: The following required columns are missing: {', '.join(missing_columns)}\")\n",
    "else:\n",
    "    insp_with_rates = calculate_historical_violation_rate(insp)\n",
    "\n",
    "    # Display the first few rows to verify\n",
    "    print(insp_with_rates[['facility', 'date_of_inspection', 'historical_violation_rate']].head(10))\n",
    "\n",
    "    # Summary statistics of the historical violation rates\n",
    "    print(insp_with_rates['historical_violation_rate'].describe())\n",
    "\n",
    "    # Optionally, visualize the distribution of historical violation rates\n",
    "    import matplotlib.pyplot as plt\n",
    "\n",
    "    plt.figure(figsize=(10, 6))\n",
    "    plt.hist(insp_with_rates['historical_violation_rate'], bins=50)\n",
    "    plt.title('Distribution of Historical Violation Rates')\n",
    "    plt.xlabel('Average Violations per Inspection (Past Year)')\n",
    "    plt.ylabel('Frequency')\n",
    "    plt.show()"
   ]
  },
  {
   "cell_type": "code",
   "execution_count": 71,
   "metadata": {},
   "outputs": [],
   "source": [
    "insp['historical_violation_rate']= insp_with_rates['historical_violation_rate']"
   ]
  },
  {
   "cell_type": "code",
   "execution_count": 73,
   "metadata": {},
   "outputs": [
    {
     "data": {
      "text/plain": [
       "historical_violation_rate\n",
       "0.000000    131547\n",
       "1.000000     57184\n",
       "3.000000     52854\n",
       "2.000000     50952\n",
       "5.000000     49178\n",
       "             ...  \n",
       "1.636364        11\n",
       "3.636364        11\n",
       "3.010678         6\n",
       "3.766017         4\n",
       "3.532034         2\n",
       "Name: count, Length: 1909, dtype: int64"
      ]
     },
     "execution_count": 73,
     "metadata": {},
     "output_type": "execute_result"
    }
   ],
   "source": [
    "insp['historical_violation_rate'].value_counts()"
   ]
  },
  {
   "cell_type": "code",
   "execution_count": 75,
   "metadata": {},
   "outputs": [
    {
     "data": {
      "image/png": "[encoded data removed]",
      "text/plain": [
       "<Figure size 2000x800 with 2 Axes>"
      ]
     },
     "metadata": {},
     "output_type": "display_data"
    },
    {
     "name": "stdout",
     "output_type": "stream",
     "text": [
      "Original Data Summary:\n",
      "count    1.278502e+06\n",
      "mean     4.721878e+00\n",
      "std      4.135785e+00\n",
      "min      0.000000e+00\n",
      "25%      1.666667e+00\n",
      "50%      4.000000e+00\n",
      "75%      6.789474e+00\n",
      "max      6.400000e+01\n",
      "Name: historical_violation_rate, dtype: float64\n",
      "\n",
      "Log-Transformed Data Summary:\n",
      "count    1.278502e+06\n",
      "mean     1.476451e+00\n",
      "std      7.772689e-01\n",
      "min      0.000000e+00\n",
      "25%      9.808293e-01\n",
      "50%      1.609438e+00\n",
      "75%      2.052773e+00\n",
      "max      4.174387e+00\n",
      "Name: log_historical_violation_rate, dtype: float64\n",
      "\n",
      "Original Data Skewness: 1.8355\n",
      "Log-Transformed Data Skewness: -0.3934\n"
     ]
    }
   ],
   "source": [
    "#HANDLING RIGHT SKEWNESS\n",
    "\n",
    "import seaborn as sns\n",
    "\n",
    "\n",
    "# Apply log transformation\n",
    "insp['log_historical_violation_rate'] = np.log1p(insp['historical_violation_rate'])\n",
    "\n",
    "# Create a figure with two subplots side by side\n",
    "fig, (ax1, ax2) = plt.subplots(1, 2, figsize=(20, 8))\n",
    "\n",
    "# Plot original distribution\n",
    "sns.histplot(insp['historical_violation_rate'], kde=True, ax=ax1)\n",
    "ax1.set_title('Original Distribution of Historical Violation Rates')\n",
    "ax1.set_xlabel('Average Violations per Inspection (Past Year)')\n",
    "ax1.set_ylabel('Frequency')\n",
    "\n",
    "# Plot log-transformed distribution\n",
    "sns.histplot(insp['log_historical_violation_rate'], kde=True, ax=ax2)\n",
    "ax2.set_title('Log-Transformed Distribution of Historical Violation Rates')\n",
    "ax2.set_xlabel('Log(1 + Average Violations per Inspection)')\n",
    "ax2.set_ylabel('Frequency')\n",
    "\n",
    "plt.tight_layout()\n",
    "plt.show()\n",
    "\n",
    "# Print summary statistics for both original and transformed data\n",
    "print(\"Original Data Summary:\")\n",
    "print(insp['historical_violation_rate'].describe())\n",
    "print(\"\\nLog-Transformed Data Summary:\")\n",
    "print(insp['log_historical_violation_rate'].describe())\n",
    "\n",
    "# Calculate skewness for both distributions\n",
    "original_skewness = insp['historical_violation_rate'].skew()\n",
    "log_transformed_skewness = insp['log_historical_violation_rate'].skew()\n",
    "\n",
    "print(f\"\\nOriginal Data Skewness: {original_skewness:.4f}\")\n",
    "print(f\"Log-Transformed Data Skewness: {log_transformed_skewness:.4f}\")"
   ]
  },
  {
   "cell_type": "code",
   "execution_count": 77,
   "metadata": {},
   "outputs": [],
   "source": [
    "insp['avg_violation_per_insp_over_last_year'] = pd.cut(insp['log_historical_violation_rate'], \n",
    "                                      bins=[-3.95, 0.50, 1.08, 1.60], \n",
    "                                      labels=['Low', 'Moderate', 'High'])"
   ]
  },
  {
   "cell_type": "code",
   "execution_count": 79,
   "metadata": {},
   "outputs": [
    {
     "data": {
      "text/plain": [
       "0          Moderate\n",
       "1          Moderate\n",
       "2               NaN\n",
       "3               Low\n",
       "4               Low\n",
       "             ...   \n",
       "1310868         NaN\n",
       "1310869         Low\n",
       "1310870         Low\n",
       "1310871         Low\n",
       "1310872         NaN\n",
       "Name: avg_violation_per_insp_over_last_year, Length: 1278502, dtype: category\n",
       "Categories (3, object): ['Low' < 'Moderate' < 'High']"
      ]
     },
     "execution_count": 79,
     "metadata": {},
     "output_type": "execute_result"
    }
   ],
   "source": [
    "insp['avg_violation_per_insp_over_last_year'].astype('category')"
   ]
  },
  {
   "cell_type": "code",
   "execution_count": 81,
   "metadata": {},
   "outputs": [
    {
     "data": {
      "text/plain": [
       "avg_violation_per_insp_over_last_year\n",
       "High        278884\n",
       "Low         190786\n",
       "Moderate    146447\n",
       "Name: count, dtype: int64"
      ]
     },
     "execution_count": 81,
     "metadata": {},
     "output_type": "execute_result"
    }
   ],
   "source": [
    "insp['avg_violation_per_insp_over_last_year'].value_counts()"
   ]
  },
  {
   "cell_type": "code",
   "execution_count": 83,
   "metadata": {},
   "outputs": [
    {
     "data": {
      "text/plain": [
       "food_service_type\n",
       "Food Service Establishment    1105231\n",
       "Institutional Food Service     149864\n",
       "SED Summer Feeding Prog.        13734\n",
       "SOFA Food Service                9673\n",
       "Name: count, dtype: int64"
      ]
     },
     "execution_count": 83,
     "metadata": {},
     "output_type": "execute_result"
    }
   ],
   "source": [
    "insp['food_service_type'].value_counts()"
   ]
  },
  {
   "cell_type": "code",
   "execution_count": 85,
   "metadata": {},
   "outputs": [
    {
     "data": {
      "text/plain": [
       "(1278502, 40)"
      ]
     },
     "execution_count": 85,
     "metadata": {},
     "output_type": "execute_result"
    }
   ],
   "source": [
    "insp.shape"
   ]
  },
  {
   "cell_type": "markdown",
   "metadata": {},
   "source": [
    "COLUMN TRANSFORMER(one hot encd for cat and Standard scaler for num var)"
   ]
  },
  {
   "cell_type": "code",
   "execution_count": 87,
   "metadata": {},
   "outputs": [
    {
     "name": "stdout",
     "output_type": "stream",
     "text": [
      "days_since_last_inspection               0\n",
      "avg_violation_per_insp_over_last_year    0\n",
      "food_service_type                        0\n",
      "inspection_type                          0\n",
      "violation_item                           0\n",
      "dtype: int64\n"
     ]
    }
   ],
   "source": [
    "ohe_columns = ['days_since_last_inspection','avg_violation_per_insp_over_last_year',  'food_service_type', 'inspection_type', 'violation_item']\n",
    "\n",
    "insp = insp.dropna(how='any', subset=ohe_columns)  \n",
    "\n",
    "null_values = insp[ohe_columns].isnull().sum()\n",
    "print(null_values)"
   ]
  },
  {
   "cell_type": "code",
   "execution_count": 89,
   "metadata": {},
   "outputs": [],
   "source": [
    "\n",
    "from sklearn.compose import ColumnTransformer\n",
    "from sklearn.preprocessing import OneHotEncoder, StandardScaler\n",
    "ct = ColumnTransformer([\n",
    "    ('onehot', OneHotEncoder(sparse_output=True, dtype=np.float32), ohe_columns),  \n",
    "    ('scaler', StandardScaler(), ['total_critical_violations',\n",
    "                                  'total_crit_not_corrected',\n",
    "                                  'total_noncritical_violations'])  \n",
    "]) \n",
    "\n",
    "# Fit and transform the data\n",
    "data_transformed = ct.fit_transform(insp)"
   ]
  },
  {
   "cell_type": "code",
   "execution_count": 91,
   "metadata": {},
   "outputs": [
    {
     "data": {
      "text/plain": [
       "(616117, 111)"
      ]
     },
     "execution_count": 91,
     "metadata": {},
     "output_type": "execute_result"
    }
   ],
   "source": [
    "data_transformed.shape"
   ]
  },
  {
   "cell_type": "code",
   "execution_count": 93,
   "metadata": {},
   "outputs": [
    {
     "name": "stdout",
     "output_type": "stream",
     "text": [
      "{'days_since_last_inspection': 6, 'avg_violation_per_insp_over_last_year': 3, 'food_service_type': 4, 'inspection_type': 2, 'violation_item': 93}\n"
     ]
    }
   ],
   "source": [
    "unique_values_counts = {col: insp[col].nunique() for col in ohe_columns}\n",
    "\n",
    "# Print unique values counts\n",
    "print(unique_values_counts)"
   ]
  },
  {
   "cell_type": "markdown",
   "metadata": {},
   "source": [
    "PCA FOR DIMENSIONALITY REDUCTION"
   ]
  },
  {
   "cell_type": "code",
   "execution_count": 95,
   "metadata": {},
   "outputs": [
    {
     "name": "stdout",
     "output_type": "stream",
     "text": [
      "Explained variance ratio: 0.9505\n"
     ]
    }
   ],
   "source": [
    "from sklearn.decomposition import TruncatedSVD\n",
    "from scipy.sparse import csr_matrix\n",
    "\n",
    "# Assuming data_transformed is your dataset in sparse matrix format\n",
    "data_sparse = csr_matrix(data_transformed)  # Example data, replace with your actual sparse data\n",
    "\n",
    "# Define the number of components you want\n",
    "n_components = 24  # Adjust as needed\n",
    "\n",
    "# Create a TruncatedSVD object\n",
    "svd = TruncatedSVD(n_components=n_components, random_state=42)\n",
    "\n",
    "# Fit and transform the data\n",
    "data_transformed_svd = svd.fit_transform(data_sparse)\n",
    "\n",
    "# Print the explained variance ratio\n",
    "print(f\"Explained variance ratio: {svd.explained_variance_ratio_.sum():.4f}\")\n"
   ]
  },
  {
   "cell_type": "code",
   "execution_count": 97,
   "metadata": {},
   "outputs": [
    {
     "data": {
      "text/plain": [
       "array([[ 3.62159910e-01,  6.94433402e-02,  8.14679151e-02, ...,\n",
       "         4.50820147e-02,  9.37526187e-03,  6.57196956e-02],\n",
       "       [ 1.28545992e-01, -6.25150733e-02, -6.43192096e-02, ...,\n",
       "         6.40531558e-01,  2.37713406e-01,  6.57742420e-01],\n",
       "       [-5.33182316e-02,  2.30441708e-02,  2.33544446e-02, ...,\n",
       "        -4.79440228e-02,  9.60995402e-01, -2.41269916e-01],\n",
       "       ...,\n",
       "       [-1.02831084e-01, -1.16808455e-01, -1.21625590e-01, ...,\n",
       "         2.78741567e-03,  4.88683890e-05, -3.92821950e-04],\n",
       "       [ 2.58731294e-02,  2.14133755e-02,  2.31145745e-02, ...,\n",
       "         8.42636681e-03, -7.61713094e-05, -8.56504614e-03],\n",
       "       [-1.85623086e-03,  5.48505770e-04,  1.13942757e-03, ...,\n",
       "        -7.90081927e-04,  1.48608665e-04,  3.52404063e-04]])"
      ]
     },
     "execution_count": 97,
     "metadata": {},
     "output_type": "execute_result"
    }
   ],
   "source": [
    "svd_comp = svd.components_\n",
    "svd_comp"
   ]
  },
  {
   "cell_type": "code",
   "execution_count": 99,
   "metadata": {},
   "outputs": [
    {
     "data": {
      "text/plain": [
       "(24, 111)"
      ]
     },
     "execution_count": 99,
     "metadata": {},
     "output_type": "execute_result"
    }
   ],
   "source": [
    "svd.components_.shape"
   ]
  },
  {
   "cell_type": "markdown",
   "metadata": {},
   "source": [
    "changing output to category "
   ]
  },
  {
   "cell_type": "code",
   "execution_count": 101,
   "metadata": {},
   "outputs": [],
   "source": [
    "insp['critical_violation'] = insp['critical_violation'].astype('category')"
   ]
  },
  {
   "cell_type": "code",
   "execution_count": 103,
   "metadata": {},
   "outputs": [
    {
     "name": "stdout",
     "output_type": "stream",
     "text": [
      "Number of null values in critical_violation: 0\n",
      "First few rows of svd_df:\n",
      "   Component_1  Component_2  Component_3  Component_4  Component_5  \\\n",
      "0     1.468128    -1.375170     0.295384     0.330474     0.082400   \n",
      "1     1.086013     0.185239     0.015472     0.176730     0.934647   \n",
      "2     1.495236    -1.473926     0.341334     0.444566     0.446335   \n",
      "3     1.215389    -1.214407     0.244352     0.218917    -0.143641   \n",
      "4     0.863872    -1.352059     0.300414     0.332592     0.092645   \n",
      "\n",
      "   Component_6  Component_7  Component_8  Component_9  Component_10  ...  \\\n",
      "0     0.556429    -0.661870    -0.725055     0.153754     -0.687221  ...   \n",
      "1     0.364378    -0.134872    -1.017070     0.321726     -0.101757  ...   \n",
      "2    -0.236175    -0.538893     0.271897     0.125340     -0.085590  ...   \n",
      "3     0.166022    -0.250373     1.016807     1.239101      0.002955  ...   \n",
      "4    -0.167634    -0.692223     0.591850     0.927528     -0.008019  ...   \n",
      "\n",
      "   Component_16  Component_17  Component_18  Component_19  Component_20  \\\n",
      "0     -0.001188      0.019679      0.003914     -0.009207     -0.028213   \n",
      "1     -0.027754      0.088503      0.029138      0.103425      0.610203   \n",
      "2     -0.004172      0.006165      0.000541     -0.006975     -0.031349   \n",
      "3      0.004666     -0.004620     -0.005121      0.012306      0.084883   \n",
      "4      0.020842     -0.018100     -0.002168      0.009176     -0.274906   \n",
      "\n",
      "   Component_21  Component_22  Component_23  Component_24  \\\n",
      "0     -0.000421     -0.047963      0.021203     -0.002884   \n",
      "1     -0.043761      0.172502     -0.088013     -0.002246   \n",
      "2      0.001429     -0.042158      0.018870     -0.005264   \n",
      "3     -0.035957     -0.101007      0.023616      0.000905   \n",
      "4      0.108794      0.823222     -0.238277      0.014163   \n",
      "\n",
      "       critical_violation  \n",
      "0  Not Critical Violation  \n",
      "1  Not Critical Violation  \n",
      "2  Not Critical Violation  \n",
      "3  Not Critical Violation  \n",
      "4  Not Critical Violation  \n",
      "\n",
      "[5 rows x 25 columns]\n"
     ]
    }
   ],
   "source": [
    "# Create the SVD DataFrame\n",
    "svd_df = pd.DataFrame(data_transformed_svd)\n",
    "num_columns = svd_df.shape[1]\n",
    "svd_df.columns = [f'Component_{i+1}' for i in range(num_columns)]\n",
    "\n",
    "# Reset index for both DataFrames to ensure alignment\n",
    "svd_df = svd_df.reset_index(drop=True)\n",
    "insp = insp.reset_index(drop=True)\n",
    "\n",
    "# Now join the critical_violation column\n",
    "svd_df['critical_violation'] = insp['critical_violation']\n",
    "\n",
    "# Verify the join\n",
    "print(\"Number of null values in critical_violation:\", svd_df['critical_violation'].isnull().sum())\n",
    "print(\"First few rows of svd_df:\")\n",
    "print(svd_df.head())"
   ]
  },
  {
   "cell_type": "code",
   "execution_count": 105,
   "metadata": {},
   "outputs": [
    {
     "data": {
      "text/html": [
       "<div>\n",
       "<style scoped>\n",
       "    .dataframe tbody tr th:only-of-type {\n",
       "        vertical-align: middle;\n",
       "    }\n",
       "\n",
       "    .dataframe tbody tr th {\n",
       "        vertical-align: top;\n",
       "    }\n",
       "\n",
       "    .dataframe thead th {\n",
       "        text-align: right;\n",
       "    }\n",
       "</style>\n",
       "<table border=\"1\" class=\"dataframe\">\n",
       "  <thead>\n",
       "    <tr style=\"text-align: right;\">\n",
       "      <th></th>\n",
       "      <th>Component_1</th>\n",
       "      <th>Component_2</th>\n",
       "      <th>Component_3</th>\n",
       "      <th>Component_4</th>\n",
       "      <th>Component_5</th>\n",
       "      <th>Component_6</th>\n",
       "      <th>Component_7</th>\n",
       "      <th>Component_8</th>\n",
       "      <th>Component_9</th>\n",
       "      <th>Component_10</th>\n",
       "      <th>...</th>\n",
       "      <th>Component_16</th>\n",
       "      <th>Component_17</th>\n",
       "      <th>Component_18</th>\n",
       "      <th>Component_19</th>\n",
       "      <th>Component_20</th>\n",
       "      <th>Component_21</th>\n",
       "      <th>Component_22</th>\n",
       "      <th>Component_23</th>\n",
       "      <th>Component_24</th>\n",
       "      <th>critical_violation</th>\n",
       "    </tr>\n",
       "  </thead>\n",
       "  <tbody>\n",
       "    <tr>\n",
       "      <th>0</th>\n",
       "      <td>1.468128</td>\n",
       "      <td>-1.375170</td>\n",
       "      <td>0.295384</td>\n",
       "      <td>0.330474</td>\n",
       "      <td>0.082400</td>\n",
       "      <td>0.556429</td>\n",
       "      <td>-0.661870</td>\n",
       "      <td>-0.725055</td>\n",
       "      <td>0.153754</td>\n",
       "      <td>-0.687221</td>\n",
       "      <td>...</td>\n",
       "      <td>-0.001188</td>\n",
       "      <td>0.019679</td>\n",
       "      <td>0.003914</td>\n",
       "      <td>-0.009207</td>\n",
       "      <td>-0.028213</td>\n",
       "      <td>-0.000421</td>\n",
       "      <td>-0.047963</td>\n",
       "      <td>0.021203</td>\n",
       "      <td>-0.002884</td>\n",
       "      <td>Not Critical Violation</td>\n",
       "    </tr>\n",
       "    <tr>\n",
       "      <th>1</th>\n",
       "      <td>1.086013</td>\n",
       "      <td>0.185239</td>\n",
       "      <td>0.015472</td>\n",
       "      <td>0.176730</td>\n",
       "      <td>0.934647</td>\n",
       "      <td>0.364378</td>\n",
       "      <td>-0.134872</td>\n",
       "      <td>-1.017070</td>\n",
       "      <td>0.321726</td>\n",
       "      <td>-0.101757</td>\n",
       "      <td>...</td>\n",
       "      <td>-0.027754</td>\n",
       "      <td>0.088503</td>\n",
       "      <td>0.029138</td>\n",
       "      <td>0.103425</td>\n",
       "      <td>0.610203</td>\n",
       "      <td>-0.043761</td>\n",
       "      <td>0.172502</td>\n",
       "      <td>-0.088013</td>\n",
       "      <td>-0.002246</td>\n",
       "      <td>Not Critical Violation</td>\n",
       "    </tr>\n",
       "    <tr>\n",
       "      <th>2</th>\n",
       "      <td>1.495236</td>\n",
       "      <td>-1.473926</td>\n",
       "      <td>0.341334</td>\n",
       "      <td>0.444566</td>\n",
       "      <td>0.446335</td>\n",
       "      <td>-0.236175</td>\n",
       "      <td>-0.538893</td>\n",
       "      <td>0.271897</td>\n",
       "      <td>0.125340</td>\n",
       "      <td>-0.085590</td>\n",
       "      <td>...</td>\n",
       "      <td>-0.004172</td>\n",
       "      <td>0.006165</td>\n",
       "      <td>0.000541</td>\n",
       "      <td>-0.006975</td>\n",
       "      <td>-0.031349</td>\n",
       "      <td>0.001429</td>\n",
       "      <td>-0.042158</td>\n",
       "      <td>0.018870</td>\n",
       "      <td>-0.005264</td>\n",
       "      <td>Not Critical Violation</td>\n",
       "    </tr>\n",
       "    <tr>\n",
       "      <th>3</th>\n",
       "      <td>1.215389</td>\n",
       "      <td>-1.214407</td>\n",
       "      <td>0.244352</td>\n",
       "      <td>0.218917</td>\n",
       "      <td>-0.143641</td>\n",
       "      <td>0.166022</td>\n",
       "      <td>-0.250373</td>\n",
       "      <td>1.016807</td>\n",
       "      <td>1.239101</td>\n",
       "      <td>0.002955</td>\n",
       "      <td>...</td>\n",
       "      <td>0.004666</td>\n",
       "      <td>-0.004620</td>\n",
       "      <td>-0.005121</td>\n",
       "      <td>0.012306</td>\n",
       "      <td>0.084883</td>\n",
       "      <td>-0.035957</td>\n",
       "      <td>-0.101007</td>\n",
       "      <td>0.023616</td>\n",
       "      <td>0.000905</td>\n",
       "      <td>Not Critical Violation</td>\n",
       "    </tr>\n",
       "    <tr>\n",
       "      <th>4</th>\n",
       "      <td>0.863872</td>\n",
       "      <td>-1.352059</td>\n",
       "      <td>0.300414</td>\n",
       "      <td>0.332592</td>\n",
       "      <td>0.092645</td>\n",
       "      <td>-0.167634</td>\n",
       "      <td>-0.692223</td>\n",
       "      <td>0.591850</td>\n",
       "      <td>0.927528</td>\n",
       "      <td>-0.008019</td>\n",
       "      <td>...</td>\n",
       "      <td>0.020842</td>\n",
       "      <td>-0.018100</td>\n",
       "      <td>-0.002168</td>\n",
       "      <td>0.009176</td>\n",
       "      <td>-0.274906</td>\n",
       "      <td>0.108794</td>\n",
       "      <td>0.823222</td>\n",
       "      <td>-0.238277</td>\n",
       "      <td>0.014163</td>\n",
       "      <td>Not Critical Violation</td>\n",
       "    </tr>\n",
       "  </tbody>\n",
       "</table>\n",
       "<p>5 rows × 25 columns</p>\n",
       "</div>"
      ],
      "text/plain": [
       "   Component_1  Component_2  Component_3  Component_4  Component_5  \\\n",
       "0     1.468128    -1.375170     0.295384     0.330474     0.082400   \n",
       "1     1.086013     0.185239     0.015472     0.176730     0.934647   \n",
       "2     1.495236    -1.473926     0.341334     0.444566     0.446335   \n",
       "3     1.215389    -1.214407     0.244352     0.218917    -0.143641   \n",
       "4     0.863872    -1.352059     0.300414     0.332592     0.092645   \n",
       "\n",
       "   Component_6  Component_7  Component_8  Component_9  Component_10  ...  \\\n",
       "0     0.556429    -0.661870    -0.725055     0.153754     -0.687221  ...   \n",
       "1     0.364378    -0.134872    -1.017070     0.321726     -0.101757  ...   \n",
       "2    -0.236175    -0.538893     0.271897     0.125340     -0.085590  ...   \n",
       "3     0.166022    -0.250373     1.016807     1.239101      0.002955  ...   \n",
       "4    -0.167634    -0.692223     0.591850     0.927528     -0.008019  ...   \n",
       "\n",
       "   Component_16  Component_17  Component_18  Component_19  Component_20  \\\n",
       "0     -0.001188      0.019679      0.003914     -0.009207     -0.028213   \n",
       "1     -0.027754      0.088503      0.029138      0.103425      0.610203   \n",
       "2     -0.004172      0.006165      0.000541     -0.006975     -0.031349   \n",
       "3      0.004666     -0.004620     -0.005121      0.012306      0.084883   \n",
       "4      0.020842     -0.018100     -0.002168      0.009176     -0.274906   \n",
       "\n",
       "   Component_21  Component_22  Component_23  Component_24  \\\n",
       "0     -0.000421     -0.047963      0.021203     -0.002884   \n",
       "1     -0.043761      0.172502     -0.088013     -0.002246   \n",
       "2      0.001429     -0.042158      0.018870     -0.005264   \n",
       "3     -0.035957     -0.101007      0.023616      0.000905   \n",
       "4      0.108794      0.823222     -0.238277      0.014163   \n",
       "\n",
       "       critical_violation  \n",
       "0  Not Critical Violation  \n",
       "1  Not Critical Violation  \n",
       "2  Not Critical Violation  \n",
       "3  Not Critical Violation  \n",
       "4  Not Critical Violation  \n",
       "\n",
       "[5 rows x 25 columns]"
      ]
     },
     "execution_count": 105,
     "metadata": {},
     "output_type": "execute_result"
    }
   ],
   "source": [
    "svd_df.head()"
   ]
  },
  {
   "cell_type": "code",
   "execution_count": 107,
   "metadata": {},
   "outputs": [
    {
     "data": {
      "text/plain": [
       "(616117, 25)"
      ]
     },
     "execution_count": 107,
     "metadata": {},
     "output_type": "execute_result"
    }
   ],
   "source": [
    "svd_df.shape"
   ]
  },
  {
   "cell_type": "code",
   "execution_count": 109,
   "metadata": {},
   "outputs": [
    {
     "name": "stdout",
     "output_type": "stream",
     "text": [
      "<class 'pandas.core.frame.DataFrame'>\n",
      "RangeIndex: 616117 entries, 0 to 616116\n",
      "Columns: 25 entries, Component_1 to critical_violation\n",
      "dtypes: category(1), float64(24)\n",
      "memory usage: 113.4 MB\n"
     ]
    }
   ],
   "source": [
    "svd_df.info(verbose=False,memory_usage='deep')"
   ]
  },
  {
   "cell_type": "code",
   "execution_count": 111,
   "metadata": {},
   "outputs": [
    {
     "data": {
      "text/plain": [
       "Component_1            float64\n",
       "Component_2            float64\n",
       "Component_3            float64\n",
       "Component_4            float64\n",
       "Component_5            float64\n",
       "Component_6            float64\n",
       "Component_7            float64\n",
       "Component_8            float64\n",
       "Component_9            float64\n",
       "Component_10           float64\n",
       "Component_11           float64\n",
       "Component_12           float64\n",
       "Component_13           float64\n",
       "Component_14           float64\n",
       "Component_15           float64\n",
       "Component_16           float64\n",
       "Component_17           float64\n",
       "Component_18           float64\n",
       "Component_19           float64\n",
       "Component_20           float64\n",
       "Component_21           float64\n",
       "Component_22           float64\n",
       "Component_23           float64\n",
       "Component_24           float64\n",
       "critical_violation    category\n",
       "dtype: object"
      ]
     },
     "execution_count": 111,
     "metadata": {},
     "output_type": "execute_result"
    }
   ],
   "source": [
    "svd_df.dtypes"
   ]
  },
  {
   "cell_type": "markdown",
   "metadata": {},
   "source": [
    "MEMORY MANAGMENT"
   ]
  },
  {
   "cell_type": "code",
   "execution_count": 113,
   "metadata": {},
   "outputs": [],
   "source": [
    "cols_to_change = svd_df.columns.drop('critical_violation')\n",
    "svd_df[cols_to_change] = svd_df[cols_to_change].astype(np.float16)\n"
   ]
  },
  {
   "cell_type": "code",
   "execution_count": 115,
   "metadata": {},
   "outputs": [
    {
     "name": "stdout",
     "output_type": "stream",
     "text": [
      "<class 'pandas.core.frame.DataFrame'>\n",
      "RangeIndex: 616117 entries, 0 to 616116\n",
      "Columns: 25 entries, Component_1 to critical_violation\n",
      "dtypes: category(1), float16(24)\n",
      "memory usage: 28.8 MB\n"
     ]
    }
   ],
   "source": [
    "svd_df.info(verbose=False,memory_usage='deep')"
   ]
  },
  {
   "cell_type": "markdown",
   "metadata": {},
   "source": [
    "CLASS IMBALANCE"
   ]
  },
  {
   "cell_type": "code",
   "execution_count": 117,
   "metadata": {},
   "outputs": [
    {
     "data": {
      "text/plain": [
       "critical_violation\n",
       "Not Critical Violation    549705\n",
       "Critical Violation         66412\n",
       "Name: count, dtype: int64"
      ]
     },
     "execution_count": 117,
     "metadata": {},
     "output_type": "execute_result"
    }
   ],
   "source": [
    "svd_df['critical_violation'].value_counts()"
   ]
  },
  {
   "cell_type": "markdown",
   "metadata": {},
   "source": [
    "LABEL ENCODING THE TARGET"
   ]
  },
  {
   "cell_type": "code",
   "execution_count": 119,
   "metadata": {},
   "outputs": [],
   "source": [
    "from sklearn.preprocessing import LabelEncoder\n",
    "le = LabelEncoder()\n",
    "svd_df['critical_violation']= le.fit_transform(svd_df['critical_violation'])"
   ]
  },
  {
   "cell_type": "code",
   "execution_count": 121,
   "metadata": {},
   "outputs": [
    {
     "data": {
      "text/html": [
       "<div>\n",
       "<style scoped>\n",
       "    .dataframe tbody tr th:only-of-type {\n",
       "        vertical-align: middle;\n",
       "    }\n",
       "\n",
       "    .dataframe tbody tr th {\n",
       "        vertical-align: top;\n",
       "    }\n",
       "\n",
       "    .dataframe thead th {\n",
       "        text-align: right;\n",
       "    }\n",
       "</style>\n",
       "<table border=\"1\" class=\"dataframe\">\n",
       "  <thead>\n",
       "    <tr style=\"text-align: right;\">\n",
       "      <th></th>\n",
       "      <th>Component_1</th>\n",
       "      <th>Component_2</th>\n",
       "      <th>Component_3</th>\n",
       "      <th>Component_4</th>\n",
       "      <th>Component_5</th>\n",
       "      <th>Component_6</th>\n",
       "      <th>Component_7</th>\n",
       "      <th>Component_8</th>\n",
       "      <th>Component_9</th>\n",
       "      <th>Component_10</th>\n",
       "      <th>...</th>\n",
       "      <th>Component_16</th>\n",
       "      <th>Component_17</th>\n",
       "      <th>Component_18</th>\n",
       "      <th>Component_19</th>\n",
       "      <th>Component_20</th>\n",
       "      <th>Component_21</th>\n",
       "      <th>Component_22</th>\n",
       "      <th>Component_23</th>\n",
       "      <th>Component_24</th>\n",
       "      <th>critical_violation</th>\n",
       "    </tr>\n",
       "  </thead>\n",
       "  <tbody>\n",
       "    <tr>\n",
       "      <th>168935</th>\n",
       "      <td>1.781250</td>\n",
       "      <td>-0.330322</td>\n",
       "      <td>-0.108093</td>\n",
       "      <td>-0.594238</td>\n",
       "      <td>-0.775879</td>\n",
       "      <td>-0.078735</td>\n",
       "      <td>0.251709</td>\n",
       "      <td>0.188843</td>\n",
       "      <td>-0.110413</td>\n",
       "      <td>0.008408</td>\n",
       "      <td>...</td>\n",
       "      <td>0.060089</td>\n",
       "      <td>-0.355225</td>\n",
       "      <td>-0.632324</td>\n",
       "      <td>0.627441</td>\n",
       "      <td>-0.034180</td>\n",
       "      <td>0.017532</td>\n",
       "      <td>0.014732</td>\n",
       "      <td>0.073303</td>\n",
       "      <td>0.000651</td>\n",
       "      <td>1</td>\n",
       "    </tr>\n",
       "    <tr>\n",
       "      <th>366518</th>\n",
       "      <td>1.467773</td>\n",
       "      <td>-1.375000</td>\n",
       "      <td>0.295410</td>\n",
       "      <td>0.330566</td>\n",
       "      <td>0.082397</td>\n",
       "      <td>0.556641</td>\n",
       "      <td>-0.662109</td>\n",
       "      <td>-0.725098</td>\n",
       "      <td>0.153809</td>\n",
       "      <td>-0.687012</td>\n",
       "      <td>...</td>\n",
       "      <td>-0.001188</td>\n",
       "      <td>0.019684</td>\n",
       "      <td>0.003914</td>\n",
       "      <td>-0.009209</td>\n",
       "      <td>-0.028214</td>\n",
       "      <td>-0.000421</td>\n",
       "      <td>-0.047974</td>\n",
       "      <td>0.021210</td>\n",
       "      <td>-0.002884</td>\n",
       "      <td>1</td>\n",
       "    </tr>\n",
       "    <tr>\n",
       "      <th>614706</th>\n",
       "      <td>1.041016</td>\n",
       "      <td>-1.444336</td>\n",
       "      <td>0.341064</td>\n",
       "      <td>0.461182</td>\n",
       "      <td>0.656250</td>\n",
       "      <td>0.420410</td>\n",
       "      <td>0.651367</td>\n",
       "      <td>-1.078125</td>\n",
       "      <td>0.236816</td>\n",
       "      <td>-0.095337</td>\n",
       "      <td>...</td>\n",
       "      <td>-0.004448</td>\n",
       "      <td>-0.012482</td>\n",
       "      <td>-0.003885</td>\n",
       "      <td>-0.000050</td>\n",
       "      <td>-0.039642</td>\n",
       "      <td>-0.006710</td>\n",
       "      <td>-0.038208</td>\n",
       "      <td>0.018936</td>\n",
       "      <td>0.006130</td>\n",
       "      <td>1</td>\n",
       "    </tr>\n",
       "    <tr>\n",
       "      <th>185292</th>\n",
       "      <td>1.122070</td>\n",
       "      <td>-1.065430</td>\n",
       "      <td>0.198730</td>\n",
       "      <td>0.184326</td>\n",
       "      <td>-0.022751</td>\n",
       "      <td>1.046875</td>\n",
       "      <td>1.252930</td>\n",
       "      <td>-0.247559</td>\n",
       "      <td>-0.071411</td>\n",
       "      <td>0.005646</td>\n",
       "      <td>...</td>\n",
       "      <td>0.021622</td>\n",
       "      <td>-0.135376</td>\n",
       "      <td>-0.045776</td>\n",
       "      <td>-0.134155</td>\n",
       "      <td>-0.009254</td>\n",
       "      <td>-0.022263</td>\n",
       "      <td>-0.007240</td>\n",
       "      <td>-0.101013</td>\n",
       "      <td>0.002195</td>\n",
       "      <td>1</td>\n",
       "    </tr>\n",
       "    <tr>\n",
       "      <th>547002</th>\n",
       "      <td>1.728516</td>\n",
       "      <td>1.397461</td>\n",
       "      <td>-0.135132</td>\n",
       "      <td>2.130859</td>\n",
       "      <td>-0.486816</td>\n",
       "      <td>1.063477</td>\n",
       "      <td>-0.017761</td>\n",
       "      <td>-0.089539</td>\n",
       "      <td>-0.025208</td>\n",
       "      <td>-0.009903</td>\n",
       "      <td>...</td>\n",
       "      <td>0.044617</td>\n",
       "      <td>-0.288818</td>\n",
       "      <td>-0.612305</td>\n",
       "      <td>0.667969</td>\n",
       "      <td>-0.030273</td>\n",
       "      <td>0.026199</td>\n",
       "      <td>0.023590</td>\n",
       "      <td>0.102905</td>\n",
       "      <td>-0.002026</td>\n",
       "      <td>1</td>\n",
       "    </tr>\n",
       "  </tbody>\n",
       "</table>\n",
       "<p>5 rows × 25 columns</p>\n",
       "</div>"
      ],
      "text/plain": [
       "        Component_1  Component_2  Component_3  Component_4  Component_5  \\\n",
       "168935     1.781250    -0.330322    -0.108093    -0.594238    -0.775879   \n",
       "366518     1.467773    -1.375000     0.295410     0.330566     0.082397   \n",
       "614706     1.041016    -1.444336     0.341064     0.461182     0.656250   \n",
       "185292     1.122070    -1.065430     0.198730     0.184326    -0.022751   \n",
       "547002     1.728516     1.397461    -0.135132     2.130859    -0.486816   \n",
       "\n",
       "        Component_6  Component_7  Component_8  Component_9  Component_10  ...  \\\n",
       "168935    -0.078735     0.251709     0.188843    -0.110413      0.008408  ...   \n",
       "366518     0.556641    -0.662109    -0.725098     0.153809     -0.687012  ...   \n",
       "614706     0.420410     0.651367    -1.078125     0.236816     -0.095337  ...   \n",
       "185292     1.046875     1.252930    -0.247559    -0.071411      0.005646  ...   \n",
       "547002     1.063477    -0.017761    -0.089539    -0.025208     -0.009903  ...   \n",
       "\n",
       "        Component_16  Component_17  Component_18  Component_19  Component_20  \\\n",
       "168935      0.060089     -0.355225     -0.632324      0.627441     -0.034180   \n",
       "366518     -0.001188      0.019684      0.003914     -0.009209     -0.028214   \n",
       "614706     -0.004448     -0.012482     -0.003885     -0.000050     -0.039642   \n",
       "185292      0.021622     -0.135376     -0.045776     -0.134155     -0.009254   \n",
       "547002      0.044617     -0.288818     -0.612305      0.667969     -0.030273   \n",
       "\n",
       "        Component_21  Component_22  Component_23  Component_24  \\\n",
       "168935      0.017532      0.014732      0.073303      0.000651   \n",
       "366518     -0.000421     -0.047974      0.021210     -0.002884   \n",
       "614706     -0.006710     -0.038208      0.018936      0.006130   \n",
       "185292     -0.022263     -0.007240     -0.101013      0.002195   \n",
       "547002      0.026199      0.023590      0.102905     -0.002026   \n",
       "\n",
       "        critical_violation  \n",
       "168935                   1  \n",
       "366518                   1  \n",
       "614706                   1  \n",
       "185292                   1  \n",
       "547002                   1  \n",
       "\n",
       "[5 rows x 25 columns]"
      ]
     },
     "execution_count": 121,
     "metadata": {},
     "output_type": "execute_result"
    }
   ],
   "source": [
    "svd_df.sample(5)"
   ]
  },
  {
   "cell_type": "markdown",
   "metadata": {},
   "source": [
    "MODEL FITTING"
   ]
  },
  {
   "cell_type": "code",
   "execution_count": 125,
   "metadata": {},
   "outputs": [],
   "source": [
    "from sklearn.model_selection import train_test_split, RandomizedSearchCV\n",
    "from sklearn.ensemble import RandomForestClassifier, GradientBoostingClassifier\n",
    "from sklearn.linear_model import LogisticRegression\n",
    "from sklearn.svm import SVC\n",
    "from sklearn.metrics import classification_report, confusion_matrix\n",
    "from scipy.sparse import csr_matrix\n",
    "from sklearn.metrics import accuracy_score, classification_report, confusion_matrix\n"
   ]
  },
  {
   "cell_type": "code",
   "execution_count": 129,
   "metadata": {},
   "outputs": [
    {
     "name": "stdout",
     "output_type": "stream",
     "text": [
      "(394314, 24) (394314,)\n",
      "(98579, 24) (98579,)\n",
      "(123224, 24) (123224,)\n"
     ]
    }
   ],
   "source": [
    "X = svd_df.drop('critical_violation',axis=1)\n",
    "y = svd_df['critical_violation']\n",
    "\n",
    "# Split the data\n",
    "X_,X_test,y_,y_test = train_test_split(X,y,test_size =0.2,random_state = 42)\n",
    "X_train,X_val,y_train,y_val = train_test_split(X_,y_,test_size=0.2,random_state=42)\n",
    "print(X_train.shape, y_train.shape)\n",
    "print(X_val.shape, y_val.shape)\n",
    "print(X_test.shape, y_test.shape)\n"
   ]
  },
  {
   "cell_type": "markdown",
   "metadata": {},
   "source": [
    "LOGISITIC REGRESSION"
   ]
  },
  {
   "cell_type": "code",
   "execution_count": 76,
   "metadata": {},
   "outputs": [
    {
     "name": "stdout",
     "output_type": "stream",
     "text": [
      "Accuracy: 0.932594299811725\n",
      "Classification Report:\n",
      "              precision    recall  f1-score   support\n",
      "\n",
      "           0       0.77      0.54      0.63     13344\n",
      "           1       0.95      0.98      0.96    109880\n",
      "\n",
      "    accuracy                           0.93    123224\n",
      "   macro avg       0.86      0.76      0.80    123224\n",
      "weighted avg       0.93      0.93      0.93    123224\n",
      "\n",
      "Confusion Matrix:\n",
      "[[  7174   6170]\n",
      " [  2136 107744]]\n"
     ]
    }
   ],
   "source": [
    "logreg = LogisticRegression()\n",
    "\n",
    "# Train the model on the training data\n",
    "logreg.fit(X_train, y_train)\n",
    "\n",
    "# Make predictions on the testing data\n",
    "y_pred = logreg.predict(X_test)\n",
    "\n",
    "# Evaluate the model\n",
    "accuracy = accuracy_score(y_test, y_pred)\n",
    "print(\"Accuracy:\", accuracy)\n",
    "print(\"Classification Report:\")\n",
    "print(classification_report(y_test, y_pred))\n",
    "print(\"Confusion Matrix:\")\n",
    "print(confusion_matrix(y_test, y_pred))"
   ]
  },
  {
   "cell_type": "markdown",
   "metadata": {},
   "source": [
    "FINE TUNE LOG REG"
   ]
  },
  {
   "cell_type": "code",
   "execution_count": 77,
   "metadata": {},
   "outputs": [
    {
     "name": "stdout",
     "output_type": "stream",
     "text": [
      "Best hyperparameters: {'C': 1, 'class_weight': 'balanced', 'penalty': 'l2'}\n",
      "Best score: 0.9016196172073092\n",
      "Accuracy: 0.9002710510939428\n",
      "Classification Report:\n",
      "              precision    recall  f1-score   support\n",
      "\n",
      "           0       0.52      0.91      0.66     13344\n",
      "           1       0.99      0.90      0.94    109880\n",
      "\n",
      "    accuracy                           0.90    123224\n",
      "   macro avg       0.76      0.90      0.80    123224\n",
      "weighted avg       0.94      0.90      0.91    123224\n",
      "\n",
      "Confusion Matrix:\n",
      "[[12104  1240]\n",
      " [11049 98831]]\n"
     ]
    }
   ],
   "source": [
    "from sklearn.model_selection import GridSearchCV\n",
    "\n",
    "# Define the hyperparameter grid\n",
    "param_grid = [\n",
    "    {\n",
    "        'C': [0.1, 1, 10, 100, 1000],\n",
    "        'penalty': ['l2'],\n",
    "        'class_weight': ['balanced']\n",
    "    }\n",
    "]\n",
    "\n",
    "# Initialize the GridSearchCV object\n",
    "grid_search = GridSearchCV(LogisticRegression(), param_grid, cv=5, scoring='accuracy')\n",
    "\n",
    "# Fit the grid search to the data\n",
    "grid_search.fit(X_train, y_train)\n",
    "\n",
    "# Print the best hyperparameters and the corresponding score\n",
    "print(\"Best hyperparameters:\", grid_search.best_params_)\n",
    "print(\"Best score:\", grid_search.best_score_)\n",
    "\n",
    "# Use the best hyperparameters to train a new LogisticRegression model\n",
    "best_logreg = LogisticRegression(**grid_search.best_params_)\n",
    "best_logreg.fit(X_train, y_train)\n",
    "\n",
    "# Evaluate the best model on the test data\n",
    "y_pred = best_logreg.predict(X_test)\n",
    "accuracy = accuracy_score(y_test, y_pred)\n",
    "print(\"Accuracy:\", accuracy)\n",
    "print(\"Classification Report:\")\n",
    "print(classification_report(y_test, y_pred))\n",
    "print(\"Confusion Matrix:\")\n",
    "print(confusion_matrix(y_test, y_pred))"
   ]
  },
  {
   "cell_type": "markdown",
   "metadata": {},
   "source": [
    "RANDOM FOREST"
   ]
  },
  {
   "cell_type": "code",
   "execution_count": 78,
   "metadata": {},
   "outputs": [
    {
     "name": "stdout",
     "output_type": "stream",
     "text": [
      "Accuracy: 0.9883220801142635\n",
      "Classification Report:\n",
      "              precision    recall  f1-score   support\n",
      "\n",
      "           0       0.98      0.91      0.94     13344\n",
      "           1       0.99      1.00      0.99    109880\n",
      "\n",
      "    accuracy                           0.99    123224\n",
      "   macro avg       0.98      0.96      0.97    123224\n",
      "weighted avg       0.99      0.99      0.99    123224\n",
      "\n",
      "Confusion Matrix:\n",
      "[[ 12199   1145]\n",
      " [   294 109586]]\n"
     ]
    }
   ],
   "source": [
    "rf = RandomForestClassifier(n_estimators=100, random_state=42)\n",
    "\n",
    "# Train the model on the training data\n",
    "rf.fit(X_train, y_train)\n",
    "\n",
    "# Make predictions on the testing data\n",
    "y_pred = rf.predict(X_test)\n",
    "\n",
    "# Evaluate the model\n",
    "accuracy = accuracy_score(y_test, y_pred)\n",
    "print(\"Accuracy:\", accuracy)\n",
    "print(\"Classification Report:\")\n",
    "print(classification_report(y_test, y_pred))\n",
    "print(\"Confusion Matrix:\")\n",
    "print(confusion_matrix(y_test, y_pred))"
   ]
  },
  {
   "cell_type": "markdown",
   "metadata": {},
   "source": [
    "GRADIENT BOOSTING"
   ]
  },
  {
   "cell_type": "code",
   "execution_count": 79,
   "metadata": {},
   "outputs": [
    {
     "name": "stdout",
     "output_type": "stream",
     "text": [
      "Accuracy on test set: 0.9790462896838278\n",
      "Classification Report:\n",
      "              precision    recall  f1-score   support\n",
      "\n",
      "           0       0.91      0.89      0.90     13344\n",
      "           1       0.99      0.99      0.99    109880\n",
      "\n",
      "    accuracy                           0.98    123224\n",
      "   macro avg       0.95      0.94      0.95    123224\n",
      "weighted avg       0.98      0.98      0.98    123224\n",
      "\n",
      "Confusion Matrix:\n",
      "[[ 11902   1442]\n",
      " [  1140 108740]]\n"
     ]
    }
   ],
   "source": [
    "gb_params = {\n",
    "    'n_estimators': 100,\n",
    "    'learning_rate': 0.1,\n",
    "    'max_depth': 4,\n",
    "    'subsample': 0.9,\n",
    "    'min_samples_split': 5,\n",
    "    'min_samples_leaf': 2,\n",
    "    'random_state': 42\n",
    "}\n",
    "\n",
    "# Initialize the GradientBoostingClassifier with the chosen hyperparameters\n",
    "gb = GradientBoostingClassifier(**gb_params)\n",
    "\n",
    "# Fit the model to the training data\n",
    "gb.fit(X_train, y_train)\n",
    "\n",
    "# Predict on the test set\n",
    "y_pred = gb.predict(X_test)\n",
    "\n",
    "test_accuracy = accuracy_score(y_test, y_pred)\n",
    "print(f\"Accuracy on test set: {test_accuracy}\")\n",
    "\n",
    "# Generate classification report\n",
    "class_report = classification_report(y_test, y_pred)\n",
    "print(f\"Classification Report:\\n{class_report}\")\n",
    "# Generate confusion matrix\n",
    "conf_matrix = confusion_matrix(y_test, y_pred)\n",
    "print(f\"Confusion Matrix:\\n{conf_matrix}\")\n"
   ]
  },
  {
   "cell_type": "markdown",
   "metadata": {},
   "source": [
    "SUPPORT VECTOR MACHINE"
   ]
  },
  {
   "cell_type": "code",
   "execution_count": 80,
   "metadata": {},
   "outputs": [
    {
     "name": "stdout",
     "output_type": "stream",
     "text": [
      "Accuracy: 0.93\n",
      "Classification Report:\n",
      "              precision    recall  f1-score   support\n",
      "\n",
      "           0       0.61      0.95      0.75     13344\n",
      "           1       0.99      0.93      0.96    109880\n",
      "\n",
      "    accuracy                           0.93    123224\n",
      "   macro avg       0.80      0.94      0.85    123224\n",
      "weighted avg       0.95      0.93      0.94    123224\n",
      "\n"
     ]
    }
   ],
   "source": [
    "from sklearn.svm import SVC\n",
    "from sklearn.metrics import accuracy_score, classification_report\n",
    "\n",
    "# Initializing the SVM classifier\n",
    "svm_classifier = SVC(C=1, kernel='rbf', gamma=0.1, class_weight='balanced')\n",
    "\n",
    "# Fitting the classifier to the training data\n",
    "svm_classifier.fit(X_train, y_train)\n",
    "\n",
    "# Making predictions on the test data\n",
    "y_pred = svm_classifier.predict(X_test)\n",
    "\n",
    "# Calculating accuracy\n",
    "accuracy = accuracy_score(y_test, y_pred)\n",
    "\n",
    "# Generating a classification report\n",
    "report = classification_report(y_test, y_pred)\n",
    "\n",
    "# Printing the results\n",
    "print(f\"Accuracy: {accuracy:.2f}\")\n",
    "print(\"Classification Report:\")\n",
    "print(report)\n"
   ]
  },
  {
   "cell_type": "code",
   "execution_count": null,
   "metadata": {},
   "outputs": [],
   "source": []
  },
  {
   "cell_type": "code",
   "execution_count": null,
   "metadata": {},
   "outputs": [],
   "source": []
  },
  {
   "cell_type": "code",
   "execution_count": null,
   "metadata": {},
   "outputs": [],
   "source": []
  },
  {
   "cell_type": "code",
   "execution_count": 133,
   "metadata": {},
   "outputs": [],
   "source": [
    "from sklearn.ensemble import RandomForestClassifier, GradientBoostingClassifier\n",
    "from sklearn.linear_model import LogisticRegression\n",
    "from sklearn.svm import SVC\n",
    "from sklearn.model_selection import learning_curve\n",
    "from xgboost import XGBClassifier\n",
    "from imblearn.over_sampling import SMOTE\n",
    "from imblearn.pipeline import Pipeline as ImbPipeline"
   ]
  },
  {
   "cell_type": "code",
   "execution_count": 131,
   "metadata": {},
   "outputs": [],
   "source": [
    "train_df = pd.DataFrame(X_train).assign(target=y_train)\n",
    "val_df = pd.DataFrame(X_val).assign(target=y_val)\n",
    "test_df = pd.DataFrame(X_test).assign(target=y_test)"
   ]
  },
  {
   "cell_type": "code",
   "execution_count": 137,
   "metadata": {},
   "outputs": [
    {
     "name": "stdout",
     "output_type": "stream",
     "text": [
      "(492893, 24) (492893,)\n"
     ]
    }
   ],
   "source": [
    "def split_data(data):\n",
    "    X = data.drop('target', axis=1)\n",
    "    y = data['target']\n",
    "    return X, y\n",
    "\n",
    "data = pd.concat([train_df, val_df], axis=0)\n",
    "X_data, y_data = split_data(data)\n",
    "print(X_data.shape, y_data.shape)"
   ]
  },
  {
   "cell_type": "code",
   "execution_count": 139,
   "metadata": {},
   "outputs": [],
   "source": [
    "algorithms = {\n",
    "    'logistic regression': LogisticRegression(class_weight='balanced', random_state=42),\n",
    "    'random_forest': RandomForestClassifier(class_weight='balanced',n_estimators=100, random_state=42),\n",
    "    'Gradient Boosting with SMOTE': ImbPipeline(steps=[\n",
    "        ('smote', SMOTE(random_state=42)),\n",
    "        ('gb', GradientBoostingClassifier(n_estimators = 100,\n",
    "    learning_rate =  0.1,\n",
    "     max_depth =  4,\n",
    "     subsample = 0.9,\n",
    "     min_samples_split = 5,\n",
    "    min_samples_leaf= 2,\n",
    "    random_state = 42))\n",
    "    ]),\n",
    "    'XGBOOST CLASSIFIER': XGBClassifier(scale_pos_weight=(len(y_data) - sum(y_data)) / sum(y_data), random_state=42,\n",
    "    learning_rate=0.01,\n",
    "    n_estimators=1000,\n",
    "    max_depth=7,\n",
    "    min_child_weight=1,\n",
    "    gamma=0.1,\n",
    "    subsample=0.8,\n",
    "    colsample_bytree=0.8,\n",
    "    objective='binary:logistic',\n",
    "    nthread=4,\n",
    "    seed=42,\n",
    "    use_label_encoder=False)\n",
    "    \n",
    "}"
   ]
  },
  {
   "cell_type": "code",
   "execution_count": 141,
   "metadata": {},
   "outputs": [],
   "source": [
    "def plot_curves(sizes, mean_scores, std_scores, label, ax):\n",
    "\tax.plot(\n",
    "\t\tsizes,\n",
    "\t\tmean_scores,\n",
    "\t\tmarker=\"o\",\n",
    "\t\tlabel=label\n",
    "\t)\n",
    "\n",
    "\tax.fill_between(\n",
    "\t\tx=sizes,\n",
    "\t\ty1=mean_scores - std_scores,\n",
    "\t\ty2=mean_scores + std_scores,\n",
    "\t\talpha=0.5\n",
    "\t)"
   ]
  },
  {
   "cell_type": "code",
   "execution_count": 143,
   "metadata": {},
   "outputs": [],
   "source": [
    "def plot_learning_curves(name, algorithm, figsize=(12, 4),fit_params={}):\n",
    "\ttrain_sizes, train_scores, test_scores = learning_curve(\n",
    "\t\testimator=algorithm,\n",
    "\t\tX=X_data,\n",
    "\t\ty=y_data,\n",
    "\t\tcv=3,\n",
    "\t\tscoring=\"accuracy\",\n",
    "\t\tn_jobs=-1,\n",
    "\t\trandom_state=42\n",
    "\t)\n",
    "\t\n",
    "\tmean_train_scores = np.mean(train_scores, axis=1)\n",
    "\tstd_train_scores = np.std(train_scores, axis=1)\n",
    "\ttrain_score = f\"{mean_train_scores[-1]:.2f} +/- {std_train_scores[-1]:.2f}\"\n",
    "\n",
    "\tmean_test_scores = np.mean(test_scores, axis=1)\n",
    "\tstd_test_scores = np.std(test_scores, axis=1)\n",
    "\ttest_score = f\"{mean_test_scores[-1]:.2f} +/- {std_test_scores[-1]:.2f}\"\n",
    "\n",
    "\tfig, ax = plt.subplots(figsize=figsize)\n",
    "\n",
    "\t# training curve\n",
    "\tplot_curves(\n",
    "\t\ttrain_sizes,\n",
    "\t\tmean_train_scores,\n",
    "\t\tstd_train_scores,\n",
    "\t\tf\"Train ({train_score})\",\n",
    "\t\tax\n",
    "\t)\n",
    "\n",
    "\t# test curve\n",
    "\tplot_curves(\n",
    "\t\ttrain_sizes,\n",
    "\t\tmean_test_scores,\n",
    "\t\tstd_test_scores,\n",
    "\t\tf\"Test ({test_score})\",\n",
    "\t\tax\n",
    "\t)\n",
    "\n",
    "\tax.set(xlabel=\"Training Set Size\", ylabel=\"Accuracy\", title=name)\n",
    "\n",
    "\tax.legend(loc=\"lower right\")\n",
    "\n",
    "\tplt.show()"
   ]
  },
  {
   "cell_type": "code",
   "execution_count": 145,
   "metadata": {},
   "outputs": [
    {
     "data": {
      "image/png": "[encoded data removed]",
      "text/plain": [
       "<Figure size 1200x400 with 1 Axes>"
      ]
     },
     "metadata": {},
     "output_type": "display_data"
    },
    {
     "data": {
      "image/png": "[encoded data removed]",
      "text/plain": [
       "<Figure size 1200x400 with 1 Axes>"
      ]
     },
     "metadata": {},
     "output_type": "display_data"
    },
    {
     "name": "stderr",
     "output_type": "stream",
     "text": [
      "C:\\Users\\STSC\\anaconda3\\envs\\NYFDPRED\\Lib\\site-packages\\sklearn\\model_selection\\_validation.py:540: FitFailedWarning: \n",
      "10 fits failed out of a total of 15.\n",
      "The score on these train-test partitions for these parameters will be set to nan.\n",
      "If these failures are not expected, you can try to debug them by setting error_score='raise'.\n",
      "\n",
      "Below are more details about the failures:\n",
      "--------------------------------------------------------------------------------\n",
      "1 fits failed with the following error:\n",
      "Traceback (most recent call last):\n",
      "  File \"C:\\Users\\STSC\\anaconda3\\envs\\NYFDPRED\\Lib\\site-packages\\sklearn\\model_selection\\_validation.py\", line 888, in _fit_and_score\n",
      "    estimator.fit(X_train, y_train, **fit_params)\n",
      "  File \"C:\\Users\\STSC\\anaconda3\\envs\\NYFDPRED\\Lib\\site-packages\\sklearn\\base.py\", line 1473, in wrapper\n",
      "    return fit_method(estimator, *args, **kwargs)\n",
      "           ^^^^^^^^^^^^^^^^^^^^^^^^^^^^^^^^^^^^^^\n",
      "  File \"C:\\Users\\STSC\\anaconda3\\envs\\NYFDPRED\\Lib\\site-packages\\imblearn\\pipeline.py\", line 329, in fit\n",
      "    Xt, yt = self._fit(X, y, routed_params)\n",
      "             ^^^^^^^^^^^^^^^^^^^^^^^^^^^^^^\n",
      "  File \"C:\\Users\\STSC\\anaconda3\\envs\\NYFDPRED\\Lib\\site-packages\\imblearn\\pipeline.py\", line 265, in _fit\n",
      "    X, y, fitted_transformer = fit_resample_one_cached(\n",
      "                               ^^^^^^^^^^^^^^^^^^^^^^^^\n",
      "  File \"C:\\Users\\STSC\\anaconda3\\envs\\NYFDPRED\\Lib\\site-packages\\joblib\\memory.py\", line 312, in __call__\n",
      "    return self.func(*args, **kwargs)\n",
      "           ^^^^^^^^^^^^^^^^^^^^^^^^^^\n",
      "  File \"C:\\Users\\STSC\\anaconda3\\envs\\NYFDPRED\\Lib\\site-packages\\imblearn\\pipeline.py\", line 1057, in _fit_resample_one\n",
      "    X_res, y_res = sampler.fit_resample(X, y, **params.get(\"fit_resample\", {}))\n",
      "                   ^^^^^^^^^^^^^^^^^^^^^^^^^^^^^^^^^^^^^^^^^^^^^^^^^^^^^^^^^^^^\n",
      "  File \"C:\\Users\\STSC\\anaconda3\\envs\\NYFDPRED\\Lib\\site-packages\\imblearn\\base.py\", line 208, in fit_resample\n",
      "    return super().fit_resample(X, y)\n",
      "           ^^^^^^^^^^^^^^^^^^^^^^^^^^\n",
      "  File \"C:\\Users\\STSC\\anaconda3\\envs\\NYFDPRED\\Lib\\site-packages\\imblearn\\base.py\", line 112, in fit_resample\n",
      "    output = self._fit_resample(X, y)\n",
      "             ^^^^^^^^^^^^^^^^^^^^^^^^\n",
      "  File \"C:\\Users\\STSC\\anaconda3\\envs\\NYFDPRED\\Lib\\site-packages\\imblearn\\over_sampling\\_smote\\base.py\", line 389, in _fit_resample\n",
      "    nns = self.nn_k_.kneighbors(X_class, return_distance=False)[:, 1:]\n",
      "          ^^^^^^^^^^^^^^^^^^^^^^^^^^^^^^^^^^^^^^^^^^^^^^^^^^^^^\n",
      "  File \"C:\\Users\\STSC\\anaconda3\\envs\\NYFDPRED\\Lib\\site-packages\\sklearn\\neighbors\\_base.py\", line 886, in kneighbors\n",
      "    chunked_results = list(\n",
      "                      ^^^^^\n",
      "  File \"C:\\Users\\STSC\\anaconda3\\envs\\NYFDPRED\\Lib\\site-packages\\sklearn\\metrics\\pairwise.py\", line 2172, in pairwise_distances_chunked\n",
      "    D_chunk = pairwise_distances(X_chunk, Y, metric=metric, n_jobs=n_jobs, **kwds)\n",
      "              ^^^^^^^^^^^^^^^^^^^^^^^^^^^^^^^^^^^^^^^^^^^^^^^^^^^^^^^^^^^^^^^^^^^^\n",
      "  File \"C:\\Users\\STSC\\anaconda3\\envs\\NYFDPRED\\Lib\\site-packages\\sklearn\\utils\\_param_validation.py\", line 213, in wrapper\n",
      "    return func(*args, **kwargs)\n",
      "           ^^^^^^^^^^^^^^^^^^^^^\n",
      "  File \"C:\\Users\\STSC\\anaconda3\\envs\\NYFDPRED\\Lib\\site-packages\\sklearn\\metrics\\pairwise.py\", line 2375, in pairwise_distances\n",
      "    return _parallel_pairwise(X, Y, func, n_jobs, **kwds)\n",
      "           ^^^^^^^^^^^^^^^^^^^^^^^^^^^^^^^^^^^^^^^^^^^^^^\n",
      "  File \"C:\\Users\\STSC\\anaconda3\\envs\\NYFDPRED\\Lib\\site-packages\\sklearn\\metrics\\pairwise.py\", line 1893, in _parallel_pairwise\n",
      "    return func(X, Y, **kwds)\n",
      "           ^^^^^^^^^^^^^^^^^^\n",
      "  File \"C:\\Users\\STSC\\anaconda3\\envs\\NYFDPRED\\Lib\\site-packages\\sklearn\\utils\\_param_validation.py\", line 186, in wrapper\n",
      "    return func(*args, **kwargs)\n",
      "           ^^^^^^^^^^^^^^^^^^^^^\n",
      "  File \"C:\\Users\\STSC\\anaconda3\\envs\\NYFDPRED\\Lib\\site-packages\\sklearn\\metrics\\pairwise.py\", line 372, in euclidean_distances\n",
      "    return _euclidean_distances(X, Y, X_norm_squared, Y_norm_squared, squared)\n",
      "           ^^^^^^^^^^^^^^^^^^^^^^^^^^^^^^^^^^^^^^^^^^^^^^^^^^^^^^^^^^^^^^^^^^^\n",
      "  File \"C:\\Users\\STSC\\anaconda3\\envs\\NYFDPRED\\Lib\\site-packages\\sklearn\\metrics\\pairwise.py\", line 407, in _euclidean_distances\n",
      "    distances = -2 * safe_sparse_dot(X, Y.T, dense_output=True)\n",
      "                ~~~^~~~~~~~~~~~~~~~~~~~~~~~~~~~~~~~~~~~~~~~~~~~\n",
      "numpy.core._exceptions._ArrayMemoryError: Unable to allocate 1.00 GiB for an array with shape (11493, 11678) and data type float64\n",
      "\n",
      "--------------------------------------------------------------------------------\n",
      "2 fits failed with the following error:\n",
      "Traceback (most recent call last):\n",
      "  File \"C:\\Users\\STSC\\anaconda3\\envs\\NYFDPRED\\Lib\\site-packages\\sklearn\\model_selection\\_validation.py\", line 888, in _fit_and_score\n",
      "    estimator.fit(X_train, y_train, **fit_params)\n",
      "  File \"C:\\Users\\STSC\\anaconda3\\envs\\NYFDPRED\\Lib\\site-packages\\sklearn\\base.py\", line 1473, in wrapper\n",
      "    return fit_method(estimator, *args, **kwargs)\n",
      "           ^^^^^^^^^^^^^^^^^^^^^^^^^^^^^^^^^^^^^^\n",
      "  File \"C:\\Users\\STSC\\anaconda3\\envs\\NYFDPRED\\Lib\\site-packages\\imblearn\\pipeline.py\", line 329, in fit\n",
      "    Xt, yt = self._fit(X, y, routed_params)\n",
      "             ^^^^^^^^^^^^^^^^^^^^^^^^^^^^^^\n",
      "  File \"C:\\Users\\STSC\\anaconda3\\envs\\NYFDPRED\\Lib\\site-packages\\imblearn\\pipeline.py\", line 265, in _fit\n",
      "    X, y, fitted_transformer = fit_resample_one_cached(\n",
      "                               ^^^^^^^^^^^^^^^^^^^^^^^^\n",
      "  File \"C:\\Users\\STSC\\anaconda3\\envs\\NYFDPRED\\Lib\\site-packages\\joblib\\memory.py\", line 312, in __call__\n",
      "    return self.func(*args, **kwargs)\n",
      "           ^^^^^^^^^^^^^^^^^^^^^^^^^^\n",
      "  File \"C:\\Users\\STSC\\anaconda3\\envs\\NYFDPRED\\Lib\\site-packages\\imblearn\\pipeline.py\", line 1057, in _fit_resample_one\n",
      "    X_res, y_res = sampler.fit_resample(X, y, **params.get(\"fit_resample\", {}))\n",
      "                   ^^^^^^^^^^^^^^^^^^^^^^^^^^^^^^^^^^^^^^^^^^^^^^^^^^^^^^^^^^^^\n",
      "  File \"C:\\Users\\STSC\\anaconda3\\envs\\NYFDPRED\\Lib\\site-packages\\imblearn\\base.py\", line 208, in fit_resample\n",
      "    return super().fit_resample(X, y)\n",
      "           ^^^^^^^^^^^^^^^^^^^^^^^^^^\n",
      "  File \"C:\\Users\\STSC\\anaconda3\\envs\\NYFDPRED\\Lib\\site-packages\\imblearn\\base.py\", line 112, in fit_resample\n",
      "    output = self._fit_resample(X, y)\n",
      "             ^^^^^^^^^^^^^^^^^^^^^^^^\n",
      "  File \"C:\\Users\\STSC\\anaconda3\\envs\\NYFDPRED\\Lib\\site-packages\\imblearn\\over_sampling\\_smote\\base.py\", line 389, in _fit_resample\n",
      "    nns = self.nn_k_.kneighbors(X_class, return_distance=False)[:, 1:]\n",
      "          ^^^^^^^^^^^^^^^^^^^^^^^^^^^^^^^^^^^^^^^^^^^^^^^^^^^^^\n",
      "  File \"C:\\Users\\STSC\\anaconda3\\envs\\NYFDPRED\\Lib\\site-packages\\sklearn\\neighbors\\_base.py\", line 886, in kneighbors\n",
      "    chunked_results = list(\n",
      "                      ^^^^^\n",
      "  File \"C:\\Users\\STSC\\anaconda3\\envs\\NYFDPRED\\Lib\\site-packages\\sklearn\\metrics\\pairwise.py\", line 2172, in pairwise_distances_chunked\n",
      "    D_chunk = pairwise_distances(X_chunk, Y, metric=metric, n_jobs=n_jobs, **kwds)\n",
      "              ^^^^^^^^^^^^^^^^^^^^^^^^^^^^^^^^^^^^^^^^^^^^^^^^^^^^^^^^^^^^^^^^^^^^\n",
      "  File \"C:\\Users\\STSC\\anaconda3\\envs\\NYFDPRED\\Lib\\site-packages\\sklearn\\utils\\_param_validation.py\", line 213, in wrapper\n",
      "    return func(*args, **kwargs)\n",
      "           ^^^^^^^^^^^^^^^^^^^^^\n",
      "  File \"C:\\Users\\STSC\\anaconda3\\envs\\NYFDPRED\\Lib\\site-packages\\sklearn\\metrics\\pairwise.py\", line 2375, in pairwise_distances\n",
      "    return _parallel_pairwise(X, Y, func, n_jobs, **kwds)\n",
      "           ^^^^^^^^^^^^^^^^^^^^^^^^^^^^^^^^^^^^^^^^^^^^^^\n",
      "  File \"C:\\Users\\STSC\\anaconda3\\envs\\NYFDPRED\\Lib\\site-packages\\sklearn\\metrics\\pairwise.py\", line 1893, in _parallel_pairwise\n",
      "    return func(X, Y, **kwds)\n",
      "           ^^^^^^^^^^^^^^^^^^\n",
      "  File \"C:\\Users\\STSC\\anaconda3\\envs\\NYFDPRED\\Lib\\site-packages\\sklearn\\utils\\_param_validation.py\", line 186, in wrapper\n",
      "    return func(*args, **kwargs)\n",
      "           ^^^^^^^^^^^^^^^^^^^^^\n",
      "  File \"C:\\Users\\STSC\\anaconda3\\envs\\NYFDPRED\\Lib\\site-packages\\sklearn\\metrics\\pairwise.py\", line 372, in euclidean_distances\n",
      "    return _euclidean_distances(X, Y, X_norm_squared, Y_norm_squared, squared)\n",
      "           ^^^^^^^^^^^^^^^^^^^^^^^^^^^^^^^^^^^^^^^^^^^^^^^^^^^^^^^^^^^^^^^^^^^\n",
      "  File \"C:\\Users\\STSC\\anaconda3\\envs\\NYFDPRED\\Lib\\site-packages\\sklearn\\metrics\\pairwise.py\", line 407, in _euclidean_distances\n",
      "    distances = -2 * safe_sparse_dot(X, Y.T, dense_output=True)\n",
      "                     ^^^^^^^^^^^^^^^^^^^^^^^^^^^^^^^^^^^^^^^^^^\n",
      "  File \"C:\\Users\\STSC\\anaconda3\\envs\\NYFDPRED\\Lib\\site-packages\\sklearn\\utils\\extmath.py\", line 205, in safe_sparse_dot\n",
      "    ret = a @ b\n",
      "          ~~^~~\n",
      "numpy.core._exceptions._ArrayMemoryError: Unable to allocate 1.00 GiB for an array with shape (3793, 35379) and data type float64\n",
      "\n",
      "--------------------------------------------------------------------------------\n",
      "2 fits failed with the following error:\n",
      "Traceback (most recent call last):\n",
      "  File \"C:\\Users\\STSC\\anaconda3\\envs\\NYFDPRED\\Lib\\site-packages\\sklearn\\model_selection\\_validation.py\", line 888, in _fit_and_score\n",
      "    estimator.fit(X_train, y_train, **fit_params)\n",
      "  File \"C:\\Users\\STSC\\anaconda3\\envs\\NYFDPRED\\Lib\\site-packages\\sklearn\\base.py\", line 1473, in wrapper\n",
      "    return fit_method(estimator, *args, **kwargs)\n",
      "           ^^^^^^^^^^^^^^^^^^^^^^^^^^^^^^^^^^^^^^\n",
      "  File \"C:\\Users\\STSC\\anaconda3\\envs\\NYFDPRED\\Lib\\site-packages\\imblearn\\pipeline.py\", line 329, in fit\n",
      "    Xt, yt = self._fit(X, y, routed_params)\n",
      "             ^^^^^^^^^^^^^^^^^^^^^^^^^^^^^^\n",
      "  File \"C:\\Users\\STSC\\anaconda3\\envs\\NYFDPRED\\Lib\\site-packages\\imblearn\\pipeline.py\", line 265, in _fit\n",
      "    X, y, fitted_transformer = fit_resample_one_cached(\n",
      "                               ^^^^^^^^^^^^^^^^^^^^^^^^\n",
      "  File \"C:\\Users\\STSC\\anaconda3\\envs\\NYFDPRED\\Lib\\site-packages\\joblib\\memory.py\", line 312, in __call__\n",
      "    return self.func(*args, **kwargs)\n",
      "           ^^^^^^^^^^^^^^^^^^^^^^^^^^\n",
      "  File \"C:\\Users\\STSC\\anaconda3\\envs\\NYFDPRED\\Lib\\site-packages\\imblearn\\pipeline.py\", line 1057, in _fit_resample_one\n",
      "    X_res, y_res = sampler.fit_resample(X, y, **params.get(\"fit_resample\", {}))\n",
      "                   ^^^^^^^^^^^^^^^^^^^^^^^^^^^^^^^^^^^^^^^^^^^^^^^^^^^^^^^^^^^^\n",
      "  File \"C:\\Users\\STSC\\anaconda3\\envs\\NYFDPRED\\Lib\\site-packages\\imblearn\\base.py\", line 208, in fit_resample\n",
      "    return super().fit_resample(X, y)\n",
      "           ^^^^^^^^^^^^^^^^^^^^^^^^^^\n",
      "  File \"C:\\Users\\STSC\\anaconda3\\envs\\NYFDPRED\\Lib\\site-packages\\imblearn\\base.py\", line 112, in fit_resample\n",
      "    output = self._fit_resample(X, y)\n",
      "             ^^^^^^^^^^^^^^^^^^^^^^^^\n",
      "  File \"C:\\Users\\STSC\\anaconda3\\envs\\NYFDPRED\\Lib\\site-packages\\imblearn\\over_sampling\\_smote\\base.py\", line 389, in _fit_resample\n",
      "    nns = self.nn_k_.kneighbors(X_class, return_distance=False)[:, 1:]\n",
      "          ^^^^^^^^^^^^^^^^^^^^^^^^^^^^^^^^^^^^^^^^^^^^^^^^^^^^^\n",
      "  File \"C:\\Users\\STSC\\anaconda3\\envs\\NYFDPRED\\Lib\\site-packages\\sklearn\\neighbors\\_base.py\", line 886, in kneighbors\n",
      "    chunked_results = list(\n",
      "                      ^^^^^\n",
      "  File \"C:\\Users\\STSC\\anaconda3\\envs\\NYFDPRED\\Lib\\site-packages\\sklearn\\metrics\\pairwise.py\", line 2172, in pairwise_distances_chunked\n",
      "    D_chunk = pairwise_distances(X_chunk, Y, metric=metric, n_jobs=n_jobs, **kwds)\n",
      "              ^^^^^^^^^^^^^^^^^^^^^^^^^^^^^^^^^^^^^^^^^^^^^^^^^^^^^^^^^^^^^^^^^^^^\n",
      "  File \"C:\\Users\\STSC\\anaconda3\\envs\\NYFDPRED\\Lib\\site-packages\\sklearn\\utils\\_param_validation.py\", line 213, in wrapper\n",
      "    return func(*args, **kwargs)\n",
      "           ^^^^^^^^^^^^^^^^^^^^^\n",
      "  File \"C:\\Users\\STSC\\anaconda3\\envs\\NYFDPRED\\Lib\\site-packages\\sklearn\\metrics\\pairwise.py\", line 2375, in pairwise_distances\n",
      "    return _parallel_pairwise(X, Y, func, n_jobs, **kwds)\n",
      "           ^^^^^^^^^^^^^^^^^^^^^^^^^^^^^^^^^^^^^^^^^^^^^^\n",
      "  File \"C:\\Users\\STSC\\anaconda3\\envs\\NYFDPRED\\Lib\\site-packages\\sklearn\\metrics\\pairwise.py\", line 1893, in _parallel_pairwise\n",
      "    return func(X, Y, **kwds)\n",
      "           ^^^^^^^^^^^^^^^^^^\n",
      "  File \"C:\\Users\\STSC\\anaconda3\\envs\\NYFDPRED\\Lib\\site-packages\\sklearn\\utils\\_param_validation.py\", line 186, in wrapper\n",
      "    return func(*args, **kwargs)\n",
      "           ^^^^^^^^^^^^^^^^^^^^^\n",
      "  File \"C:\\Users\\STSC\\anaconda3\\envs\\NYFDPRED\\Lib\\site-packages\\sklearn\\metrics\\pairwise.py\", line 372, in euclidean_distances\n",
      "    return _euclidean_distances(X, Y, X_norm_squared, Y_norm_squared, squared)\n",
      "           ^^^^^^^^^^^^^^^^^^^^^^^^^^^^^^^^^^^^^^^^^^^^^^^^^^^^^^^^^^^^^^^^^^^\n",
      "  File \"C:\\Users\\STSC\\anaconda3\\envs\\NYFDPRED\\Lib\\site-packages\\sklearn\\metrics\\pairwise.py\", line 407, in _euclidean_distances\n",
      "    distances = -2 * safe_sparse_dot(X, Y.T, dense_output=True)\n",
      "                ~~~^~~~~~~~~~~~~~~~~~~~~~~~~~~~~~~~~~~~~~~~~~~~\n",
      "numpy.core._exceptions._ArrayMemoryError: Unable to allocate 1.00 GiB for an array with shape (11458, 11713) and data type float64\n",
      "\n",
      "--------------------------------------------------------------------------------\n",
      "1 fits failed with the following error:\n",
      "Traceback (most recent call last):\n",
      "  File \"C:\\Users\\STSC\\anaconda3\\envs\\NYFDPRED\\Lib\\site-packages\\sklearn\\model_selection\\_validation.py\", line 888, in _fit_and_score\n",
      "    estimator.fit(X_train, y_train, **fit_params)\n",
      "  File \"C:\\Users\\STSC\\anaconda3\\envs\\NYFDPRED\\Lib\\site-packages\\sklearn\\base.py\", line 1473, in wrapper\n",
      "    return fit_method(estimator, *args, **kwargs)\n",
      "           ^^^^^^^^^^^^^^^^^^^^^^^^^^^^^^^^^^^^^^\n",
      "  File \"C:\\Users\\STSC\\anaconda3\\envs\\NYFDPRED\\Lib\\site-packages\\imblearn\\pipeline.py\", line 329, in fit\n",
      "    Xt, yt = self._fit(X, y, routed_params)\n",
      "             ^^^^^^^^^^^^^^^^^^^^^^^^^^^^^^\n",
      "  File \"C:\\Users\\STSC\\anaconda3\\envs\\NYFDPRED\\Lib\\site-packages\\imblearn\\pipeline.py\", line 265, in _fit\n",
      "    X, y, fitted_transformer = fit_resample_one_cached(\n",
      "                               ^^^^^^^^^^^^^^^^^^^^^^^^\n",
      "  File \"C:\\Users\\STSC\\anaconda3\\envs\\NYFDPRED\\Lib\\site-packages\\joblib\\memory.py\", line 312, in __call__\n",
      "    return self.func(*args, **kwargs)\n",
      "           ^^^^^^^^^^^^^^^^^^^^^^^^^^\n",
      "  File \"C:\\Users\\STSC\\anaconda3\\envs\\NYFDPRED\\Lib\\site-packages\\imblearn\\pipeline.py\", line 1057, in _fit_resample_one\n",
      "    X_res, y_res = sampler.fit_resample(X, y, **params.get(\"fit_resample\", {}))\n",
      "                   ^^^^^^^^^^^^^^^^^^^^^^^^^^^^^^^^^^^^^^^^^^^^^^^^^^^^^^^^^^^^\n",
      "  File \"C:\\Users\\STSC\\anaconda3\\envs\\NYFDPRED\\Lib\\site-packages\\imblearn\\base.py\", line 208, in fit_resample\n",
      "    return super().fit_resample(X, y)\n",
      "           ^^^^^^^^^^^^^^^^^^^^^^^^^^\n",
      "  File \"C:\\Users\\STSC\\anaconda3\\envs\\NYFDPRED\\Lib\\site-packages\\imblearn\\base.py\", line 112, in fit_resample\n",
      "    output = self._fit_resample(X, y)\n",
      "             ^^^^^^^^^^^^^^^^^^^^^^^^\n",
      "  File \"C:\\Users\\STSC\\anaconda3\\envs\\NYFDPRED\\Lib\\site-packages\\imblearn\\over_sampling\\_smote\\base.py\", line 389, in _fit_resample\n",
      "    nns = self.nn_k_.kneighbors(X_class, return_distance=False)[:, 1:]\n",
      "          ^^^^^^^^^^^^^^^^^^^^^^^^^^^^^^^^^^^^^^^^^^^^^^^^^^^^^\n",
      "  File \"C:\\Users\\STSC\\anaconda3\\envs\\NYFDPRED\\Lib\\site-packages\\sklearn\\neighbors\\_base.py\", line 886, in kneighbors\n",
      "    chunked_results = list(\n",
      "                      ^^^^^\n",
      "  File \"C:\\Users\\STSC\\anaconda3\\envs\\NYFDPRED\\Lib\\site-packages\\sklearn\\metrics\\pairwise.py\", line 2172, in pairwise_distances_chunked\n",
      "    D_chunk = pairwise_distances(X_chunk, Y, metric=metric, n_jobs=n_jobs, **kwds)\n",
      "              ^^^^^^^^^^^^^^^^^^^^^^^^^^^^^^^^^^^^^^^^^^^^^^^^^^^^^^^^^^^^^^^^^^^^\n",
      "  File \"C:\\Users\\STSC\\anaconda3\\envs\\NYFDPRED\\Lib\\site-packages\\sklearn\\utils\\_param_validation.py\", line 213, in wrapper\n",
      "    return func(*args, **kwargs)\n",
      "           ^^^^^^^^^^^^^^^^^^^^^\n",
      "  File \"C:\\Users\\STSC\\anaconda3\\envs\\NYFDPRED\\Lib\\site-packages\\sklearn\\metrics\\pairwise.py\", line 2375, in pairwise_distances\n",
      "    return _parallel_pairwise(X, Y, func, n_jobs, **kwds)\n",
      "           ^^^^^^^^^^^^^^^^^^^^^^^^^^^^^^^^^^^^^^^^^^^^^^\n",
      "  File \"C:\\Users\\STSC\\anaconda3\\envs\\NYFDPRED\\Lib\\site-packages\\sklearn\\metrics\\pairwise.py\", line 1893, in _parallel_pairwise\n",
      "    return func(X, Y, **kwds)\n",
      "           ^^^^^^^^^^^^^^^^^^\n",
      "  File \"C:\\Users\\STSC\\anaconda3\\envs\\NYFDPRED\\Lib\\site-packages\\sklearn\\utils\\_param_validation.py\", line 186, in wrapper\n",
      "    return func(*args, **kwargs)\n",
      "           ^^^^^^^^^^^^^^^^^^^^^\n",
      "  File \"C:\\Users\\STSC\\anaconda3\\envs\\NYFDPRED\\Lib\\site-packages\\sklearn\\metrics\\pairwise.py\", line 372, in euclidean_distances\n",
      "    return _euclidean_distances(X, Y, X_norm_squared, Y_norm_squared, squared)\n",
      "           ^^^^^^^^^^^^^^^^^^^^^^^^^^^^^^^^^^^^^^^^^^^^^^^^^^^^^^^^^^^^^^^^^^^\n",
      "  File \"C:\\Users\\STSC\\anaconda3\\envs\\NYFDPRED\\Lib\\site-packages\\sklearn\\metrics\\pairwise.py\", line 407, in _euclidean_distances\n",
      "    distances = -2 * safe_sparse_dot(X, Y.T, dense_output=True)\n",
      "                     ^^^^^^^^^^^^^^^^^^^^^^^^^^^^^^^^^^^^^^^^^^\n",
      "  File \"C:\\Users\\STSC\\anaconda3\\envs\\NYFDPRED\\Lib\\site-packages\\sklearn\\utils\\extmath.py\", line 205, in safe_sparse_dot\n",
      "    ret = a @ b\n",
      "          ~~^~~\n",
      "numpy.core._exceptions._ArrayMemoryError: Unable to allocate 1.00 GiB for an array with shape (6874, 19524) and data type float64\n",
      "\n",
      "--------------------------------------------------------------------------------\n",
      "1 fits failed with the following error:\n",
      "Traceback (most recent call last):\n",
      "  File \"C:\\Users\\STSC\\anaconda3\\envs\\NYFDPRED\\Lib\\site-packages\\sklearn\\model_selection\\_validation.py\", line 888, in _fit_and_score\n",
      "    estimator.fit(X_train, y_train, **fit_params)\n",
      "  File \"C:\\Users\\STSC\\anaconda3\\envs\\NYFDPRED\\Lib\\site-packages\\sklearn\\base.py\", line 1473, in wrapper\n",
      "    return fit_method(estimator, *args, **kwargs)\n",
      "           ^^^^^^^^^^^^^^^^^^^^^^^^^^^^^^^^^^^^^^\n",
      "  File \"C:\\Users\\STSC\\anaconda3\\envs\\NYFDPRED\\Lib\\site-packages\\imblearn\\pipeline.py\", line 329, in fit\n",
      "    Xt, yt = self._fit(X, y, routed_params)\n",
      "             ^^^^^^^^^^^^^^^^^^^^^^^^^^^^^^\n",
      "  File \"C:\\Users\\STSC\\anaconda3\\envs\\NYFDPRED\\Lib\\site-packages\\imblearn\\pipeline.py\", line 265, in _fit\n",
      "    X, y, fitted_transformer = fit_resample_one_cached(\n",
      "                               ^^^^^^^^^^^^^^^^^^^^^^^^\n",
      "  File \"C:\\Users\\STSC\\anaconda3\\envs\\NYFDPRED\\Lib\\site-packages\\joblib\\memory.py\", line 312, in __call__\n",
      "    return self.func(*args, **kwargs)\n",
      "           ^^^^^^^^^^^^^^^^^^^^^^^^^^\n",
      "  File \"C:\\Users\\STSC\\anaconda3\\envs\\NYFDPRED\\Lib\\site-packages\\imblearn\\pipeline.py\", line 1057, in _fit_resample_one\n",
      "    X_res, y_res = sampler.fit_resample(X, y, **params.get(\"fit_resample\", {}))\n",
      "                   ^^^^^^^^^^^^^^^^^^^^^^^^^^^^^^^^^^^^^^^^^^^^^^^^^^^^^^^^^^^^\n",
      "  File \"C:\\Users\\STSC\\anaconda3\\envs\\NYFDPRED\\Lib\\site-packages\\imblearn\\base.py\", line 208, in fit_resample\n",
      "    return super().fit_resample(X, y)\n",
      "           ^^^^^^^^^^^^^^^^^^^^^^^^^^\n",
      "  File \"C:\\Users\\STSC\\anaconda3\\envs\\NYFDPRED\\Lib\\site-packages\\imblearn\\base.py\", line 112, in fit_resample\n",
      "    output = self._fit_resample(X, y)\n",
      "             ^^^^^^^^^^^^^^^^^^^^^^^^\n",
      "  File \"C:\\Users\\STSC\\anaconda3\\envs\\NYFDPRED\\Lib\\site-packages\\imblearn\\over_sampling\\_smote\\base.py\", line 389, in _fit_resample\n",
      "    nns = self.nn_k_.kneighbors(X_class, return_distance=False)[:, 1:]\n",
      "          ^^^^^^^^^^^^^^^^^^^^^^^^^^^^^^^^^^^^^^^^^^^^^^^^^^^^^\n",
      "  File \"C:\\Users\\STSC\\anaconda3\\envs\\NYFDPRED\\Lib\\site-packages\\sklearn\\neighbors\\_base.py\", line 886, in kneighbors\n",
      "    chunked_results = list(\n",
      "                      ^^^^^\n",
      "  File \"C:\\Users\\STSC\\anaconda3\\envs\\NYFDPRED\\Lib\\site-packages\\sklearn\\metrics\\pairwise.py\", line 2172, in pairwise_distances_chunked\n",
      "    D_chunk = pairwise_distances(X_chunk, Y, metric=metric, n_jobs=n_jobs, **kwds)\n",
      "              ^^^^^^^^^^^^^^^^^^^^^^^^^^^^^^^^^^^^^^^^^^^^^^^^^^^^^^^^^^^^^^^^^^^^\n",
      "  File \"C:\\Users\\STSC\\anaconda3\\envs\\NYFDPRED\\Lib\\site-packages\\sklearn\\utils\\_param_validation.py\", line 213, in wrapper\n",
      "    return func(*args, **kwargs)\n",
      "           ^^^^^^^^^^^^^^^^^^^^^\n",
      "  File \"C:\\Users\\STSC\\anaconda3\\envs\\NYFDPRED\\Lib\\site-packages\\sklearn\\metrics\\pairwise.py\", line 2375, in pairwise_distances\n",
      "    return _parallel_pairwise(X, Y, func, n_jobs, **kwds)\n",
      "           ^^^^^^^^^^^^^^^^^^^^^^^^^^^^^^^^^^^^^^^^^^^^^^\n",
      "  File \"C:\\Users\\STSC\\anaconda3\\envs\\NYFDPRED\\Lib\\site-packages\\sklearn\\metrics\\pairwise.py\", line 1893, in _parallel_pairwise\n",
      "    return func(X, Y, **kwds)\n",
      "           ^^^^^^^^^^^^^^^^^^\n",
      "  File \"C:\\Users\\STSC\\anaconda3\\envs\\NYFDPRED\\Lib\\site-packages\\sklearn\\utils\\_param_validation.py\", line 186, in wrapper\n",
      "    return func(*args, **kwargs)\n",
      "           ^^^^^^^^^^^^^^^^^^^^^\n",
      "  File \"C:\\Users\\STSC\\anaconda3\\envs\\NYFDPRED\\Lib\\site-packages\\sklearn\\metrics\\pairwise.py\", line 372, in euclidean_distances\n",
      "    return _euclidean_distances(X, Y, X_norm_squared, Y_norm_squared, squared)\n",
      "           ^^^^^^^^^^^^^^^^^^^^^^^^^^^^^^^^^^^^^^^^^^^^^^^^^^^^^^^^^^^^^^^^^^^\n",
      "  File \"C:\\Users\\STSC\\anaconda3\\envs\\NYFDPRED\\Lib\\site-packages\\sklearn\\metrics\\pairwise.py\", line 407, in _euclidean_distances\n",
      "    distances = -2 * safe_sparse_dot(X, Y.T, dense_output=True)\n",
      "                     ^^^^^^^^^^^^^^^^^^^^^^^^^^^^^^^^^^^^^^^^^^\n",
      "  File \"C:\\Users\\STSC\\anaconda3\\envs\\NYFDPRED\\Lib\\site-packages\\sklearn\\utils\\extmath.py\", line 205, in safe_sparse_dot\n",
      "    ret = a @ b\n",
      "          ~~^~~\n",
      "numpy.core._exceptions._ArrayMemoryError: Unable to allocate 1.00 GiB for an array with shape (4899, 27396) and data type float64\n",
      "\n",
      "--------------------------------------------------------------------------------\n",
      "1 fits failed with the following error:\n",
      "Traceback (most recent call last):\n",
      "  File \"C:\\Users\\STSC\\anaconda3\\envs\\NYFDPRED\\Lib\\site-packages\\sklearn\\model_selection\\_validation.py\", line 888, in _fit_and_score\n",
      "    estimator.fit(X_train, y_train, **fit_params)\n",
      "  File \"C:\\Users\\STSC\\anaconda3\\envs\\NYFDPRED\\Lib\\site-packages\\sklearn\\base.py\", line 1473, in wrapper\n",
      "    return fit_method(estimator, *args, **kwargs)\n",
      "           ^^^^^^^^^^^^^^^^^^^^^^^^^^^^^^^^^^^^^^\n",
      "  File \"C:\\Users\\STSC\\anaconda3\\envs\\NYFDPRED\\Lib\\site-packages\\imblearn\\pipeline.py\", line 329, in fit\n",
      "    Xt, yt = self._fit(X, y, routed_params)\n",
      "             ^^^^^^^^^^^^^^^^^^^^^^^^^^^^^^\n",
      "  File \"C:\\Users\\STSC\\anaconda3\\envs\\NYFDPRED\\Lib\\site-packages\\imblearn\\pipeline.py\", line 265, in _fit\n",
      "    X, y, fitted_transformer = fit_resample_one_cached(\n",
      "                               ^^^^^^^^^^^^^^^^^^^^^^^^\n",
      "  File \"C:\\Users\\STSC\\anaconda3\\envs\\NYFDPRED\\Lib\\site-packages\\joblib\\memory.py\", line 312, in __call__\n",
      "    return self.func(*args, **kwargs)\n",
      "           ^^^^^^^^^^^^^^^^^^^^^^^^^^\n",
      "  File \"C:\\Users\\STSC\\anaconda3\\envs\\NYFDPRED\\Lib\\site-packages\\imblearn\\pipeline.py\", line 1057, in _fit_resample_one\n",
      "    X_res, y_res = sampler.fit_resample(X, y, **params.get(\"fit_resample\", {}))\n",
      "                   ^^^^^^^^^^^^^^^^^^^^^^^^^^^^^^^^^^^^^^^^^^^^^^^^^^^^^^^^^^^^\n",
      "  File \"C:\\Users\\STSC\\anaconda3\\envs\\NYFDPRED\\Lib\\site-packages\\imblearn\\base.py\", line 208, in fit_resample\n",
      "    return super().fit_resample(X, y)\n",
      "           ^^^^^^^^^^^^^^^^^^^^^^^^^^\n",
      "  File \"C:\\Users\\STSC\\anaconda3\\envs\\NYFDPRED\\Lib\\site-packages\\imblearn\\base.py\", line 112, in fit_resample\n",
      "    output = self._fit_resample(X, y)\n",
      "             ^^^^^^^^^^^^^^^^^^^^^^^^\n",
      "  File \"C:\\Users\\STSC\\anaconda3\\envs\\NYFDPRED\\Lib\\site-packages\\imblearn\\over_sampling\\_smote\\base.py\", line 389, in _fit_resample\n",
      "    nns = self.nn_k_.kneighbors(X_class, return_distance=False)[:, 1:]\n",
      "          ^^^^^^^^^^^^^^^^^^^^^^^^^^^^^^^^^^^^^^^^^^^^^^^^^^^^^\n",
      "  File \"C:\\Users\\STSC\\anaconda3\\envs\\NYFDPRED\\Lib\\site-packages\\sklearn\\neighbors\\_base.py\", line 886, in kneighbors\n",
      "    chunked_results = list(\n",
      "                      ^^^^^\n",
      "  File \"C:\\Users\\STSC\\anaconda3\\envs\\NYFDPRED\\Lib\\site-packages\\sklearn\\metrics\\pairwise.py\", line 2172, in pairwise_distances_chunked\n",
      "    D_chunk = pairwise_distances(X_chunk, Y, metric=metric, n_jobs=n_jobs, **kwds)\n",
      "              ^^^^^^^^^^^^^^^^^^^^^^^^^^^^^^^^^^^^^^^^^^^^^^^^^^^^^^^^^^^^^^^^^^^^\n",
      "  File \"C:\\Users\\STSC\\anaconda3\\envs\\NYFDPRED\\Lib\\site-packages\\sklearn\\utils\\_param_validation.py\", line 213, in wrapper\n",
      "    return func(*args, **kwargs)\n",
      "           ^^^^^^^^^^^^^^^^^^^^^\n",
      "  File \"C:\\Users\\STSC\\anaconda3\\envs\\NYFDPRED\\Lib\\site-packages\\sklearn\\metrics\\pairwise.py\", line 2375, in pairwise_distances\n",
      "    return _parallel_pairwise(X, Y, func, n_jobs, **kwds)\n",
      "           ^^^^^^^^^^^^^^^^^^^^^^^^^^^^^^^^^^^^^^^^^^^^^^\n",
      "  File \"C:\\Users\\STSC\\anaconda3\\envs\\NYFDPRED\\Lib\\site-packages\\sklearn\\metrics\\pairwise.py\", line 1893, in _parallel_pairwise\n",
      "    return func(X, Y, **kwds)\n",
      "           ^^^^^^^^^^^^^^^^^^\n",
      "  File \"C:\\Users\\STSC\\anaconda3\\envs\\NYFDPRED\\Lib\\site-packages\\sklearn\\utils\\_param_validation.py\", line 186, in wrapper\n",
      "    return func(*args, **kwargs)\n",
      "           ^^^^^^^^^^^^^^^^^^^^^\n",
      "  File \"C:\\Users\\STSC\\anaconda3\\envs\\NYFDPRED\\Lib\\site-packages\\sklearn\\metrics\\pairwise.py\", line 372, in euclidean_distances\n",
      "    return _euclidean_distances(X, Y, X_norm_squared, Y_norm_squared, squared)\n",
      "           ^^^^^^^^^^^^^^^^^^^^^^^^^^^^^^^^^^^^^^^^^^^^^^^^^^^^^^^^^^^^^^^^^^^\n",
      "  File \"C:\\Users\\STSC\\anaconda3\\envs\\NYFDPRED\\Lib\\site-packages\\sklearn\\metrics\\pairwise.py\", line 407, in _euclidean_distances\n",
      "    distances = -2 * safe_sparse_dot(X, Y.T, dense_output=True)\n",
      "                     ^^^^^^^^^^^^^^^^^^^^^^^^^^^^^^^^^^^^^^^^^^\n",
      "  File \"C:\\Users\\STSC\\anaconda3\\envs\\NYFDPRED\\Lib\\site-packages\\sklearn\\utils\\extmath.py\", line 205, in safe_sparse_dot\n",
      "    ret = a @ b\n",
      "          ~~^~~\n",
      "numpy.core._exceptions._ArrayMemoryError: Unable to allocate 1.00 GiB for an array with shape (3793, 35378) and data type float64\n",
      "\n",
      "--------------------------------------------------------------------------------\n",
      "1 fits failed with the following error:\n",
      "Traceback (most recent call last):\n",
      "  File \"C:\\Users\\STSC\\anaconda3\\envs\\NYFDPRED\\Lib\\site-packages\\sklearn\\model_selection\\_validation.py\", line 888, in _fit_and_score\n",
      "    estimator.fit(X_train, y_train, **fit_params)\n",
      "  File \"C:\\Users\\STSC\\anaconda3\\envs\\NYFDPRED\\Lib\\site-packages\\sklearn\\base.py\", line 1473, in wrapper\n",
      "    return fit_method(estimator, *args, **kwargs)\n",
      "           ^^^^^^^^^^^^^^^^^^^^^^^^^^^^^^^^^^^^^^\n",
      "  File \"C:\\Users\\STSC\\anaconda3\\envs\\NYFDPRED\\Lib\\site-packages\\imblearn\\pipeline.py\", line 329, in fit\n",
      "    Xt, yt = self._fit(X, y, routed_params)\n",
      "             ^^^^^^^^^^^^^^^^^^^^^^^^^^^^^^\n",
      "  File \"C:\\Users\\STSC\\anaconda3\\envs\\NYFDPRED\\Lib\\site-packages\\imblearn\\pipeline.py\", line 265, in _fit\n",
      "    X, y, fitted_transformer = fit_resample_one_cached(\n",
      "                               ^^^^^^^^^^^^^^^^^^^^^^^^\n",
      "  File \"C:\\Users\\STSC\\anaconda3\\envs\\NYFDPRED\\Lib\\site-packages\\joblib\\memory.py\", line 312, in __call__\n",
      "    return self.func(*args, **kwargs)\n",
      "           ^^^^^^^^^^^^^^^^^^^^^^^^^^\n",
      "  File \"C:\\Users\\STSC\\anaconda3\\envs\\NYFDPRED\\Lib\\site-packages\\imblearn\\pipeline.py\", line 1057, in _fit_resample_one\n",
      "    X_res, y_res = sampler.fit_resample(X, y, **params.get(\"fit_resample\", {}))\n",
      "                   ^^^^^^^^^^^^^^^^^^^^^^^^^^^^^^^^^^^^^^^^^^^^^^^^^^^^^^^^^^^^\n",
      "  File \"C:\\Users\\STSC\\anaconda3\\envs\\NYFDPRED\\Lib\\site-packages\\imblearn\\base.py\", line 208, in fit_resample\n",
      "    return super().fit_resample(X, y)\n",
      "           ^^^^^^^^^^^^^^^^^^^^^^^^^^\n",
      "  File \"C:\\Users\\STSC\\anaconda3\\envs\\NYFDPRED\\Lib\\site-packages\\imblearn\\base.py\", line 112, in fit_resample\n",
      "    output = self._fit_resample(X, y)\n",
      "             ^^^^^^^^^^^^^^^^^^^^^^^^\n",
      "  File \"C:\\Users\\STSC\\anaconda3\\envs\\NYFDPRED\\Lib\\site-packages\\imblearn\\over_sampling\\_smote\\base.py\", line 389, in _fit_resample\n",
      "    nns = self.nn_k_.kneighbors(X_class, return_distance=False)[:, 1:]\n",
      "          ^^^^^^^^^^^^^^^^^^^^^^^^^^^^^^^^^^^^^^^^^^^^^^^^^^^^^\n",
      "  File \"C:\\Users\\STSC\\anaconda3\\envs\\NYFDPRED\\Lib\\site-packages\\sklearn\\neighbors\\_base.py\", line 886, in kneighbors\n",
      "    chunked_results = list(\n",
      "                      ^^^^^\n",
      "  File \"C:\\Users\\STSC\\anaconda3\\envs\\NYFDPRED\\Lib\\site-packages\\sklearn\\metrics\\pairwise.py\", line 2172, in pairwise_distances_chunked\n",
      "    D_chunk = pairwise_distances(X_chunk, Y, metric=metric, n_jobs=n_jobs, **kwds)\n",
      "              ^^^^^^^^^^^^^^^^^^^^^^^^^^^^^^^^^^^^^^^^^^^^^^^^^^^^^^^^^^^^^^^^^^^^\n",
      "  File \"C:\\Users\\STSC\\anaconda3\\envs\\NYFDPRED\\Lib\\site-packages\\sklearn\\utils\\_param_validation.py\", line 213, in wrapper\n",
      "    return func(*args, **kwargs)\n",
      "           ^^^^^^^^^^^^^^^^^^^^^\n",
      "  File \"C:\\Users\\STSC\\anaconda3\\envs\\NYFDPRED\\Lib\\site-packages\\sklearn\\metrics\\pairwise.py\", line 2375, in pairwise_distances\n",
      "    return _parallel_pairwise(X, Y, func, n_jobs, **kwds)\n",
      "           ^^^^^^^^^^^^^^^^^^^^^^^^^^^^^^^^^^^^^^^^^^^^^^\n",
      "  File \"C:\\Users\\STSC\\anaconda3\\envs\\NYFDPRED\\Lib\\site-packages\\sklearn\\metrics\\pairwise.py\", line 1893, in _parallel_pairwise\n",
      "    return func(X, Y, **kwds)\n",
      "           ^^^^^^^^^^^^^^^^^^\n",
      "  File \"C:\\Users\\STSC\\anaconda3\\envs\\NYFDPRED\\Lib\\site-packages\\sklearn\\utils\\_param_validation.py\", line 186, in wrapper\n",
      "    return func(*args, **kwargs)\n",
      "           ^^^^^^^^^^^^^^^^^^^^^\n",
      "  File \"C:\\Users\\STSC\\anaconda3\\envs\\NYFDPRED\\Lib\\site-packages\\sklearn\\metrics\\pairwise.py\", line 372, in euclidean_distances\n",
      "    return _euclidean_distances(X, Y, X_norm_squared, Y_norm_squared, squared)\n",
      "           ^^^^^^^^^^^^^^^^^^^^^^^^^^^^^^^^^^^^^^^^^^^^^^^^^^^^^^^^^^^^^^^^^^^\n",
      "  File \"C:\\Users\\STSC\\anaconda3\\envs\\NYFDPRED\\Lib\\site-packages\\sklearn\\metrics\\pairwise.py\", line 407, in _euclidean_distances\n",
      "    distances = -2 * safe_sparse_dot(X, Y.T, dense_output=True)\n",
      "                     ^^^^^^^^^^^^^^^^^^^^^^^^^^^^^^^^^^^^^^^^^^\n",
      "  File \"C:\\Users\\STSC\\anaconda3\\envs\\NYFDPRED\\Lib\\site-packages\\sklearn\\utils\\extmath.py\", line 205, in safe_sparse_dot\n",
      "    ret = a @ b\n",
      "          ~~^~~\n",
      "numpy.core._exceptions._ArrayMemoryError: Unable to allocate 1.00 GiB for an array with shape (6869, 19538) and data type float64\n",
      "\n",
      "--------------------------------------------------------------------------------\n",
      "1 fits failed with the following error:\n",
      "Traceback (most recent call last):\n",
      "  File \"C:\\Users\\STSC\\anaconda3\\envs\\NYFDPRED\\Lib\\site-packages\\sklearn\\model_selection\\_validation.py\", line 888, in _fit_and_score\n",
      "    estimator.fit(X_train, y_train, **fit_params)\n",
      "  File \"C:\\Users\\STSC\\anaconda3\\envs\\NYFDPRED\\Lib\\site-packages\\sklearn\\base.py\", line 1473, in wrapper\n",
      "    return fit_method(estimator, *args, **kwargs)\n",
      "           ^^^^^^^^^^^^^^^^^^^^^^^^^^^^^^^^^^^^^^\n",
      "  File \"C:\\Users\\STSC\\anaconda3\\envs\\NYFDPRED\\Lib\\site-packages\\imblearn\\pipeline.py\", line 329, in fit\n",
      "    Xt, yt = self._fit(X, y, routed_params)\n",
      "             ^^^^^^^^^^^^^^^^^^^^^^^^^^^^^^\n",
      "  File \"C:\\Users\\STSC\\anaconda3\\envs\\NYFDPRED\\Lib\\site-packages\\imblearn\\pipeline.py\", line 265, in _fit\n",
      "    X, y, fitted_transformer = fit_resample_one_cached(\n",
      "                               ^^^^^^^^^^^^^^^^^^^^^^^^\n",
      "  File \"C:\\Users\\STSC\\anaconda3\\envs\\NYFDPRED\\Lib\\site-packages\\joblib\\memory.py\", line 312, in __call__\n",
      "    return self.func(*args, **kwargs)\n",
      "           ^^^^^^^^^^^^^^^^^^^^^^^^^^\n",
      "  File \"C:\\Users\\STSC\\anaconda3\\envs\\NYFDPRED\\Lib\\site-packages\\imblearn\\pipeline.py\", line 1057, in _fit_resample_one\n",
      "    X_res, y_res = sampler.fit_resample(X, y, **params.get(\"fit_resample\", {}))\n",
      "                   ^^^^^^^^^^^^^^^^^^^^^^^^^^^^^^^^^^^^^^^^^^^^^^^^^^^^^^^^^^^^\n",
      "  File \"C:\\Users\\STSC\\anaconda3\\envs\\NYFDPRED\\Lib\\site-packages\\imblearn\\base.py\", line 208, in fit_resample\n",
      "    return super().fit_resample(X, y)\n",
      "           ^^^^^^^^^^^^^^^^^^^^^^^^^^\n",
      "  File \"C:\\Users\\STSC\\anaconda3\\envs\\NYFDPRED\\Lib\\site-packages\\imblearn\\base.py\", line 112, in fit_resample\n",
      "    output = self._fit_resample(X, y)\n",
      "             ^^^^^^^^^^^^^^^^^^^^^^^^\n",
      "  File \"C:\\Users\\STSC\\anaconda3\\envs\\NYFDPRED\\Lib\\site-packages\\imblearn\\over_sampling\\_smote\\base.py\", line 389, in _fit_resample\n",
      "    nns = self.nn_k_.kneighbors(X_class, return_distance=False)[:, 1:]\n",
      "          ^^^^^^^^^^^^^^^^^^^^^^^^^^^^^^^^^^^^^^^^^^^^^^^^^^^^^\n",
      "  File \"C:\\Users\\STSC\\anaconda3\\envs\\NYFDPRED\\Lib\\site-packages\\sklearn\\neighbors\\_base.py\", line 886, in kneighbors\n",
      "    chunked_results = list(\n",
      "                      ^^^^^\n",
      "  File \"C:\\Users\\STSC\\anaconda3\\envs\\NYFDPRED\\Lib\\site-packages\\sklearn\\metrics\\pairwise.py\", line 2172, in pairwise_distances_chunked\n",
      "    D_chunk = pairwise_distances(X_chunk, Y, metric=metric, n_jobs=n_jobs, **kwds)\n",
      "              ^^^^^^^^^^^^^^^^^^^^^^^^^^^^^^^^^^^^^^^^^^^^^^^^^^^^^^^^^^^^^^^^^^^^\n",
      "  File \"C:\\Users\\STSC\\anaconda3\\envs\\NYFDPRED\\Lib\\site-packages\\sklearn\\utils\\_param_validation.py\", line 213, in wrapper\n",
      "    return func(*args, **kwargs)\n",
      "           ^^^^^^^^^^^^^^^^^^^^^\n",
      "  File \"C:\\Users\\STSC\\anaconda3\\envs\\NYFDPRED\\Lib\\site-packages\\sklearn\\metrics\\pairwise.py\", line 2375, in pairwise_distances\n",
      "    return _parallel_pairwise(X, Y, func, n_jobs, **kwds)\n",
      "           ^^^^^^^^^^^^^^^^^^^^^^^^^^^^^^^^^^^^^^^^^^^^^^\n",
      "  File \"C:\\Users\\STSC\\anaconda3\\envs\\NYFDPRED\\Lib\\site-packages\\sklearn\\metrics\\pairwise.py\", line 1893, in _parallel_pairwise\n",
      "    return func(X, Y, **kwds)\n",
      "           ^^^^^^^^^^^^^^^^^^\n",
      "  File \"C:\\Users\\STSC\\anaconda3\\envs\\NYFDPRED\\Lib\\site-packages\\sklearn\\utils\\_param_validation.py\", line 186, in wrapper\n",
      "    return func(*args, **kwargs)\n",
      "           ^^^^^^^^^^^^^^^^^^^^^\n",
      "  File \"C:\\Users\\STSC\\anaconda3\\envs\\NYFDPRED\\Lib\\site-packages\\sklearn\\metrics\\pairwise.py\", line 372, in euclidean_distances\n",
      "    return _euclidean_distances(X, Y, X_norm_squared, Y_norm_squared, squared)\n",
      "           ^^^^^^^^^^^^^^^^^^^^^^^^^^^^^^^^^^^^^^^^^^^^^^^^^^^^^^^^^^^^^^^^^^^\n",
      "  File \"C:\\Users\\STSC\\anaconda3\\envs\\NYFDPRED\\Lib\\site-packages\\sklearn\\metrics\\pairwise.py\", line 407, in _euclidean_distances\n",
      "    distances = -2 * safe_sparse_dot(X, Y.T, dense_output=True)\n",
      "                     ^^^^^^^^^^^^^^^^^^^^^^^^^^^^^^^^^^^^^^^^^^\n",
      "  File \"C:\\Users\\STSC\\anaconda3\\envs\\NYFDPRED\\Lib\\site-packages\\sklearn\\utils\\extmath.py\", line 205, in safe_sparse_dot\n",
      "    ret = a @ b\n",
      "          ~~^~~\n",
      "numpy.core._exceptions._ArrayMemoryError: Unable to allocate 1.00 GiB for an array with shape (4854, 27648) and data type float64\n",
      "\n",
      "  warnings.warn(some_fits_failed_message, FitFailedWarning)\n"
     ]
    },
    {
     "data": {
      "image/png": "[encoded data removed]",
      "text/plain": [
       "<Figure size 1200x400 with 1 Axes>"
      ]
     },
     "metadata": {},
     "output_type": "display_data"
    },
    {
     "data": {
      "image/png": "[encoded data removed]",
      "text/plain": [
       "<Figure size 1200x400 with 1 Axes>"
      ]
     },
     "metadata": {},
     "output_type": "display_data"
    }
   ],
   "source": [
    "for name, alg in algorithms.items():\n",
    "\tplot_learning_curves(name, alg)"
   ]
  },
  {
   "cell_type": "code",
   "execution_count": 147,
   "metadata": {},
   "outputs": [
    {
     "name": "stdout",
     "output_type": "stream",
     "text": [
      "Classification Report for logistic regression:\n",
      "              precision    recall  f1-score   support\n",
      "\n",
      "           0       0.52      0.91      0.66     13344\n",
      "           1       0.99      0.90      0.94    109880\n",
      "\n",
      "    accuracy                           0.90    123224\n",
      "   macro avg       0.75      0.90      0.80    123224\n",
      "weighted avg       0.94      0.90      0.91    123224\n",
      "\n",
      "ROC AUC: 0.9402\n",
      "\n",
      "\n",
      "Classification Report for random_forest:\n",
      "              precision    recall  f1-score   support\n",
      "\n",
      "           0       0.84      0.94      0.89     13344\n",
      "           1       0.99      0.98      0.99    109880\n",
      "\n",
      "    accuracy                           0.97    123224\n",
      "   macro avg       0.91      0.96      0.94    123224\n",
      "weighted avg       0.98      0.97      0.97    123224\n",
      "\n",
      "ROC AUC: 0.9961\n",
      "\n",
      "\n",
      "Classification Report for Gradient Boosting with SMOTE:\n",
      "              precision    recall  f1-score   support\n",
      "\n",
      "           0       0.74      0.95      0.84     13344\n",
      "           1       0.99      0.96      0.98    109880\n",
      "\n",
      "    accuracy                           0.96    123224\n",
      "   macro avg       0.87      0.96      0.91    123224\n",
      "weighted avg       0.97      0.96      0.96    123224\n",
      "\n",
      "ROC AUC: 0.9937\n",
      "\n",
      "\n",
      "Classification Report for XGBOOST CLASSIFIER:\n",
      "              precision    recall  f1-score   support\n",
      "\n",
      "           0       0.78      0.95      0.86     13344\n",
      "           1       0.99      0.97      0.98    109880\n",
      "\n",
      "    accuracy                           0.97    123224\n",
      "   macro avg       0.89      0.96      0.92    123224\n",
      "weighted avg       0.97      0.97      0.97    123224\n",
      "\n",
      "ROC AUC: 0.9957\n",
      "\n",
      "\n"
     ]
    }
   ],
   "source": [
    "from sklearn.metrics import classification_report, roc_auc_score\n",
    "\n",
    "def model_eval(X, y, X_test, y_test, models):\n",
    "    reports = {}\n",
    "    for i, model in enumerate(models):\n",
    "        model.fit(X, y)\n",
    "        y_pred = model.predict(X_test)\n",
    "        y_pred_proba = model.predict_proba(X_test)[:, 1]\n",
    "        auc = roc_auc_score(y_test, y_pred_proba)\n",
    "        reports[f'model_{i}'] = {\n",
    "            'classification_report': classification_report(y_test, y_pred, zero_division=0),\n",
    "            'roc_auc': auc\n",
    "        }\n",
    "    return reports\n",
    "\n",
    "for name, alg in algorithms.items():\n",
    "    reports = model_eval(X_data, y_data, X_test, y_test, [alg])\n",
    "    print(f\"Classification Report for {name}:\")\n",
    "    print(reports[f'model_0']['classification_report'])\n",
    "    print(f\"ROC AUC: {reports[f'model_0']['roc_auc']:.4f}\")\n",
    "    print(\"\\n\")"
   ]
  },
  {
   "cell_type": "code",
   "execution_count": null,
   "metadata": {},
   "outputs": [],
   "source": []
  }
 ],
 "metadata": {
  "kernelspec": {
   "display_name": "NYFDPRED",
   "language": "python",
   "name": "nyfdpred"
  },
  "language_info": {
   "codemirror_mode": {
    "name": "ipython",
    "version": 3
   },
   "file_extension": ".py",
   "mimetype": "text/x-python",
   "name": "python",
   "nbconvert_exporter": "python",
   "pygments_lexer": "ipython3",
   "version": "3.12.3"
  }
 },
 "nbformat": 4,
 "nbformat_minor": 4
}
