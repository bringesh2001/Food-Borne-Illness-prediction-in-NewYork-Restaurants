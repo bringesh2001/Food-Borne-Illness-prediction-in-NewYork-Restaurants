{
 "cells": [
  {
   "cell_type": "markdown",
   "id": "b50e3460-7131-430d-ba4c-d345fd9a4acb",
   "metadata": {},
   "source": [
    "## PACKAGES"
   ]
  },
  {
   "cell_type": "code",
   "execution_count": 2,
   "id": "e6e7b797-ee73-44b7-bc31-3d3887d7bcb4",
   "metadata": {},
   "outputs": [],
   "source": [
    "import numpy as np\n",
    "import pandas as pd\n",
    "import matplotlib.pyplot as plt"
   ]
  },
  {
   "cell_type": "markdown",
   "id": "f374d6ba-798f-48e2-877c-592cd51d225e",
   "metadata": {},
   "source": [
    "## 1. IMPORTING DATA FROM SQL SERVER"
   ]
  },
  {
   "cell_type": "markdown",
   "id": "104bb1a2-70f0-49a1-a23c-715c7c50429d",
   "metadata": {},
   "source": [
    "### connecting to the database"
   ]
  },
  {
   "cell_type": "code",
   "execution_count": 5,
   "id": "a47d2b3b-88fa-44c7-b50c-b65426277e70",
   "metadata": {},
   "outputs": [],
   "source": [
    "from sqlalchemy import create_engine\n",
    "from sqlalchemy.engine import URL"
   ]
  },
  {
   "cell_type": "code",
   "execution_count": 6,
   "id": "400da3b3-4379-48eb-8329-baf314b03b3d",
   "metadata": {},
   "outputs": [],
   "source": [
    "import psycopg2\n",
    "hostname = 'localhost'\n",
    "database = 'nyfd'\n",
    "user_name = 'postgres'\n",
    "pwd = 'raksha' \n",
    "port_id= 5432\n",
    "conn=None\n",
    "cur=None"
   ]
  },
  {
   "cell_type": "code",
   "execution_count": 7,
   "id": "72d7a9ee-1ad3-4e27-be5f-227118b7c93d",
   "metadata": {},
   "outputs": [],
   "source": [
    "engine = create_engine(f'postgresql://{user_name}:{pwd}@{hostname}:{port_id}/{database}')"
   ]
  },
  {
   "cell_type": "code",
   "execution_count": 8,
   "id": "892ea522-15d4-4c27-830a-801d5a006b7c",
   "metadata": {},
   "outputs": [],
   "source": [
    "sql = \"SELECT * FROM public.insp\""
   ]
  },
  {
   "cell_type": "code",
   "execution_count": 9,
   "id": "f2fd7dff-0059-4865-a46b-482720b0d4ec",
   "metadata": {},
   "outputs": [
    {
     "data": {
      "text/html": [
       "<div>\n",
       "<style scoped>\n",
       "    .dataframe tbody tr th:only-of-type {\n",
       "        vertical-align: middle;\n",
       "    }\n",
       "\n",
       "    .dataframe tbody tr th {\n",
       "        vertical-align: top;\n",
       "    }\n",
       "\n",
       "    .dataframe thead th {\n",
       "        text-align: right;\n",
       "    }\n",
       "</style>\n",
       "<table border=\"1\" class=\"dataframe\">\n",
       "  <thead>\n",
       "    <tr style=\"text-align: right;\">\n",
       "      <th></th>\n",
       "      <th>facility</th>\n",
       "      <th>address</th>\n",
       "      <th>date_of_inspection</th>\n",
       "      <th>violation_item</th>\n",
       "      <th>violation_description</th>\n",
       "      <th>critical_violation</th>\n",
       "      <th>total_critical_violations</th>\n",
       "      <th>total_crit_not_corrected</th>\n",
       "      <th>total_noncritical_violations</th>\n",
       "      <th>local_health_department</th>\n",
       "      <th>...</th>\n",
       "      <th>permitted_dba</th>\n",
       "      <th>permitted_corp_name</th>\n",
       "      <th>perm_operator_last_name</th>\n",
       "      <th>perm_operator_first_name</th>\n",
       "      <th>nys_health_operation_id</th>\n",
       "      <th>inspection_type</th>\n",
       "      <th>inspection_comments</th>\n",
       "      <th>fs_facility_state</th>\n",
       "      <th>latitude</th>\n",
       "      <th>longitude</th>\n",
       "    </tr>\n",
       "  </thead>\n",
       "  <tbody>\n",
       "    <tr>\n",
       "      <th>1112890</th>\n",
       "      <td>JOEY B'S AT BRICKSTONE</td>\n",
       "      <td>1325 ELMWOOD AVENUE,  ROCHESTER</td>\n",
       "      <td>12/20/2018</td>\n",
       "      <td>None</td>\n",
       "      <td>None</td>\n",
       "      <td>Not Critical Violation</td>\n",
       "      <td>0.0</td>\n",
       "      <td>0.0</td>\n",
       "      <td>0.0</td>\n",
       "      <td>Monroe County</td>\n",
       "      <td>...</td>\n",
       "      <td>None</td>\n",
       "      <td>None</td>\n",
       "      <td>None</td>\n",
       "      <td>None</td>\n",
       "      <td>892214.0</td>\n",
       "      <td>Re-Inspection</td>\n",
       "      <td>all items cited have been corrected</td>\n",
       "      <td>NY</td>\n",
       "      <td>NaN</td>\n",
       "      <td>NaN</td>\n",
       "    </tr>\n",
       "    <tr>\n",
       "      <th>1049351</th>\n",
       "      <td>DUNKIN DONUTS CALLEN DONUTS</td>\n",
       "      <td>34 UTICA STREET,  HAMILTON</td>\n",
       "      <td>1/28/2013</td>\n",
       "      <td>15A</td>\n",
       "      <td>Floors, walls, ceilings, not smooth, properly ...</td>\n",
       "      <td>Not Critical Violation</td>\n",
       "      <td>0.0</td>\n",
       "      <td>0.0</td>\n",
       "      <td>2.0</td>\n",
       "      <td>Madison County</td>\n",
       "      <td>...</td>\n",
       "      <td>None</td>\n",
       "      <td>CALLEN DONUTS, LLC.</td>\n",
       "      <td>CAFUA</td>\n",
       "      <td>DAVID</td>\n",
       "      <td>676696.0</td>\n",
       "      <td>Inspection</td>\n",
       "      <td>8E THERMOMETER MISSING INSIDE DELI COOLER (COR...</td>\n",
       "      <td>NY</td>\n",
       "      <td>42.827598</td>\n",
       "      <td>-75.546071</td>\n",
       "    </tr>\n",
       "    <tr>\n",
       "      <th>134366</th>\n",
       "      <td>CALDA PIZZERIA RESTAURANT</td>\n",
       "      <td>2890-3 HEMPSTEAD TURNPIKE,  LEVITTOWN</td>\n",
       "      <td>11/27/2023</td>\n",
       "      <td>11C</td>\n",
       "      <td>Food contact surfaces not washed, rinsed and s...</td>\n",
       "      <td>Not Critical Violation</td>\n",
       "      <td>2.0</td>\n",
       "      <td>0.0</td>\n",
       "      <td>3.0</td>\n",
       "      <td>Nassau  County</td>\n",
       "      <td>...</td>\n",
       "      <td>None</td>\n",
       "      <td>BLUE CAVES CORP</td>\n",
       "      <td>None</td>\n",
       "      <td>None</td>\n",
       "      <td>673500.0</td>\n",
       "      <td>Inspection</td>\n",
       "      <td>Permit expires August 2024|SH- fmtc exp. Nov 2...</td>\n",
       "      <td>NY</td>\n",
       "      <td>40.724420</td>\n",
       "      <td>-73.528446</td>\n",
       "    </tr>\n",
       "    <tr>\n",
       "      <th>495512</th>\n",
       "      <td>DAIRY QUEEN</td>\n",
       "      <td>2319 ROUTE 66,  GHENT</td>\n",
       "      <td>2/26/2010</td>\n",
       "      <td>None</td>\n",
       "      <td>None</td>\n",
       "      <td>Not Critical Violation</td>\n",
       "      <td>0.0</td>\n",
       "      <td>0.0</td>\n",
       "      <td>0.0</td>\n",
       "      <td>Columbia County</td>\n",
       "      <td>...</td>\n",
       "      <td>None</td>\n",
       "      <td>None</td>\n",
       "      <td>None</td>\n",
       "      <td>None</td>\n",
       "      <td>270936.0</td>\n",
       "      <td>Inspection</td>\n",
       "      <td>None</td>\n",
       "      <td>NY</td>\n",
       "      <td>42.329933</td>\n",
       "      <td>-73.614367</td>\n",
       "    </tr>\n",
       "    <tr>\n",
       "      <th>443641</th>\n",
       "      <td>LARCHMONT TAVERN</td>\n",
       "      <td>104 CHATSWORTH AVENUE,  LARCHMONT</td>\n",
       "      <td>2/14/2022</td>\n",
       "      <td>8A</td>\n",
       "      <td>Food not protected during storage, preparation...</td>\n",
       "      <td>Not Critical Violation</td>\n",
       "      <td>5.0</td>\n",
       "      <td>0.0</td>\n",
       "      <td>18.0</td>\n",
       "      <td>Westchester County</td>\n",
       "      <td>...</td>\n",
       "      <td>None</td>\n",
       "      <td>MARTINART PARTNERS LLC</td>\n",
       "      <td>JACOBSON</td>\n",
       "      <td>ARTHUR</td>\n",
       "      <td>526165.0</td>\n",
       "      <td>Inspection</td>\n",
       "      <td>Discussed hot holding, all potentially hazardo...</td>\n",
       "      <td>NY</td>\n",
       "      <td>40.932495</td>\n",
       "      <td>-73.758079</td>\n",
       "    </tr>\n",
       "    <tr>\n",
       "      <th>302502</th>\n",
       "      <td>Riverview Bar &amp; Restaurant, Inc.</td>\n",
       "      <td>928 State Highway 11C,  Brasher Falls</td>\n",
       "      <td>12/22/2022</td>\n",
       "      <td>15A</td>\n",
       "      <td>Floors, walls, ceilings, not smooth, properly ...</td>\n",
       "      <td>Not Critical Violation</td>\n",
       "      <td>0.0</td>\n",
       "      <td>0.0</td>\n",
       "      <td>5.0</td>\n",
       "      <td>Canton District Office</td>\n",
       "      <td>...</td>\n",
       "      <td>None</td>\n",
       "      <td>Riverview Bar &amp; Restaurant, Inc.</td>\n",
       "      <td>Seguin</td>\n",
       "      <td>David</td>\n",
       "      <td>793948.0</td>\n",
       "      <td>Inspection</td>\n",
       "      <td>None</td>\n",
       "      <td>NY</td>\n",
       "      <td>44.807951</td>\n",
       "      <td>-74.771554</td>\n",
       "    </tr>\n",
       "    <tr>\n",
       "      <th>1293758</th>\n",
       "      <td>WOODSIDE ACRES POPPY'S PLACE</td>\n",
       "      <td>225 MUTTONTOWN EASTWOODS ROAD,  SYOSSET</td>\n",
       "      <td>6/24/2015</td>\n",
       "      <td>None</td>\n",
       "      <td>None</td>\n",
       "      <td>Not Critical Violation</td>\n",
       "      <td>0.0</td>\n",
       "      <td>0.0</td>\n",
       "      <td>0.0</td>\n",
       "      <td>Nassau  County</td>\n",
       "      <td>...</td>\n",
       "      <td>None</td>\n",
       "      <td>WOODCREST AT MUTTONTOWN LTD</td>\n",
       "      <td>None</td>\n",
       "      <td>None</td>\n",
       "      <td>783438.0</td>\n",
       "      <td>Inspection</td>\n",
       "      <td>None</td>\n",
       "      <td>NY</td>\n",
       "      <td>40.825229</td>\n",
       "      <td>-73.514146</td>\n",
       "    </tr>\n",
       "    <tr>\n",
       "      <th>576975</th>\n",
       "      <td>FAT PATTIES BURGER BAR</td>\n",
       "      <td>1123 UPPER FRONT STREET,  BINGHAMTON</td>\n",
       "      <td>2/29/2016</td>\n",
       "      <td>15B</td>\n",
       "      <td>Lighting and ventilation inadequate, fixtures ...</td>\n",
       "      <td>Not Critical Violation</td>\n",
       "      <td>0.0</td>\n",
       "      <td>0.0</td>\n",
       "      <td>4.0</td>\n",
       "      <td>Broome County</td>\n",
       "      <td>...</td>\n",
       "      <td>None</td>\n",
       "      <td>1123 FRONT STREET, LLC</td>\n",
       "      <td>LAINHARDT</td>\n",
       "      <td>JESSICA</td>\n",
       "      <td>256487.0</td>\n",
       "      <td>Inspection</td>\n",
       "      <td>None</td>\n",
       "      <td>NY</td>\n",
       "      <td>42.147790</td>\n",
       "      <td>-75.900676</td>\n",
       "    </tr>\n",
       "    <tr>\n",
       "      <th>1159424</th>\n",
       "      <td>DUNKIN DONUTS</td>\n",
       "      <td>681 EAST MAIN STREET,  MOUNT KISCO</td>\n",
       "      <td>1/8/2013</td>\n",
       "      <td>8A</td>\n",
       "      <td>Food not protected during storage, preparation...</td>\n",
       "      <td>Not Critical Violation</td>\n",
       "      <td>0.0</td>\n",
       "      <td>0.0</td>\n",
       "      <td>1.0</td>\n",
       "      <td>Westchester County</td>\n",
       "      <td>...</td>\n",
       "      <td>None</td>\n",
       "      <td>FAC MT KISCO LLC</td>\n",
       "      <td>MARRINAN</td>\n",
       "      <td>PETER</td>\n",
       "      <td>754396.0</td>\n",
       "      <td>Inspection</td>\n",
       "      <td>None</td>\n",
       "      <td>NY</td>\n",
       "      <td>41.189185</td>\n",
       "      <td>-73.732141</td>\n",
       "    </tr>\n",
       "    <tr>\n",
       "      <th>340903</th>\n",
       "      <td>Fish Cove</td>\n",
       "      <td>458 SOUTH Main STREET,  North Syracuse</td>\n",
       "      <td>11/13/2009</td>\n",
       "      <td>5A</td>\n",
       "      <td>Potentially hazardous foods are not kept at or...</td>\n",
       "      <td>Critical Violation</td>\n",
       "      <td>2.0</td>\n",
       "      <td>0.0</td>\n",
       "      <td>2.0</td>\n",
       "      <td>Onondaga County</td>\n",
       "      <td>...</td>\n",
       "      <td>None</td>\n",
       "      <td>Fedele's Fish, Inc.</td>\n",
       "      <td>Fedele</td>\n",
       "      <td>Joseph</td>\n",
       "      <td>685541.0</td>\n",
       "      <td>Inspection</td>\n",
       "      <td>None</td>\n",
       "      <td>NY</td>\n",
       "      <td>43.126931</td>\n",
       "      <td>-76.136465</td>\n",
       "    </tr>\n",
       "  </tbody>\n",
       "</table>\n",
       "<p>10 rows × 31 columns</p>\n",
       "</div>"
      ],
      "text/plain": [
       "                                 facility  \\\n",
       "1112890            JOEY B'S AT BRICKSTONE   \n",
       "1049351       DUNKIN DONUTS CALLEN DONUTS   \n",
       "134366          CALDA PIZZERIA RESTAURANT   \n",
       "495512                        DAIRY QUEEN   \n",
       "443641                   LARCHMONT TAVERN   \n",
       "302502   Riverview Bar & Restaurant, Inc.   \n",
       "1293758      WOODSIDE ACRES POPPY'S PLACE   \n",
       "576975             FAT PATTIES BURGER BAR   \n",
       "1159424                     DUNKIN DONUTS   \n",
       "340903                          Fish Cove   \n",
       "\n",
       "                                         address date_of_inspection  \\\n",
       "1112890          1325 ELMWOOD AVENUE,  ROCHESTER         12/20/2018   \n",
       "1049351               34 UTICA STREET,  HAMILTON          1/28/2013   \n",
       "134366     2890-3 HEMPSTEAD TURNPIKE,  LEVITTOWN         11/27/2023   \n",
       "495512                     2319 ROUTE 66,  GHENT          2/26/2010   \n",
       "443641         104 CHATSWORTH AVENUE,  LARCHMONT          2/14/2022   \n",
       "302502     928 State Highway 11C,  Brasher Falls         12/22/2022   \n",
       "1293758  225 MUTTONTOWN EASTWOODS ROAD,  SYOSSET          6/24/2015   \n",
       "576975      1123 UPPER FRONT STREET,  BINGHAMTON          2/29/2016   \n",
       "1159424       681 EAST MAIN STREET,  MOUNT KISCO           1/8/2013   \n",
       "340903    458 SOUTH Main STREET,  North Syracuse         11/13/2009   \n",
       "\n",
       "        violation_item                              violation_description  \\\n",
       "1112890           None                                               None   \n",
       "1049351            15A  Floors, walls, ceilings, not smooth, properly ...   \n",
       "134366             11C  Food contact surfaces not washed, rinsed and s...   \n",
       "495512            None                                               None   \n",
       "443641              8A  Food not protected during storage, preparation...   \n",
       "302502             15A  Floors, walls, ceilings, not smooth, properly ...   \n",
       "1293758           None                                               None   \n",
       "576975             15B  Lighting and ventilation inadequate, fixtures ...   \n",
       "1159424             8A  Food not protected during storage, preparation...   \n",
       "340903              5A  Potentially hazardous foods are not kept at or...   \n",
       "\n",
       "             critical_violation  total_critical_violations  \\\n",
       "1112890  Not Critical Violation                        0.0   \n",
       "1049351  Not Critical Violation                        0.0   \n",
       "134366   Not Critical Violation                        2.0   \n",
       "495512   Not Critical Violation                        0.0   \n",
       "443641   Not Critical Violation                        5.0   \n",
       "302502   Not Critical Violation                        0.0   \n",
       "1293758  Not Critical Violation                        0.0   \n",
       "576975   Not Critical Violation                        0.0   \n",
       "1159424  Not Critical Violation                        0.0   \n",
       "340903       Critical Violation                        2.0   \n",
       "\n",
       "         total_crit_not_corrected  total_noncritical_violations  \\\n",
       "1112890                       0.0                           0.0   \n",
       "1049351                       0.0                           2.0   \n",
       "134366                        0.0                           3.0   \n",
       "495512                        0.0                           0.0   \n",
       "443641                        0.0                          18.0   \n",
       "302502                        0.0                           5.0   \n",
       "1293758                       0.0                           0.0   \n",
       "576975                        0.0                           4.0   \n",
       "1159424                       0.0                           1.0   \n",
       "340903                        0.0                           2.0   \n",
       "\n",
       "        local_health_department  ... permitted_dba  \\\n",
       "1112890           Monroe County  ...          None   \n",
       "1049351          Madison County  ...          None   \n",
       "134366           Nassau  County  ...          None   \n",
       "495512          Columbia County  ...          None   \n",
       "443641       Westchester County  ...          None   \n",
       "302502   Canton District Office  ...          None   \n",
       "1293758          Nassau  County  ...          None   \n",
       "576975            Broome County  ...          None   \n",
       "1159424      Westchester County  ...          None   \n",
       "340903          Onondaga County  ...          None   \n",
       "\n",
       "                      permitted_corp_name perm_operator_last_name  \\\n",
       "1112890                              None                    None   \n",
       "1049351               CALLEN DONUTS, LLC.                   CAFUA   \n",
       "134366                    BLUE CAVES CORP                    None   \n",
       "495512                               None                    None   \n",
       "443641             MARTINART PARTNERS LLC                JACOBSON   \n",
       "302502   Riverview Bar & Restaurant, Inc.                  Seguin   \n",
       "1293758       WOODCREST AT MUTTONTOWN LTD                    None   \n",
       "576975             1123 FRONT STREET, LLC               LAINHARDT   \n",
       "1159424                  FAC MT KISCO LLC                MARRINAN   \n",
       "340903                Fedele's Fish, Inc.                  Fedele   \n",
       "\n",
       "        perm_operator_first_name nys_health_operation_id  inspection_type  \\\n",
       "1112890                     None                892214.0    Re-Inspection   \n",
       "1049351                    DAVID                676696.0       Inspection   \n",
       "134366                      None                673500.0       Inspection   \n",
       "495512                      None                270936.0       Inspection   \n",
       "443641                    ARTHUR                526165.0       Inspection   \n",
       "302502                     David                793948.0       Inspection   \n",
       "1293758                     None                783438.0       Inspection   \n",
       "576975                   JESSICA                256487.0       Inspection   \n",
       "1159424                    PETER                754396.0       Inspection   \n",
       "340903                    Joseph                685541.0       Inspection   \n",
       "\n",
       "                                       inspection_comments fs_facility_state  \\\n",
       "1112890                all items cited have been corrected                NY   \n",
       "1049351  8E THERMOMETER MISSING INSIDE DELI COOLER (COR...                NY   \n",
       "134366   Permit expires August 2024|SH- fmtc exp. Nov 2...                NY   \n",
       "495512                                                None                NY   \n",
       "443641   Discussed hot holding, all potentially hazardo...                NY   \n",
       "302502                                                None                NY   \n",
       "1293758                                               None                NY   \n",
       "576975                                                None                NY   \n",
       "1159424                                               None                NY   \n",
       "340903                                                None                NY   \n",
       "\n",
       "          latitude  longitude  \n",
       "1112890        NaN        NaN  \n",
       "1049351  42.827598 -75.546071  \n",
       "134366   40.724420 -73.528446  \n",
       "495512   42.329933 -73.614367  \n",
       "443641   40.932495 -73.758079  \n",
       "302502   44.807951 -74.771554  \n",
       "1293758  40.825229 -73.514146  \n",
       "576975   42.147790 -75.900676  \n",
       "1159424  41.189185 -73.732141  \n",
       "340903   43.126931 -76.136465  \n",
       "\n",
       "[10 rows x 31 columns]"
      ]
     },
     "execution_count": 9,
     "metadata": {},
     "output_type": "execute_result"
    }
   ],
   "source": [
    "insp = pd.read_sql_query(sql,engine)\n",
    "insp.sample(10)"
   ]
  },
  {
   "cell_type": "code",
   "execution_count": 10,
   "id": "328130d1-7d56-4aa6-bc61-60e745330ff0",
   "metadata": {},
   "outputs": [
    {
     "name": "stdout",
     "output_type": "stream",
     "text": [
      "<class 'pandas.core.frame.DataFrame'>\n",
      "RangeIndex: 1310873 entries, 0 to 1310872\n",
      "Data columns (total 31 columns):\n",
      " #   Column                        Non-Null Count    Dtype  \n",
      "---  ------                        --------------    -----  \n",
      " 0   facility                      1310834 non-null  object \n",
      " 1   address                       1310832 non-null  object \n",
      " 2   date_of_inspection            1310834 non-null  object \n",
      " 3   violation_item                1069652 non-null  object \n",
      " 4   violation_description         1069652 non-null  object \n",
      " 5   critical_violation            1310834 non-null  object \n",
      " 6   total_critical_violations     1230072 non-null  float64\n",
      " 7   total_crit_not_corrected      1229454 non-null  float64\n",
      " 8   total_noncritical_violations  1230201 non-null  float64\n",
      " 9   local_health_department       1310834 non-null  object \n",
      " 10  county                        1310834 non-null  object \n",
      " 11  facility_code                 1310834 non-null  object \n",
      " 12  facility_address              1310828 non-null  object \n",
      " 13  facility_city                 1310701 non-null  object \n",
      " 14  facility_postal_zipcode       1310701 non-null  object \n",
      " 15  nysdoh_gazetteer              1310834 non-null  float64\n",
      " 16  facility_municipality         1310834 non-null  object \n",
      " 17  operation_name                1310834 non-null  object \n",
      " 18  permit_expiration_date        1295201 non-null  object \n",
      " 19  food_service_type             1310834 non-null  object \n",
      " 20  food_service_description      1310834 non-null  object \n",
      " 21  permitted_dba                 133815 non-null   object \n",
      " 22  permitted_corp_name           1005396 non-null  object \n",
      " 23  perm_operator_last_name       976780 non-null   object \n",
      " 24  perm_operator_first_name      975086 non-null   object \n",
      " 25  nys_health_operation_id       1310834 non-null  float64\n",
      " 26  inspection_type               1310834 non-null  object \n",
      " 27  inspection_comments           623777 non-null   object \n",
      " 28  fs_facility_state             1310834 non-null  object \n",
      " 29  latitude                      966442 non-null   float64\n",
      " 30  longitude                     966442 non-null   float64\n",
      "dtypes: float64(7), object(24)\n",
      "memory usage: 310.0+ MB\n"
     ]
    }
   ],
   "source": [
    "insp.info()"
   ]
  },
  {
   "cell_type": "markdown",
   "id": "7b12df7d-8699-4fcd-a5e4-4d0daae28291",
   "metadata": {},
   "source": [
    "- Overall there are null values in the dataset. \n",
    "-  Column `Date of inspection` datatype should be changed."
   ]
  },
  {
   "cell_type": "markdown",
   "id": "d812de78-99ba-49fc-8766-2231ce068f86",
   "metadata": {},
   "source": [
    "## 2. PRELIMINARY ANALYSIS"
   ]
  },
  {
   "cell_type": "markdown",
   "id": "e0a5422f-f3d0-4c94-a0ce-b4cd9bf0df9e",
   "metadata": {},
   "source": [
    "### 2.1 CHECKING DATATYPES"
   ]
  },
  {
   "cell_type": "code",
   "execution_count": 14,
   "id": "3c29208f-2f65-44e6-ad83-f1084d8c994d",
   "metadata": {},
   "outputs": [
    {
     "data": {
      "text/html": [
       "<div>\n",
       "<style scoped>\n",
       "    .dataframe tbody tr th:only-of-type {\n",
       "        vertical-align: middle;\n",
       "    }\n",
       "\n",
       "    .dataframe tbody tr th {\n",
       "        vertical-align: top;\n",
       "    }\n",
       "\n",
       "    .dataframe thead th {\n",
       "        text-align: right;\n",
       "    }\n",
       "</style>\n",
       "<table border=\"1\" class=\"dataframe\">\n",
       "  <thead>\n",
       "    <tr style=\"text-align: right;\">\n",
       "      <th></th>\n",
       "      <th>facility</th>\n",
       "      <th>address</th>\n",
       "      <th>date_of_inspection</th>\n",
       "      <th>violation_item</th>\n",
       "      <th>violation_description</th>\n",
       "      <th>critical_violation</th>\n",
       "      <th>total_critical_violations</th>\n",
       "      <th>total_crit_not_corrected</th>\n",
       "      <th>total_noncritical_violations</th>\n",
       "      <th>local_health_department</th>\n",
       "      <th>...</th>\n",
       "      <th>permitted_dba</th>\n",
       "      <th>permitted_corp_name</th>\n",
       "      <th>perm_operator_last_name</th>\n",
       "      <th>perm_operator_first_name</th>\n",
       "      <th>nys_health_operation_id</th>\n",
       "      <th>inspection_type</th>\n",
       "      <th>inspection_comments</th>\n",
       "      <th>fs_facility_state</th>\n",
       "      <th>latitude</th>\n",
       "      <th>longitude</th>\n",
       "    </tr>\n",
       "  </thead>\n",
       "  <tbody>\n",
       "    <tr>\n",
       "      <th>692250</th>\n",
       "      <td>LITTLE KABAB STATION</td>\n",
       "      <td>31 EAST MAIN STREET,  MOUNT KISCO</td>\n",
       "      <td>2/4/2013</td>\n",
       "      <td>11A</td>\n",
       "      <td>Manual facilities inadequate, technique incorr...</td>\n",
       "      <td>Not Critical Violation</td>\n",
       "      <td>0.0</td>\n",
       "      <td>0.0</td>\n",
       "      <td>4.0</td>\n",
       "      <td>Westchester County</td>\n",
       "      <td>...</td>\n",
       "      <td>None</td>\n",
       "      <td>LITTLE KABAB STATION INC.</td>\n",
       "      <td>SARAN</td>\n",
       "      <td>BONNIE</td>\n",
       "      <td>760285.0</td>\n",
       "      <td>Inspection</td>\n",
       "      <td>None</td>\n",
       "      <td>NY</td>\n",
       "      <td>41.208253</td>\n",
       "      <td>-73.727794</td>\n",
       "    </tr>\n",
       "    <tr>\n",
       "      <th>598737</th>\n",
       "      <td>Ice Cream Island</td>\n",
       "      <td>130  Franklin Plaza,  DANSVILLE</td>\n",
       "      <td>8/17/2023</td>\n",
       "      <td>12D</td>\n",
       "      <td>Toilet facilities inadequate, inconvenient, di...</td>\n",
       "      <td>Not Critical Violation</td>\n",
       "      <td>0.0</td>\n",
       "      <td>0.0</td>\n",
       "      <td>3.0</td>\n",
       "      <td>Livingston County</td>\n",
       "      <td>...</td>\n",
       "      <td>None</td>\n",
       "      <td>Oasis Sweets and BBQ</td>\n",
       "      <td>Howe</td>\n",
       "      <td>Craig</td>\n",
       "      <td>1047213.0</td>\n",
       "      <td>Inspection</td>\n",
       "      <td>All holding temps acceptable at time of inspec...</td>\n",
       "      <td>NY</td>\n",
       "      <td>42.565351</td>\n",
       "      <td>-77.710524</td>\n",
       "    </tr>\n",
       "    <tr>\n",
       "      <th>960725</th>\n",
       "      <td>STADIUM GOLF CLUB</td>\n",
       "      <td>333 JACKSON AVENUE,  SCHENECTADY</td>\n",
       "      <td>12/1/2011</td>\n",
       "      <td>None</td>\n",
       "      <td>None</td>\n",
       "      <td>Not Critical Violation</td>\n",
       "      <td>0.0</td>\n",
       "      <td>0.0</td>\n",
       "      <td>0.0</td>\n",
       "      <td>Schenectady County</td>\n",
       "      <td>...</td>\n",
       "      <td>None</td>\n",
       "      <td>STADIUM GOLF CLUB, INC.</td>\n",
       "      <td>HENNEL</td>\n",
       "      <td>GREGORY</td>\n",
       "      <td>305814.0</td>\n",
       "      <td>Inspection</td>\n",
       "      <td>None</td>\n",
       "      <td>NY</td>\n",
       "      <td>42.780671</td>\n",
       "      <td>-73.914729</td>\n",
       "    </tr>\n",
       "    <tr>\n",
       "      <th>366251</th>\n",
       "      <td>18 NORTH GRILL</td>\n",
       "      <td>18 WESTAGE   DRIVE,  FISHKILL</td>\n",
       "      <td>1/7/2022</td>\n",
       "      <td>10A</td>\n",
       "      <td>Food (ice) contact surfaces are improperly des...</td>\n",
       "      <td>Not Critical Violation</td>\n",
       "      <td>0.0</td>\n",
       "      <td>0.0</td>\n",
       "      <td>2.0</td>\n",
       "      <td>Dutchess County</td>\n",
       "      <td>...</td>\n",
       "      <td>None</td>\n",
       "      <td>18 NORTH GRILL</td>\n",
       "      <td>INNESS</td>\n",
       "      <td>JAMEE</td>\n",
       "      <td>1058593.0</td>\n",
       "      <td>Inspection</td>\n",
       "      <td>Adequate temperatures observed during inspecti...</td>\n",
       "      <td>NY</td>\n",
       "      <td>NaN</td>\n",
       "      <td>NaN</td>\n",
       "    </tr>\n",
       "    <tr>\n",
       "      <th>24645</th>\n",
       "      <td>HATTIE'S RESTAURANT</td>\n",
       "      <td>45 PHILA STREET,  SARATOGA SPRINGS</td>\n",
       "      <td>8/6/2007</td>\n",
       "      <td>8A</td>\n",
       "      <td>Food not protected during storage, preparation...</td>\n",
       "      <td>Not Critical Violation</td>\n",
       "      <td>0.0</td>\n",
       "      <td>0.0</td>\n",
       "      <td>5.0</td>\n",
       "      <td>Glens Falls District Office</td>\n",
       "      <td>...</td>\n",
       "      <td>None</td>\n",
       "      <td>JBA RESTAURANT CORPORATION</td>\n",
       "      <td>ALEXANDER</td>\n",
       "      <td>JASPER</td>\n",
       "      <td>337105.0</td>\n",
       "      <td>Inspection</td>\n",
       "      <td>None</td>\n",
       "      <td>NY</td>\n",
       "      <td>43.080425</td>\n",
       "      <td>-73.783635</td>\n",
       "    </tr>\n",
       "  </tbody>\n",
       "</table>\n",
       "<p>5 rows × 31 columns</p>\n",
       "</div>"
      ],
      "text/plain": [
       "                    facility                             address  \\\n",
       "692250  LITTLE KABAB STATION   31 EAST MAIN STREET,  MOUNT KISCO   \n",
       "598737      Ice Cream Island     130  Franklin Plaza,  DANSVILLE   \n",
       "960725     STADIUM GOLF CLUB    333 JACKSON AVENUE,  SCHENECTADY   \n",
       "366251        18 NORTH GRILL       18 WESTAGE   DRIVE,  FISHKILL   \n",
       "24645    HATTIE'S RESTAURANT  45 PHILA STREET,  SARATOGA SPRINGS   \n",
       "\n",
       "       date_of_inspection violation_item  \\\n",
       "692250           2/4/2013            11A   \n",
       "598737          8/17/2023            12D   \n",
       "960725          12/1/2011           None   \n",
       "366251           1/7/2022            10A   \n",
       "24645            8/6/2007             8A   \n",
       "\n",
       "                                    violation_description  \\\n",
       "692250  Manual facilities inadequate, technique incorr...   \n",
       "598737  Toilet facilities inadequate, inconvenient, di...   \n",
       "960725                                               None   \n",
       "366251  Food (ice) contact surfaces are improperly des...   \n",
       "24645   Food not protected during storage, preparation...   \n",
       "\n",
       "            critical_violation  total_critical_violations  \\\n",
       "692250  Not Critical Violation                        0.0   \n",
       "598737  Not Critical Violation                        0.0   \n",
       "960725  Not Critical Violation                        0.0   \n",
       "366251  Not Critical Violation                        0.0   \n",
       "24645   Not Critical Violation                        0.0   \n",
       "\n",
       "        total_crit_not_corrected  total_noncritical_violations  \\\n",
       "692250                       0.0                           4.0   \n",
       "598737                       0.0                           3.0   \n",
       "960725                       0.0                           0.0   \n",
       "366251                       0.0                           2.0   \n",
       "24645                        0.0                           5.0   \n",
       "\n",
       "            local_health_department  ... permitted_dba  \\\n",
       "692250           Westchester County  ...          None   \n",
       "598737            Livingston County  ...          None   \n",
       "960725           Schenectady County  ...          None   \n",
       "366251              Dutchess County  ...          None   \n",
       "24645   Glens Falls District Office  ...          None   \n",
       "\n",
       "               permitted_corp_name perm_operator_last_name  \\\n",
       "692250   LITTLE KABAB STATION INC.                   SARAN   \n",
       "598737        Oasis Sweets and BBQ                    Howe   \n",
       "960725     STADIUM GOLF CLUB, INC.                  HENNEL   \n",
       "366251              18 NORTH GRILL                  INNESS   \n",
       "24645   JBA RESTAURANT CORPORATION               ALEXANDER   \n",
       "\n",
       "       perm_operator_first_name nys_health_operation_id  inspection_type  \\\n",
       "692250                   BONNIE                760285.0       Inspection   \n",
       "598737                    Craig               1047213.0       Inspection   \n",
       "960725                  GREGORY                305814.0       Inspection   \n",
       "366251                    JAMEE               1058593.0       Inspection   \n",
       "24645                    JASPER                337105.0       Inspection   \n",
       "\n",
       "                                      inspection_comments fs_facility_state  \\\n",
       "692250                                               None                NY   \n",
       "598737  All holding temps acceptable at time of inspec...                NY   \n",
       "960725                                               None                NY   \n",
       "366251  Adequate temperatures observed during inspecti...                NY   \n",
       "24645                                                None                NY   \n",
       "\n",
       "         latitude  longitude  \n",
       "692250  41.208253 -73.727794  \n",
       "598737  42.565351 -77.710524  \n",
       "960725  42.780671 -73.914729  \n",
       "366251        NaN        NaN  \n",
       "24645   43.080425 -73.783635  \n",
       "\n",
       "[5 rows x 31 columns]"
      ]
     },
     "execution_count": 14,
     "metadata": {},
     "output_type": "execute_result"
    }
   ],
   "source": [
    "insp.sample(5)"
   ]
  },
  {
   "cell_type": "code",
   "execution_count": 15,
   "id": "6038f979-5bbb-443e-97cc-cc3a52f7151c",
   "metadata": {},
   "outputs": [
    {
     "data": {
      "text/plain": [
       "facility                         object\n",
       "address                          object\n",
       "date_of_inspection               object\n",
       "violation_item                   object\n",
       "violation_description            object\n",
       "critical_violation               object\n",
       "total_critical_violations       float64\n",
       "total_crit_not_corrected        float64\n",
       "total_noncritical_violations    float64\n",
       "local_health_department          object\n",
       "county                           object\n",
       "facility_code                    object\n",
       "facility_address                 object\n",
       "facility_city                    object\n",
       "facility_postal_zipcode          object\n",
       "nysdoh_gazetteer                float64\n",
       "facility_municipality            object\n",
       "operation_name                   object\n",
       "permit_expiration_date           object\n",
       "food_service_type                object\n",
       "food_service_description         object\n",
       "permitted_dba                    object\n",
       "permitted_corp_name              object\n",
       "perm_operator_last_name          object\n",
       "perm_operator_first_name         object\n",
       "nys_health_operation_id         float64\n",
       "inspection_type                  object\n",
       "inspection_comments              object\n",
       "fs_facility_state                object\n",
       "latitude                        float64\n",
       "longitude                       float64\n",
       "dtype: object"
      ]
     },
     "execution_count": 15,
     "metadata": {},
     "output_type": "execute_result"
    }
   ],
   "source": [
    "insp.dtypes"
   ]
  },
  {
   "cell_type": "markdown",
   "id": "39eb3263-c388-4a28-8d91-8ab09048e542",
   "metadata": {},
   "source": [
    "- Everything looks good expect Columns`Date of inspection` , `Permit Expiration Date` , should be changed into datetime."
   ]
  },
  {
   "cell_type": "markdown",
   "id": "bfa8bc15-cfbb-4016-b4e4-693cb3c98088",
   "metadata": {},
   "source": [
    "# 2.2 Duplicates"
   ]
  },
  {
   "cell_type": "code",
   "execution_count": 18,
   "id": "e15013cc-869b-4a06-a04d-b8435159556b",
   "metadata": {},
   "outputs": [
    {
     "data": {
      "text/plain": [
       "350"
      ]
     },
     "execution_count": 18,
     "metadata": {},
     "output_type": "execute_result"
    }
   ],
   "source": [
    "insp.duplicated().sum()"
   ]
  },
  {
   "cell_type": "code",
   "execution_count": 19,
   "id": "381a9bdd-2ccc-471b-9a63-c7a9de9c0dfa",
   "metadata": {},
   "outputs": [
    {
     "data": {
      "text/html": [
       "<div>\n",
       "<style scoped>\n",
       "    .dataframe tbody tr th:only-of-type {\n",
       "        vertical-align: middle;\n",
       "    }\n",
       "\n",
       "    .dataframe tbody tr th {\n",
       "        vertical-align: top;\n",
       "    }\n",
       "\n",
       "    .dataframe thead th {\n",
       "        text-align: right;\n",
       "    }\n",
       "</style>\n",
       "<table border=\"1\" class=\"dataframe\">\n",
       "  <thead>\n",
       "    <tr style=\"text-align: right;\">\n",
       "      <th></th>\n",
       "      <th>facility</th>\n",
       "      <th>address</th>\n",
       "      <th>date_of_inspection</th>\n",
       "      <th>violation_item</th>\n",
       "      <th>violation_description</th>\n",
       "      <th>critical_violation</th>\n",
       "      <th>total_critical_violations</th>\n",
       "      <th>total_crit_not_corrected</th>\n",
       "      <th>total_noncritical_violations</th>\n",
       "      <th>local_health_department</th>\n",
       "      <th>...</th>\n",
       "      <th>permitted_dba</th>\n",
       "      <th>permitted_corp_name</th>\n",
       "      <th>perm_operator_last_name</th>\n",
       "      <th>perm_operator_first_name</th>\n",
       "      <th>nys_health_operation_id</th>\n",
       "      <th>inspection_type</th>\n",
       "      <th>inspection_comments</th>\n",
       "      <th>fs_facility_state</th>\n",
       "      <th>latitude</th>\n",
       "      <th>longitude</th>\n",
       "    </tr>\n",
       "  </thead>\n",
       "  <tbody>\n",
       "    <tr>\n",
       "      <th>1288367</th>\n",
       "      <td>2000 CHINESE RESTAURANT</td>\n",
       "      <td>22070 US ROUTE 11,  WATERTOWN</td>\n",
       "      <td>6/10/2016</td>\n",
       "      <td>None</td>\n",
       "      <td>None</td>\n",
       "      <td>Not Critical Violation</td>\n",
       "      <td>0.0</td>\n",
       "      <td>0.0</td>\n",
       "      <td>0.0</td>\n",
       "      <td>Watertown District Office</td>\n",
       "      <td>...</td>\n",
       "      <td>None</td>\n",
       "      <td>2000 CHINESE RESTAURANT  NY, INC.</td>\n",
       "      <td>Jiang</td>\n",
       "      <td>Xiang wu</td>\n",
       "      <td>752833.0</td>\n",
       "      <td>Re-Inspection</td>\n",
       "      <td>None</td>\n",
       "      <td>NY</td>\n",
       "      <td>43.994356</td>\n",
       "      <td>-75.904334</td>\n",
       "    </tr>\n",
       "    <tr>\n",
       "      <th>484736</th>\n",
       "      <td>2000 CHINESE RESTAURANT</td>\n",
       "      <td>22070 US ROUTE 11,  WATERTOWN</td>\n",
       "      <td>6/10/2016</td>\n",
       "      <td>None</td>\n",
       "      <td>None</td>\n",
       "      <td>Not Critical Violation</td>\n",
       "      <td>0.0</td>\n",
       "      <td>0.0</td>\n",
       "      <td>0.0</td>\n",
       "      <td>Watertown District Office</td>\n",
       "      <td>...</td>\n",
       "      <td>None</td>\n",
       "      <td>2000 CHINESE RESTAURANT  NY, INC.</td>\n",
       "      <td>Jiang</td>\n",
       "      <td>Xiang wu</td>\n",
       "      <td>752833.0</td>\n",
       "      <td>Re-Inspection</td>\n",
       "      <td>None</td>\n",
       "      <td>NY</td>\n",
       "      <td>43.994356</td>\n",
       "      <td>-75.904334</td>\n",
       "    </tr>\n",
       "    <tr>\n",
       "      <th>975267</th>\n",
       "      <td>4-H FAIRGROUNDS</td>\n",
       "      <td>12690 ROUTE 31,  ALBION</td>\n",
       "      <td>7/23/2012</td>\n",
       "      <td>None</td>\n",
       "      <td>None</td>\n",
       "      <td>Not Critical Violation</td>\n",
       "      <td>0.0</td>\n",
       "      <td>0.0</td>\n",
       "      <td>0.0</td>\n",
       "      <td>Orleans County</td>\n",
       "      <td>...</td>\n",
       "      <td>None</td>\n",
       "      <td>None</td>\n",
       "      <td>None</td>\n",
       "      <td>None</td>\n",
       "      <td>707324.0</td>\n",
       "      <td>Inspection</td>\n",
       "      <td>None</td>\n",
       "      <td>NY</td>\n",
       "      <td>43.227234</td>\n",
       "      <td>-78.304931</td>\n",
       "    </tr>\n",
       "    <tr>\n",
       "      <th>1301839</th>\n",
       "      <td>4-H FAIRGROUNDS</td>\n",
       "      <td>12690 ROUTE 31,  ALBION</td>\n",
       "      <td>7/23/2012</td>\n",
       "      <td>None</td>\n",
       "      <td>None</td>\n",
       "      <td>Not Critical Violation</td>\n",
       "      <td>0.0</td>\n",
       "      <td>0.0</td>\n",
       "      <td>0.0</td>\n",
       "      <td>Orleans County</td>\n",
       "      <td>...</td>\n",
       "      <td>None</td>\n",
       "      <td>None</td>\n",
       "      <td>None</td>\n",
       "      <td>None</td>\n",
       "      <td>810180.0</td>\n",
       "      <td>Inspection</td>\n",
       "      <td>None</td>\n",
       "      <td>NY</td>\n",
       "      <td>43.227234</td>\n",
       "      <td>-78.304931</td>\n",
       "    </tr>\n",
       "    <tr>\n",
       "      <th>129147</th>\n",
       "      <td>4-H FAIRGROUNDS</td>\n",
       "      <td>12690 ROUTE 31,  ALBION</td>\n",
       "      <td>7/23/2012</td>\n",
       "      <td>None</td>\n",
       "      <td>None</td>\n",
       "      <td>Not Critical Violation</td>\n",
       "      <td>0.0</td>\n",
       "      <td>0.0</td>\n",
       "      <td>0.0</td>\n",
       "      <td>Orleans County</td>\n",
       "      <td>...</td>\n",
       "      <td>None</td>\n",
       "      <td>None</td>\n",
       "      <td>None</td>\n",
       "      <td>None</td>\n",
       "      <td>707314.0</td>\n",
       "      <td>Inspection</td>\n",
       "      <td>None</td>\n",
       "      <td>NY</td>\n",
       "      <td>43.227234</td>\n",
       "      <td>-78.304931</td>\n",
       "    </tr>\n",
       "    <tr>\n",
       "      <th>...</th>\n",
       "      <td>...</td>\n",
       "      <td>...</td>\n",
       "      <td>...</td>\n",
       "      <td>...</td>\n",
       "      <td>...</td>\n",
       "      <td>...</td>\n",
       "      <td>...</td>\n",
       "      <td>...</td>\n",
       "      <td>...</td>\n",
       "      <td>...</td>\n",
       "      <td>...</td>\n",
       "      <td>...</td>\n",
       "      <td>...</td>\n",
       "      <td>...</td>\n",
       "      <td>...</td>\n",
       "      <td>...</td>\n",
       "      <td>...</td>\n",
       "      <td>...</td>\n",
       "      <td>...</td>\n",
       "      <td>...</td>\n",
       "      <td>...</td>\n",
       "    </tr>\n",
       "    <tr>\n",
       "      <th>1259115</th>\n",
       "      <td>None</td>\n",
       "      <td>None</td>\n",
       "      <td>None</td>\n",
       "      <td>None</td>\n",
       "      <td>None</td>\n",
       "      <td>None</td>\n",
       "      <td>NaN</td>\n",
       "      <td>NaN</td>\n",
       "      <td>NaN</td>\n",
       "      <td>None</td>\n",
       "      <td>...</td>\n",
       "      <td>None</td>\n",
       "      <td>None</td>\n",
       "      <td>None</td>\n",
       "      <td>None</td>\n",
       "      <td>NaN</td>\n",
       "      <td>None</td>\n",
       "      <td>None</td>\n",
       "      <td>None</td>\n",
       "      <td>NaN</td>\n",
       "      <td>NaN</td>\n",
       "    </tr>\n",
       "    <tr>\n",
       "      <th>1260173</th>\n",
       "      <td>None</td>\n",
       "      <td>None</td>\n",
       "      <td>None</td>\n",
       "      <td>None</td>\n",
       "      <td>None</td>\n",
       "      <td>None</td>\n",
       "      <td>NaN</td>\n",
       "      <td>NaN</td>\n",
       "      <td>NaN</td>\n",
       "      <td>None</td>\n",
       "      <td>...</td>\n",
       "      <td>None</td>\n",
       "      <td>None</td>\n",
       "      <td>None</td>\n",
       "      <td>None</td>\n",
       "      <td>NaN</td>\n",
       "      <td>None</td>\n",
       "      <td>None</td>\n",
       "      <td>None</td>\n",
       "      <td>NaN</td>\n",
       "      <td>NaN</td>\n",
       "    </tr>\n",
       "    <tr>\n",
       "      <th>1260857</th>\n",
       "      <td>None</td>\n",
       "      <td>None</td>\n",
       "      <td>None</td>\n",
       "      <td>None</td>\n",
       "      <td>None</td>\n",
       "      <td>None</td>\n",
       "      <td>NaN</td>\n",
       "      <td>NaN</td>\n",
       "      <td>NaN</td>\n",
       "      <td>None</td>\n",
       "      <td>...</td>\n",
       "      <td>None</td>\n",
       "      <td>None</td>\n",
       "      <td>None</td>\n",
       "      <td>None</td>\n",
       "      <td>NaN</td>\n",
       "      <td>None</td>\n",
       "      <td>None</td>\n",
       "      <td>None</td>\n",
       "      <td>NaN</td>\n",
       "      <td>NaN</td>\n",
       "    </tr>\n",
       "    <tr>\n",
       "      <th>1262732</th>\n",
       "      <td>None</td>\n",
       "      <td>None</td>\n",
       "      <td>None</td>\n",
       "      <td>None</td>\n",
       "      <td>None</td>\n",
       "      <td>None</td>\n",
       "      <td>NaN</td>\n",
       "      <td>NaN</td>\n",
       "      <td>NaN</td>\n",
       "      <td>None</td>\n",
       "      <td>...</td>\n",
       "      <td>None</td>\n",
       "      <td>None</td>\n",
       "      <td>None</td>\n",
       "      <td>None</td>\n",
       "      <td>NaN</td>\n",
       "      <td>None</td>\n",
       "      <td>None</td>\n",
       "      <td>None</td>\n",
       "      <td>NaN</td>\n",
       "      <td>NaN</td>\n",
       "    </tr>\n",
       "    <tr>\n",
       "      <th>1268373</th>\n",
       "      <td>None</td>\n",
       "      <td>None</td>\n",
       "      <td>None</td>\n",
       "      <td>None</td>\n",
       "      <td>None</td>\n",
       "      <td>None</td>\n",
       "      <td>NaN</td>\n",
       "      <td>NaN</td>\n",
       "      <td>NaN</td>\n",
       "      <td>None</td>\n",
       "      <td>...</td>\n",
       "      <td>None</td>\n",
       "      <td>None</td>\n",
       "      <td>None</td>\n",
       "      <td>None</td>\n",
       "      <td>NaN</td>\n",
       "      <td>None</td>\n",
       "      <td>None</td>\n",
       "      <td>None</td>\n",
       "      <td>NaN</td>\n",
       "      <td>NaN</td>\n",
       "    </tr>\n",
       "  </tbody>\n",
       "</table>\n",
       "<p>661 rows × 31 columns</p>\n",
       "</div>"
      ],
      "text/plain": [
       "                        facility                        address  \\\n",
       "1288367  2000 CHINESE RESTAURANT  22070 US ROUTE 11,  WATERTOWN   \n",
       "484736   2000 CHINESE RESTAURANT  22070 US ROUTE 11,  WATERTOWN   \n",
       "975267           4-H FAIRGROUNDS        12690 ROUTE 31,  ALBION   \n",
       "1301839          4-H FAIRGROUNDS        12690 ROUTE 31,  ALBION   \n",
       "129147           4-H FAIRGROUNDS        12690 ROUTE 31,  ALBION   \n",
       "...                          ...                            ...   \n",
       "1259115                     None                           None   \n",
       "1260173                     None                           None   \n",
       "1260857                     None                           None   \n",
       "1262732                     None                           None   \n",
       "1268373                     None                           None   \n",
       "\n",
       "        date_of_inspection violation_item violation_description  \\\n",
       "1288367          6/10/2016           None                  None   \n",
       "484736           6/10/2016           None                  None   \n",
       "975267           7/23/2012           None                  None   \n",
       "1301839          7/23/2012           None                  None   \n",
       "129147           7/23/2012           None                  None   \n",
       "...                    ...            ...                   ...   \n",
       "1259115               None           None                  None   \n",
       "1260173               None           None                  None   \n",
       "1260857               None           None                  None   \n",
       "1262732               None           None                  None   \n",
       "1268373               None           None                  None   \n",
       "\n",
       "             critical_violation  total_critical_violations  \\\n",
       "1288367  Not Critical Violation                        0.0   \n",
       "484736   Not Critical Violation                        0.0   \n",
       "975267   Not Critical Violation                        0.0   \n",
       "1301839  Not Critical Violation                        0.0   \n",
       "129147   Not Critical Violation                        0.0   \n",
       "...                         ...                        ...   \n",
       "1259115                    None                        NaN   \n",
       "1260173                    None                        NaN   \n",
       "1260857                    None                        NaN   \n",
       "1262732                    None                        NaN   \n",
       "1268373                    None                        NaN   \n",
       "\n",
       "         total_crit_not_corrected  total_noncritical_violations  \\\n",
       "1288367                       0.0                           0.0   \n",
       "484736                        0.0                           0.0   \n",
       "975267                        0.0                           0.0   \n",
       "1301839                       0.0                           0.0   \n",
       "129147                        0.0                           0.0   \n",
       "...                           ...                           ...   \n",
       "1259115                       NaN                           NaN   \n",
       "1260173                       NaN                           NaN   \n",
       "1260857                       NaN                           NaN   \n",
       "1262732                       NaN                           NaN   \n",
       "1268373                       NaN                           NaN   \n",
       "\n",
       "           local_health_department  ... permitted_dba  \\\n",
       "1288367  Watertown District Office  ...          None   \n",
       "484736   Watertown District Office  ...          None   \n",
       "975267              Orleans County  ...          None   \n",
       "1301839             Orleans County  ...          None   \n",
       "129147              Orleans County  ...          None   \n",
       "...                            ...  ...           ...   \n",
       "1259115                       None  ...          None   \n",
       "1260173                       None  ...          None   \n",
       "1260857                       None  ...          None   \n",
       "1262732                       None  ...          None   \n",
       "1268373                       None  ...          None   \n",
       "\n",
       "                       permitted_corp_name perm_operator_last_name  \\\n",
       "1288367  2000 CHINESE RESTAURANT  NY, INC.                   Jiang   \n",
       "484736   2000 CHINESE RESTAURANT  NY, INC.                   Jiang   \n",
       "975267                                None                    None   \n",
       "1301839                               None                    None   \n",
       "129147                                None                    None   \n",
       "...                                    ...                     ...   \n",
       "1259115                               None                    None   \n",
       "1260173                               None                    None   \n",
       "1260857                               None                    None   \n",
       "1262732                               None                    None   \n",
       "1268373                               None                    None   \n",
       "\n",
       "        perm_operator_first_name nys_health_operation_id  inspection_type  \\\n",
       "1288367                 Xiang wu                752833.0    Re-Inspection   \n",
       "484736                  Xiang wu                752833.0    Re-Inspection   \n",
       "975267                      None                707324.0       Inspection   \n",
       "1301839                     None                810180.0       Inspection   \n",
       "129147                      None                707314.0       Inspection   \n",
       "...                          ...                     ...              ...   \n",
       "1259115                     None                     NaN             None   \n",
       "1260173                     None                     NaN             None   \n",
       "1260857                     None                     NaN             None   \n",
       "1262732                     None                     NaN             None   \n",
       "1268373                     None                     NaN             None   \n",
       "\n",
       "        inspection_comments fs_facility_state   latitude  longitude  \n",
       "1288367                None                NY  43.994356 -75.904334  \n",
       "484736                 None                NY  43.994356 -75.904334  \n",
       "975267                 None                NY  43.227234 -78.304931  \n",
       "1301839                None                NY  43.227234 -78.304931  \n",
       "129147                 None                NY  43.227234 -78.304931  \n",
       "...                     ...               ...        ...        ...  \n",
       "1259115                None              None        NaN        NaN  \n",
       "1260173                None              None        NaN        NaN  \n",
       "1260857                None              None        NaN        NaN  \n",
       "1262732                None              None        NaN        NaN  \n",
       "1268373                None              None        NaN        NaN  \n",
       "\n",
       "[661 rows x 31 columns]"
      ]
     },
     "execution_count": 19,
     "metadata": {},
     "output_type": "execute_result"
    }
   ],
   "source": [
    "(\n",
    "    insp\n",
    "    .loc[insp.duplicated(keep=False)]\n",
    "    .sort_values(['facility'])\n",
    ")"
   ]
  },
  {
   "cell_type": "markdown",
   "id": "438b7425-3c63-4eb1-b7a7-c55e6e2a8ffa",
   "metadata": {},
   "source": [
    "- There are `350 Duplicates` in the dataset that should be removed"
   ]
  },
  {
   "cell_type": "markdown",
   "id": "3573f34c-152f-493c-88ef-0ec785a868d4",
   "metadata": {},
   "source": [
    "## 2.3 SHAPE OF THE DATASET"
   ]
  },
  {
   "cell_type": "code",
   "execution_count": 22,
   "id": "4f5c7f0a-b8f8-4452-8b29-37d3aafe653a",
   "metadata": {},
   "outputs": [
    {
     "data": {
      "text/plain": [
       "(1310873, 31)"
      ]
     },
     "execution_count": 22,
     "metadata": {},
     "output_type": "execute_result"
    }
   ],
   "source": [
    "insp.shape"
   ]
  },
  {
   "cell_type": "markdown",
   "id": "bc174840-2996-4b5f-b36f-8ae8e82e9849",
   "metadata": {},
   "source": [
    "- This is a huge dataset having `1.3 million` rows or entries and `31` columns."
   ]
  },
  {
   "cell_type": "markdown",
   "id": "a777816b-8e08-49ec-aba1-5b2162859e00",
   "metadata": {},
   "source": [
    "## 3. DETAILED ANALYSIS"
   ]
  },
  {
   "cell_type": "markdown",
   "id": "456d3311-8a22-49d1-8be5-493791e19535",
   "metadata": {},
   "source": [
    "#### facility (Restaurant name)"
   ]
  },
  {
   "cell_type": "code",
   "execution_count": 26,
   "id": "b794eae8-ea51-428f-b969-1a1cbdf5fe90",
   "metadata": {},
   "outputs": [
    {
     "data": {
      "text/plain": [
       "array(['WENDYS OF EG', 'STEUBEN SR DINNER CLUB - BATH',\n",
       "       'MOUNT KISCO COUNTRY CLUB - POOL SNAC', ..., 'COMMISSARY-LA SALVI',\n",
       "       'SHALOM UMJCA', 'STARBUCKS (NYS THRUWAY)'], dtype=object)"
      ]
     },
     "execution_count": 26,
     "metadata": {},
     "output_type": "execute_result"
    }
   ],
   "source": [
    "insp.facility.unique()"
   ]
  },
  {
   "cell_type": "code",
   "execution_count": 27,
   "id": "17b2c86b-b10b-443a-8ff0-e79e07476e2d",
   "metadata": {},
   "outputs": [
    {
     "data": {
      "text/plain": [
       "31971"
      ]
     },
     "execution_count": 27,
     "metadata": {},
     "output_type": "execute_result"
    }
   ],
   "source": [
    "insp.facility.nunique()"
   ]
  },
  {
   "cell_type": "code",
   "execution_count": 28,
   "id": "79c7bc9d-2cc2-4be0-a597-58a5f40e674c",
   "metadata": {},
   "outputs": [
    {
     "data": {
      "text/plain": [
       "facility\n",
       "DUNKIN DONUTS                  5849\n",
       "Dunkin Donuts                  2285\n",
       "SUBWAY                         1993\n",
       "CHINA GARDEN                   1252\n",
       "DUNKIN' DONUTS                 1109\n",
       "                               ... \n",
       "MANDY BEAN                        1\n",
       "SCOOP & COFFEE                    1\n",
       "AURORA BREWING CO                 1\n",
       "WEST PATENT E.S. / WHITSONS       1\n",
       "STARBUCKS (NYS THRUWAY)           1\n",
       "Name: count, Length: 31971, dtype: int64"
      ]
     },
     "execution_count": 28,
     "metadata": {},
     "output_type": "execute_result"
    }
   ],
   "source": [
    "insp.facility.value_counts()"
   ]
  },
  {
   "cell_type": "markdown",
   "id": "20dd24f5-4964-4cf4-a019-2c8e87389b2e",
   "metadata": {},
   "source": [
    "#### Address"
   ]
  },
  {
   "cell_type": "code",
   "execution_count": 30,
   "id": "5c4c1920-7d66-4c83-b949-9eb1597cde8e",
   "metadata": {},
   "outputs": [
    {
     "data": {
      "text/plain": [
       "address\n",
       "3349 MONROE AVENUE,  ROCHESTER              1244\n",
       "1 CROSSGATES MALL ROAD,  ALBANY             1036\n",
       "267 UNION AVENUE,  SARATOGA SPRINGS         1036\n",
       "9993 Alleghany ROAD,  Darien Center          989\n",
       "356 Villa Roma ROAD,  Callicoon              741\n",
       "                                            ... \n",
       "159 DRYDEN ROAD,  ITHACA                       1\n",
       "12 Reed STREET,  Coxsackie                     1\n",
       "1026 WEST BEECH STREET,  LONG BEACH            1\n",
       "195 WOODCLEFT AVENUE,  FREEPORT                1\n",
       "NYS THRUWAY (M/M 153 EAST),  SCHENECTADY       1\n",
       "Name: count, Length: 31989, dtype: int64"
      ]
     },
     "execution_count": 30,
     "metadata": {},
     "output_type": "execute_result"
    }
   ],
   "source": [
    "insp.address.value_counts()"
   ]
  },
  {
   "cell_type": "markdown",
   "id": "3f296de7-fb54-4c12-b326-0a5784f954c7",
   "metadata": {},
   "source": [
    "#### Violation food item"
   ]
  },
  {
   "cell_type": "code",
   "execution_count": 32,
   "id": "71e65100-dc99-457a-9237-0826efc57ce2",
   "metadata": {},
   "outputs": [
    {
     "data": {
      "text/plain": [
       "violation_item\n",
       "15A    110164\n",
       "8A      98253\n",
       "10B     78069\n",
       "11D     77756\n",
       "15B     68602\n",
       "        ...  \n",
       "12          1\n",
       "35          1\n",
       "4           1\n",
       "6           1\n",
       "46          1\n",
       "Name: count, Length: 98, dtype: int64"
      ]
     },
     "execution_count": 32,
     "metadata": {},
     "output_type": "execute_result"
    }
   ],
   "source": [
    "insp.violation_item.value_counts()"
   ]
  },
  {
   "cell_type": "markdown",
   "id": "96ae4045-584b-48a7-b706-8043e85d16b8",
   "metadata": {},
   "source": [
    "#### Inspection date"
   ]
  },
  {
   "cell_type": "code",
   "execution_count": 34,
   "id": "73d3911c-cecc-4f92-b941-0eac99d07f67",
   "metadata": {},
   "outputs": [
    {
     "data": {
      "text/plain": [
       "date_of_inspection\n",
       "11/15/2023    926\n",
       "11/30/2023    846\n",
       "1/31/2024     831\n",
       "3/23/2023     831\n",
       "2/1/2024      831\n",
       "             ... \n",
       "10/28/2023      1\n",
       "4/7/1997        1\n",
       "9/20/2020       1\n",
       "12/22/1995      1\n",
       "7/6/1995        1\n",
       "Name: count, Length: 9463, dtype: int64"
      ]
     },
     "execution_count": 34,
     "metadata": {},
     "output_type": "execute_result"
    }
   ],
   "source": [
    "insp.date_of_inspection.value_counts()"
   ]
  },
  {
   "cell_type": "code",
   "execution_count": 35,
   "id": "0ba00f8c-8054-4e48-a247-d3c80f0e8b4c",
   "metadata": {},
   "outputs": [
    {
     "ename": "OutOfBoundsDatetime",
     "evalue": "Out of bounds nanosecond timestamp: 06/20/0200, at position 2565",
     "output_type": "error",
     "traceback": [
      "\u001b[1;31m---------------------------------------------------------------------------\u001b[0m",
      "\u001b[1;31mOverflowError\u001b[0m                             Traceback (most recent call last)",
      "File \u001b[1;32mconversion.pyx:326\u001b[0m, in \u001b[0;36mpandas._libs.tslibs.conversion._TSObject.ensure_reso\u001b[1;34m()\u001b[0m\n",
      "File \u001b[1;32mnp_datetime.pyx:683\u001b[0m, in \u001b[0;36mpandas._libs.tslibs.np_datetime.convert_reso\u001b[1;34m()\u001b[0m\n",
      "\u001b[1;31mOverflowError\u001b[0m: result would overflow",
      "\nThe above exception was the direct cause of the following exception:\n",
      "\u001b[1;31mOutOfBoundsDatetime\u001b[0m                       Traceback (most recent call last)",
      "Cell \u001b[1;32mIn[35], line 1\u001b[0m\n\u001b[1;32m----> 1\u001b[0m pd\u001b[38;5;241m.\u001b[39mto_datetime(insp\u001b[38;5;241m.\u001b[39mdate_of_inspection,dayfirst \u001b[38;5;241m=\u001b[39m \u001b[38;5;28;01mTrue\u001b[39;00m,\u001b[38;5;28mformat\u001b[39m\u001b[38;5;241m=\u001b[39m\u001b[38;5;124m'\u001b[39m\u001b[38;5;124mmixed\u001b[39m\u001b[38;5;124m'\u001b[39m)\n",
      "File \u001b[1;32m~\\anaconda3\\envs\\NYFDPRED\\Lib\\site-packages\\pandas\\core\\tools\\datetimes.py:1067\u001b[0m, in \u001b[0;36mto_datetime\u001b[1;34m(arg, errors, dayfirst, yearfirst, utc, format, exact, unit, infer_datetime_format, origin, cache)\u001b[0m\n\u001b[0;32m   1065\u001b[0m         result \u001b[38;5;241m=\u001b[39m arg\u001b[38;5;241m.\u001b[39mmap(cache_array)\n\u001b[0;32m   1066\u001b[0m     \u001b[38;5;28;01melse\u001b[39;00m:\n\u001b[1;32m-> 1067\u001b[0m         values \u001b[38;5;241m=\u001b[39m convert_listlike(arg\u001b[38;5;241m.\u001b[39m_values, \u001b[38;5;28mformat\u001b[39m)\n\u001b[0;32m   1068\u001b[0m         result \u001b[38;5;241m=\u001b[39m arg\u001b[38;5;241m.\u001b[39m_constructor(values, index\u001b[38;5;241m=\u001b[39marg\u001b[38;5;241m.\u001b[39mindex, name\u001b[38;5;241m=\u001b[39marg\u001b[38;5;241m.\u001b[39mname)\n\u001b[0;32m   1069\u001b[0m \u001b[38;5;28;01melif\u001b[39;00m \u001b[38;5;28misinstance\u001b[39m(arg, (ABCDataFrame, abc\u001b[38;5;241m.\u001b[39mMutableMapping)):\n",
      "File \u001b[1;32m~\\anaconda3\\envs\\NYFDPRED\\Lib\\site-packages\\pandas\\core\\tools\\datetimes.py:435\u001b[0m, in \u001b[0;36m_convert_listlike_datetimes\u001b[1;34m(arg, format, name, utc, unit, errors, dayfirst, yearfirst, exact)\u001b[0m\n\u001b[0;32m    432\u001b[0m \u001b[38;5;28;01mif\u001b[39;00m \u001b[38;5;28mformat\u001b[39m \u001b[38;5;129;01mis\u001b[39;00m \u001b[38;5;129;01mnot\u001b[39;00m \u001b[38;5;28;01mNone\u001b[39;00m \u001b[38;5;129;01mand\u001b[39;00m \u001b[38;5;28mformat\u001b[39m \u001b[38;5;241m!=\u001b[39m \u001b[38;5;124m\"\u001b[39m\u001b[38;5;124mmixed\u001b[39m\u001b[38;5;124m\"\u001b[39m:\n\u001b[0;32m    433\u001b[0m     \u001b[38;5;28;01mreturn\u001b[39;00m _array_strptime_with_fallback(arg, name, utc, \u001b[38;5;28mformat\u001b[39m, exact, errors)\n\u001b[1;32m--> 435\u001b[0m result, tz_parsed \u001b[38;5;241m=\u001b[39m objects_to_datetime64(\n\u001b[0;32m    436\u001b[0m     arg,\n\u001b[0;32m    437\u001b[0m     dayfirst\u001b[38;5;241m=\u001b[39mdayfirst,\n\u001b[0;32m    438\u001b[0m     yearfirst\u001b[38;5;241m=\u001b[39myearfirst,\n\u001b[0;32m    439\u001b[0m     utc\u001b[38;5;241m=\u001b[39mutc,\n\u001b[0;32m    440\u001b[0m     errors\u001b[38;5;241m=\u001b[39merrors,\n\u001b[0;32m    441\u001b[0m     allow_object\u001b[38;5;241m=\u001b[39m\u001b[38;5;28;01mTrue\u001b[39;00m,\n\u001b[0;32m    442\u001b[0m )\n\u001b[0;32m    444\u001b[0m \u001b[38;5;28;01mif\u001b[39;00m tz_parsed \u001b[38;5;129;01mis\u001b[39;00m \u001b[38;5;129;01mnot\u001b[39;00m \u001b[38;5;28;01mNone\u001b[39;00m:\n\u001b[0;32m    445\u001b[0m     \u001b[38;5;66;03m# We can take a shortcut since the datetime64 numpy array\u001b[39;00m\n\u001b[0;32m    446\u001b[0m     \u001b[38;5;66;03m# is in UTC\u001b[39;00m\n\u001b[0;32m    447\u001b[0m     out_unit \u001b[38;5;241m=\u001b[39m np\u001b[38;5;241m.\u001b[39mdatetime_data(result\u001b[38;5;241m.\u001b[39mdtype)[\u001b[38;5;241m0\u001b[39m]\n",
      "File \u001b[1;32m~\\anaconda3\\envs\\NYFDPRED\\Lib\\site-packages\\pandas\\core\\arrays\\datetimes.py:2398\u001b[0m, in \u001b[0;36mobjects_to_datetime64\u001b[1;34m(data, dayfirst, yearfirst, utc, errors, allow_object, out_unit)\u001b[0m\n\u001b[0;32m   2395\u001b[0m \u001b[38;5;66;03m# if str-dtype, convert\u001b[39;00m\n\u001b[0;32m   2396\u001b[0m data \u001b[38;5;241m=\u001b[39m np\u001b[38;5;241m.\u001b[39masarray(data, dtype\u001b[38;5;241m=\u001b[39mnp\u001b[38;5;241m.\u001b[39mobject_)\n\u001b[1;32m-> 2398\u001b[0m result, tz_parsed \u001b[38;5;241m=\u001b[39m tslib\u001b[38;5;241m.\u001b[39marray_to_datetime(\n\u001b[0;32m   2399\u001b[0m     data,\n\u001b[0;32m   2400\u001b[0m     errors\u001b[38;5;241m=\u001b[39merrors,\n\u001b[0;32m   2401\u001b[0m     utc\u001b[38;5;241m=\u001b[39mutc,\n\u001b[0;32m   2402\u001b[0m     dayfirst\u001b[38;5;241m=\u001b[39mdayfirst,\n\u001b[0;32m   2403\u001b[0m     yearfirst\u001b[38;5;241m=\u001b[39myearfirst,\n\u001b[0;32m   2404\u001b[0m     creso\u001b[38;5;241m=\u001b[39mabbrev_to_npy_unit(out_unit),\n\u001b[0;32m   2405\u001b[0m )\n\u001b[0;32m   2407\u001b[0m \u001b[38;5;28;01mif\u001b[39;00m tz_parsed \u001b[38;5;129;01mis\u001b[39;00m \u001b[38;5;129;01mnot\u001b[39;00m \u001b[38;5;28;01mNone\u001b[39;00m:\n\u001b[0;32m   2408\u001b[0m     \u001b[38;5;66;03m# We can take a shortcut since the datetime64 numpy array\u001b[39;00m\n\u001b[0;32m   2409\u001b[0m     \u001b[38;5;66;03m#  is in UTC\u001b[39;00m\n\u001b[0;32m   2410\u001b[0m     \u001b[38;5;28;01mreturn\u001b[39;00m result, tz_parsed\n",
      "File \u001b[1;32mtslib.pyx:414\u001b[0m, in \u001b[0;36mpandas._libs.tslib.array_to_datetime\u001b[1;34m()\u001b[0m\n",
      "File \u001b[1;32mtslib.pyx:596\u001b[0m, in \u001b[0;36mpandas._libs.tslib.array_to_datetime\u001b[1;34m()\u001b[0m\n",
      "File \u001b[1;32mtslib.pyx:571\u001b[0m, in \u001b[0;36mpandas._libs.tslib.array_to_datetime\u001b[1;34m()\u001b[0m\n",
      "File \u001b[1;32mconversion.pyx:332\u001b[0m, in \u001b[0;36mpandas._libs.tslibs.conversion._TSObject.ensure_reso\u001b[1;34m()\u001b[0m\n",
      "\u001b[1;31mOutOfBoundsDatetime\u001b[0m: Out of bounds nanosecond timestamp: 06/20/0200, at position 2565"
     ]
    }
   ],
   "source": [
    "pd.to_datetime(insp.date_of_inspection,dayfirst = True,format='mixed')"
   ]
  },
  {
   "cell_type": "code",
   "execution_count": 49,
   "id": "e4726ff9-3db9-4807-bd31-b9272800f72d",
   "metadata": {},
   "outputs": [
    {
     "data": {
      "text/plain": [
       "'06/20/0200'"
      ]
     },
     "execution_count": 49,
     "metadata": {},
     "output_type": "execute_result"
    }
   ],
   "source": [
    "(\n",
    "    insp.\n",
    "    date_of_inspection.\n",
    "    loc[2565]\n",
    ")"
   ]
  },
  {
   "cell_type": "code",
   "execution_count": 51,
   "id": "420a0efe-3391-413e-bce6-ff2e573b716f",
   "metadata": {},
   "outputs": [],
   "source": [
    "# Fixing in correct data(year) at position 2565\n",
    "insp.loc[insp['date_of_inspection'] == '06/20/0200', 'date_of_inspection'] = '06/20/2000'"
   ]
  },
  {
   "cell_type": "code",
   "execution_count": 53,
   "id": "b6122804-4eb0-4dbb-978d-25ce238b18cd",
   "metadata": {},
   "outputs": [
    {
     "name": "stdout",
     "output_type": "stream",
     "text": [
      "30               None\n",
      "2896       04/07/0005\n",
      "5640       07/14/0004\n",
      "46138            None\n",
      "119759           None\n",
      "              ...    \n",
      "1287453    12/08/0002\n",
      "1291687    02/20/0300\n",
      "1298900    12/02/0003\n",
      "1307693    09/08/0300\n",
      "1310690    04/21/0300\n",
      "Name: date_of_inspection, Length: 87, dtype: object\n"
     ]
    }
   ],
   "source": [
    "invalid_dates = insp[pd.to_datetime(insp['date_of_inspection'], errors='coerce').isnull()]['date_of_inspection']\n",
    "\n",
    "print(invalid_dates)"
   ]
  },
  {
   "cell_type": "code",
   "execution_count": 55,
   "id": "d2424c7e-be5e-4075-991e-b1a12c00ec6b",
   "metadata": {},
   "outputs": [
    {
     "data": {
      "text/plain": [
       "date_of_inspection\n",
       "04/30/0200    3\n",
       "01/20/0300    2\n",
       "11/03/0005    2\n",
       "04/07/0005    1\n",
       "07/30/0005    1\n",
       "01/23/0002    1\n",
       "04/17/0003    1\n",
       "04/25/0600    1\n",
       "01/05/1200    1\n",
       "08/04/0022    1\n",
       "07/04/0022    1\n",
       "10/26/1001    1\n",
       "02/24/0060    1\n",
       "03/14/0200    1\n",
       "02/04/0020    1\n",
       "05/25/0200    1\n",
       "01/14/0031    1\n",
       "05/16/1200    1\n",
       "12/08/0002    1\n",
       "02/20/0300    1\n",
       "12/02/0003    1\n",
       "09/08/0300    1\n",
       "01/14/0040    1\n",
       "01/10/0184    1\n",
       "11/18/0300    1\n",
       "07/14/0004    1\n",
       "09/19/0003    1\n",
       "11/18/0505    1\n",
       "03/24/0300    1\n",
       "11/13/0500    1\n",
       "03/23/0006    1\n",
       "04/04/0022    1\n",
       "02/21/0200    1\n",
       "01/17/0605    1\n",
       "11/17/0300    1\n",
       "02/04/1003    1\n",
       "03/19/0403    1\n",
       "12/04/1002    1\n",
       "10/14/0021    1\n",
       "06/24/0005    1\n",
       "11/23/1005    1\n",
       "01/05/1002    1\n",
       "01/29/0300    1\n",
       "04/21/0300    1\n",
       "Name: count, dtype: int64"
      ]
     },
     "execution_count": 55,
     "metadata": {},
     "output_type": "execute_result"
    }
   ],
   "source": [
    "invalid_dates.value_counts()"
   ]
  },
  {
   "cell_type": "markdown",
   "id": "9b1b3792-0021-4b07-8c73-8b19550096bf",
   "metadata": {},
   "source": [
    "#### Critical Violation "
   ]
  },
  {
   "cell_type": "code",
   "execution_count": 57,
   "id": "030eeb87-bd4d-45e3-8ea6-577dc5319e78",
   "metadata": {},
   "outputs": [
    {
     "data": {
      "text/plain": [
       "critical_violation\n",
       "Not Critical Violation    1158252\n",
       "Critical Violation         152582\n",
       "Name: count, dtype: int64"
      ]
     },
     "execution_count": 57,
     "metadata": {},
     "output_type": "execute_result"
    }
   ],
   "source": [
    "insp.critical_violation.value_counts()"
   ]
  },
  {
   "cell_type": "markdown",
   "id": "0be622a4-4c35-4044-b31f-3c04424f181a",
   "metadata": {},
   "source": [
    "#### total_critical_violations, total_crit_not_corrected, total_noncritical_violations"
   ]
  },
  {
   "cell_type": "code",
   "execution_count": 59,
   "id": "1da01631-d4cb-463d-8524-f4ea08ae2bcb",
   "metadata": {},
   "outputs": [
    {
     "data": {
      "text/html": [
       "<div>\n",
       "<style scoped>\n",
       "    .dataframe tbody tr th:only-of-type {\n",
       "        vertical-align: middle;\n",
       "    }\n",
       "\n",
       "    .dataframe tbody tr th {\n",
       "        vertical-align: top;\n",
       "    }\n",
       "\n",
       "    .dataframe thead th {\n",
       "        text-align: right;\n",
       "    }\n",
       "</style>\n",
       "<table border=\"1\" class=\"dataframe\">\n",
       "  <thead>\n",
       "    <tr style=\"text-align: right;\">\n",
       "      <th></th>\n",
       "      <th>total_critical_violations</th>\n",
       "      <th>total_crit_not_corrected</th>\n",
       "      <th>total_noncritical_violations</th>\n",
       "    </tr>\n",
       "  </thead>\n",
       "  <tbody>\n",
       "    <tr>\n",
       "      <th>count</th>\n",
       "      <td>1.230072e+06</td>\n",
       "      <td>1.229454e+06</td>\n",
       "      <td>1.230201e+06</td>\n",
       "    </tr>\n",
       "    <tr>\n",
       "      <th>mean</th>\n",
       "      <td>8.127939e-01</td>\n",
       "      <td>2.876073e-02</td>\n",
       "      <td>5.250862e+00</td>\n",
       "    </tr>\n",
       "    <tr>\n",
       "      <th>std</th>\n",
       "      <td>1.436214e+00</td>\n",
       "      <td>2.947295e-01</td>\n",
       "      <td>5.160587e+00</td>\n",
       "    </tr>\n",
       "    <tr>\n",
       "      <th>min</th>\n",
       "      <td>0.000000e+00</td>\n",
       "      <td>0.000000e+00</td>\n",
       "      <td>0.000000e+00</td>\n",
       "    </tr>\n",
       "    <tr>\n",
       "      <th>25%</th>\n",
       "      <td>0.000000e+00</td>\n",
       "      <td>0.000000e+00</td>\n",
       "      <td>2.000000e+00</td>\n",
       "    </tr>\n",
       "    <tr>\n",
       "      <th>50%</th>\n",
       "      <td>0.000000e+00</td>\n",
       "      <td>0.000000e+00</td>\n",
       "      <td>4.000000e+00</td>\n",
       "    </tr>\n",
       "    <tr>\n",
       "      <th>75%</th>\n",
       "      <td>1.000000e+00</td>\n",
       "      <td>0.000000e+00</td>\n",
       "      <td>7.000000e+00</td>\n",
       "    </tr>\n",
       "    <tr>\n",
       "      <th>max</th>\n",
       "      <td>8.000000e+01</td>\n",
       "      <td>8.800000e+01</td>\n",
       "      <td>9.800000e+01</td>\n",
       "    </tr>\n",
       "  </tbody>\n",
       "</table>\n",
       "</div>"
      ],
      "text/plain": [
       "       total_critical_violations  total_crit_not_corrected  \\\n",
       "count               1.230072e+06              1.229454e+06   \n",
       "mean                8.127939e-01              2.876073e-02   \n",
       "std                 1.436214e+00              2.947295e-01   \n",
       "min                 0.000000e+00              0.000000e+00   \n",
       "25%                 0.000000e+00              0.000000e+00   \n",
       "50%                 0.000000e+00              0.000000e+00   \n",
       "75%                 1.000000e+00              0.000000e+00   \n",
       "max                 8.000000e+01              8.800000e+01   \n",
       "\n",
       "       total_noncritical_violations  \n",
       "count                  1.230201e+06  \n",
       "mean                   5.250862e+00  \n",
       "std                    5.160587e+00  \n",
       "min                    0.000000e+00  \n",
       "25%                    2.000000e+00  \n",
       "50%                    4.000000e+00  \n",
       "75%                    7.000000e+00  \n",
       "max                    9.800000e+01  "
      ]
     },
     "execution_count": 59,
     "metadata": {},
     "output_type": "execute_result"
    }
   ],
   "source": [
    "insp[['total_critical_violations', 'total_crit_not_corrected', 'total_noncritical_violations']].describe()"
   ]
  },
  {
   "cell_type": "markdown",
   "id": "48008328-debe-4edd-bd2f-f8ef8949f0a0",
   "metadata": {},
   "source": [
    "- Avearge  `violations` for restaurants is around `6.06`\n",
    "- In those ,`Critical - 0.81`  , `Non-Critical-5.25`\n",
    "- Average `critical cases` that are not corrected - `00.287` which is pretty low"
   ]
  },
  {
   "cell_type": "markdown",
   "id": "9da403f7-ba27-41d3-b7fb-bd9d029844d7",
   "metadata": {},
   "source": [
    "#### local_health_department "
   ]
  },
  {
   "cell_type": "code",
   "execution_count": 61,
   "id": "9ccca209-5be5-4064-8b35-cf8b3dd653f7",
   "metadata": {},
   "outputs": [
    {
     "data": {
      "text/plain": [
       "local_health_department\n",
       "Westchester County                                              175883\n",
       "Nassau  County                                                  160850\n",
       "Monroe County                                                   117206\n",
       "Onondaga County                                                  79448\n",
       "Glens Falls District Office                                      53669\n",
       "Dutchess County                                                  52625\n",
       "Rockland County                                                  47524\n",
       "Orange County                                                    46475\n",
       "Broome County                                                    44638\n",
       "Niagara County                                                   38557\n",
       "Albany County                                                    38247\n",
       "Saranac Lake District Office                                     35425\n",
       "Oneonta District Office                                          32182\n",
       "Ulster County                                                    28396\n",
       "Watertown District Office                                        27205\n",
       "Middletown District Office                                       25398\n",
       "Canton District Office                                           23734\n",
       "Oneida County                                                    22999\n",
       "Geneva District Office                                           21342\n",
       "Herkimer District Office                                         18371\n",
       "Chautauqua County                                                17423\n",
       "Putnam County                                                    15866\n",
       "Hornell District Office                                          13973\n",
       "Cortland County                                                  13847\n",
       "Schenectady County                                               13786\n",
       "Oswego County                                                    13630\n",
       "Madison County                                                   12373\n",
       "Clinton County                                                   12185\n",
       "Cayuga County                                                    11314\n",
       "Genesee County                                                   10515\n",
       "Tompkins County                                                   9866\n",
       "Rensselaer County                                                 8952\n",
       "Cattaraugus County                                                8785\n",
       "Chemung County                                                    8730\n",
       "Livingston County                                                 6296\n",
       "Tioga County                                                      6221\n",
       "Allegany County                                                   5843\n",
       "Columbia County                                                   5768\n",
       "Chenango County                                                   5734\n",
       "Orleans County                                                    5485\n",
       "Seneca  County                                                    5074\n",
       "Schoharie County                                                  4539\n",
       "Wyoming County                                                    4308\n",
       "Saratoga County                                                    142\n",
       "Bureau of Community Environmental Health and Food Protection         5\n",
       "Name: count, dtype: int64"
      ]
     },
     "execution_count": 61,
     "metadata": {},
     "output_type": "execute_result"
    }
   ],
   "source": [
    "insp.local_health_department.value_counts()"
   ]
  },
  {
   "cell_type": "markdown",
   "id": "0e7799e6-868a-4c25-82ce-0d601787bd76",
   "metadata": {},
   "source": [
    "#### Facility muncipality"
   ]
  },
  {
   "cell_type": "code",
   "execution_count": 63,
   "id": "a757af5e-ac68-4dac-977a-0e3c2bad0a96",
   "metadata": {},
   "outputs": [
    {
     "data": {
      "text/plain": [
       "facility_municipality\n",
       "HEMPSTEAD          76854\n",
       "ROCHESTER          42360\n",
       "N. HEMPSTEAD       35105\n",
       "OYSTER BAY         33497\n",
       "SYRACUSE           28710\n",
       "                   ...  \n",
       "CATON                  1\n",
       "AMBOY                  1\n",
       "WETHERSFIELD           1\n",
       "NASSAU COUNTY          1\n",
       "SCHUYLER COUNTY        1\n",
       "Name: count, Length: 914, dtype: int64"
      ]
     },
     "execution_count": 63,
     "metadata": {},
     "output_type": "execute_result"
    }
   ],
   "source": [
    "insp.facility_municipality.value_counts()\n"
   ]
  },
  {
   "cell_type": "markdown",
   "id": "b198e7aa-8de6-4916-9383-e41eb20cc640",
   "metadata": {},
   "source": [
    "#### Permit Expiry date"
   ]
  },
  {
   "cell_type": "code",
   "execution_count": 65,
   "id": "f4c7db74-a8ba-4541-a5dd-d3d901f0bf3a",
   "metadata": {},
   "outputs": [
    {
     "data": {
      "text/plain": [
       "permit_expiration_date\n",
       "12/31/2024    131697\n",
       "3/31/2025     127146\n",
       "1/31/2025     126668\n",
       "9/30/2024     110679\n",
       "12/31/2019     98571\n",
       "               ...  \n",
       "4/30/2020          1\n",
       "10/10/2024         1\n",
       "8/13/2021          1\n",
       "10/30/2022         1\n",
       "12/27/2024         1\n",
       "Name: count, Length: 404, dtype: int64"
      ]
     },
     "execution_count": 65,
     "metadata": {},
     "output_type": "execute_result"
    }
   ],
   "source": [
    "insp.permit_expiration_date.value_counts()"
   ]
  },
  {
   "cell_type": "code",
   "execution_count": 67,
   "id": "825af916-02f5-43ce-9013-624d357d5d31",
   "metadata": {},
   "outputs": [
    {
     "ename": "OutOfBoundsDatetime",
     "evalue": "Out of bounds nanosecond timestamp: 11/30/3018, at position 271",
     "output_type": "error",
     "traceback": [
      "\u001b[1;31m---------------------------------------------------------------------------\u001b[0m",
      "\u001b[1;31mOverflowError\u001b[0m                             Traceback (most recent call last)",
      "File \u001b[1;32mconversion.pyx:326\u001b[0m, in \u001b[0;36mpandas._libs.tslibs.conversion._TSObject.ensure_reso\u001b[1;34m()\u001b[0m\n",
      "File \u001b[1;32mnp_datetime.pyx:683\u001b[0m, in \u001b[0;36mpandas._libs.tslibs.np_datetime.convert_reso\u001b[1;34m()\u001b[0m\n",
      "\u001b[1;31mOverflowError\u001b[0m: result would overflow",
      "\nThe above exception was the direct cause of the following exception:\n",
      "\u001b[1;31mOutOfBoundsDatetime\u001b[0m                       Traceback (most recent call last)",
      "Cell \u001b[1;32mIn[67], line 1\u001b[0m\n\u001b[1;32m----> 1\u001b[0m pd\u001b[38;5;241m.\u001b[39mto_datetime(insp\u001b[38;5;241m.\u001b[39mpermit_expiration_date,dayfirst\u001b[38;5;241m=\u001b[39m\u001b[38;5;28;01mTrue\u001b[39;00m,\u001b[38;5;28mformat\u001b[39m\u001b[38;5;241m=\u001b[39m\u001b[38;5;124m'\u001b[39m\u001b[38;5;124mmixed\u001b[39m\u001b[38;5;124m'\u001b[39m)\n",
      "File \u001b[1;32m~\\anaconda3\\envs\\NYFDPRED\\Lib\\site-packages\\pandas\\core\\tools\\datetimes.py:1063\u001b[0m, in \u001b[0;36mto_datetime\u001b[1;34m(arg, errors, dayfirst, yearfirst, utc, format, exact, unit, infer_datetime_format, origin, cache)\u001b[0m\n\u001b[0;32m   1061\u001b[0m             result \u001b[38;5;241m=\u001b[39m arg\u001b[38;5;241m.\u001b[39mtz_localize(\u001b[38;5;124m\"\u001b[39m\u001b[38;5;124mutc\u001b[39m\u001b[38;5;124m\"\u001b[39m)\n\u001b[0;32m   1062\u001b[0m \u001b[38;5;28;01melif\u001b[39;00m \u001b[38;5;28misinstance\u001b[39m(arg, ABCSeries):\n\u001b[1;32m-> 1063\u001b[0m     cache_array \u001b[38;5;241m=\u001b[39m _maybe_cache(arg, \u001b[38;5;28mformat\u001b[39m, cache, convert_listlike)\n\u001b[0;32m   1064\u001b[0m     \u001b[38;5;28;01mif\u001b[39;00m \u001b[38;5;129;01mnot\u001b[39;00m cache_array\u001b[38;5;241m.\u001b[39mempty:\n\u001b[0;32m   1065\u001b[0m         result \u001b[38;5;241m=\u001b[39m arg\u001b[38;5;241m.\u001b[39mmap(cache_array)\n",
      "File \u001b[1;32m~\\anaconda3\\envs\\NYFDPRED\\Lib\\site-packages\\pandas\\core\\tools\\datetimes.py:247\u001b[0m, in \u001b[0;36m_maybe_cache\u001b[1;34m(arg, format, cache, convert_listlike)\u001b[0m\n\u001b[0;32m    245\u001b[0m unique_dates \u001b[38;5;241m=\u001b[39m unique(arg)\n\u001b[0;32m    246\u001b[0m \u001b[38;5;28;01mif\u001b[39;00m \u001b[38;5;28mlen\u001b[39m(unique_dates) \u001b[38;5;241m<\u001b[39m \u001b[38;5;28mlen\u001b[39m(arg):\n\u001b[1;32m--> 247\u001b[0m     cache_dates \u001b[38;5;241m=\u001b[39m convert_listlike(unique_dates, \u001b[38;5;28mformat\u001b[39m)\n\u001b[0;32m    248\u001b[0m     \u001b[38;5;66;03m# GH#45319\u001b[39;00m\n\u001b[0;32m    249\u001b[0m     \u001b[38;5;28;01mtry\u001b[39;00m:\n",
      "File \u001b[1;32m~\\anaconda3\\envs\\NYFDPRED\\Lib\\site-packages\\pandas\\core\\tools\\datetimes.py:435\u001b[0m, in \u001b[0;36m_convert_listlike_datetimes\u001b[1;34m(arg, format, name, utc, unit, errors, dayfirst, yearfirst, exact)\u001b[0m\n\u001b[0;32m    432\u001b[0m \u001b[38;5;28;01mif\u001b[39;00m \u001b[38;5;28mformat\u001b[39m \u001b[38;5;129;01mis\u001b[39;00m \u001b[38;5;129;01mnot\u001b[39;00m \u001b[38;5;28;01mNone\u001b[39;00m \u001b[38;5;129;01mand\u001b[39;00m \u001b[38;5;28mformat\u001b[39m \u001b[38;5;241m!=\u001b[39m \u001b[38;5;124m\"\u001b[39m\u001b[38;5;124mmixed\u001b[39m\u001b[38;5;124m\"\u001b[39m:\n\u001b[0;32m    433\u001b[0m     \u001b[38;5;28;01mreturn\u001b[39;00m _array_strptime_with_fallback(arg, name, utc, \u001b[38;5;28mformat\u001b[39m, exact, errors)\n\u001b[1;32m--> 435\u001b[0m result, tz_parsed \u001b[38;5;241m=\u001b[39m objects_to_datetime64(\n\u001b[0;32m    436\u001b[0m     arg,\n\u001b[0;32m    437\u001b[0m     dayfirst\u001b[38;5;241m=\u001b[39mdayfirst,\n\u001b[0;32m    438\u001b[0m     yearfirst\u001b[38;5;241m=\u001b[39myearfirst,\n\u001b[0;32m    439\u001b[0m     utc\u001b[38;5;241m=\u001b[39mutc,\n\u001b[0;32m    440\u001b[0m     errors\u001b[38;5;241m=\u001b[39merrors,\n\u001b[0;32m    441\u001b[0m     allow_object\u001b[38;5;241m=\u001b[39m\u001b[38;5;28;01mTrue\u001b[39;00m,\n\u001b[0;32m    442\u001b[0m )\n\u001b[0;32m    444\u001b[0m \u001b[38;5;28;01mif\u001b[39;00m tz_parsed \u001b[38;5;129;01mis\u001b[39;00m \u001b[38;5;129;01mnot\u001b[39;00m \u001b[38;5;28;01mNone\u001b[39;00m:\n\u001b[0;32m    445\u001b[0m     \u001b[38;5;66;03m# We can take a shortcut since the datetime64 numpy array\u001b[39;00m\n\u001b[0;32m    446\u001b[0m     \u001b[38;5;66;03m# is in UTC\u001b[39;00m\n\u001b[0;32m    447\u001b[0m     out_unit \u001b[38;5;241m=\u001b[39m np\u001b[38;5;241m.\u001b[39mdatetime_data(result\u001b[38;5;241m.\u001b[39mdtype)[\u001b[38;5;241m0\u001b[39m]\n",
      "File \u001b[1;32m~\\anaconda3\\envs\\NYFDPRED\\Lib\\site-packages\\pandas\\core\\arrays\\datetimes.py:2398\u001b[0m, in \u001b[0;36mobjects_to_datetime64\u001b[1;34m(data, dayfirst, yearfirst, utc, errors, allow_object, out_unit)\u001b[0m\n\u001b[0;32m   2395\u001b[0m \u001b[38;5;66;03m# if str-dtype, convert\u001b[39;00m\n\u001b[0;32m   2396\u001b[0m data \u001b[38;5;241m=\u001b[39m np\u001b[38;5;241m.\u001b[39masarray(data, dtype\u001b[38;5;241m=\u001b[39mnp\u001b[38;5;241m.\u001b[39mobject_)\n\u001b[1;32m-> 2398\u001b[0m result, tz_parsed \u001b[38;5;241m=\u001b[39m tslib\u001b[38;5;241m.\u001b[39marray_to_datetime(\n\u001b[0;32m   2399\u001b[0m     data,\n\u001b[0;32m   2400\u001b[0m     errors\u001b[38;5;241m=\u001b[39merrors,\n\u001b[0;32m   2401\u001b[0m     utc\u001b[38;5;241m=\u001b[39mutc,\n\u001b[0;32m   2402\u001b[0m     dayfirst\u001b[38;5;241m=\u001b[39mdayfirst,\n\u001b[0;32m   2403\u001b[0m     yearfirst\u001b[38;5;241m=\u001b[39myearfirst,\n\u001b[0;32m   2404\u001b[0m     creso\u001b[38;5;241m=\u001b[39mabbrev_to_npy_unit(out_unit),\n\u001b[0;32m   2405\u001b[0m )\n\u001b[0;32m   2407\u001b[0m \u001b[38;5;28;01mif\u001b[39;00m tz_parsed \u001b[38;5;129;01mis\u001b[39;00m \u001b[38;5;129;01mnot\u001b[39;00m \u001b[38;5;28;01mNone\u001b[39;00m:\n\u001b[0;32m   2408\u001b[0m     \u001b[38;5;66;03m# We can take a shortcut since the datetime64 numpy array\u001b[39;00m\n\u001b[0;32m   2409\u001b[0m     \u001b[38;5;66;03m#  is in UTC\u001b[39;00m\n\u001b[0;32m   2410\u001b[0m     \u001b[38;5;28;01mreturn\u001b[39;00m result, tz_parsed\n",
      "File \u001b[1;32mtslib.pyx:414\u001b[0m, in \u001b[0;36mpandas._libs.tslib.array_to_datetime\u001b[1;34m()\u001b[0m\n",
      "File \u001b[1;32mtslib.pyx:596\u001b[0m, in \u001b[0;36mpandas._libs.tslib.array_to_datetime\u001b[1;34m()\u001b[0m\n",
      "File \u001b[1;32mtslib.pyx:571\u001b[0m, in \u001b[0;36mpandas._libs.tslib.array_to_datetime\u001b[1;34m()\u001b[0m\n",
      "File \u001b[1;32mconversion.pyx:332\u001b[0m, in \u001b[0;36mpandas._libs.tslibs.conversion._TSObject.ensure_reso\u001b[1;34m()\u001b[0m\n",
      "\u001b[1;31mOutOfBoundsDatetime\u001b[0m: Out of bounds nanosecond timestamp: 11/30/3018, at position 271"
     ]
    }
   ],
   "source": [
    "pd.to_datetime(insp.permit_expiration_date,dayfirst=True,format='mixed')"
   ]
  },
  {
   "cell_type": "code",
   "execution_count": 69,
   "id": "d2adc00d-eef4-4c75-8c83-1150d6c07652",
   "metadata": {},
   "outputs": [],
   "source": [
    "invalid_permit_dates = insp[pd.to_datetime(insp['permit_expiration_date'], errors='coerce').isnull()]['permit_expiration_date']\n"
   ]
  },
  {
   "cell_type": "code",
   "execution_count": 71,
   "id": "8817fac9-8b0d-48f8-8d84-ae47efc2d23a",
   "metadata": {},
   "outputs": [
    {
     "data": {
      "text/plain": [
       "permit_expiration_date\n",
       "3/31/3201     30\n",
       "11/30/3018    17\n",
       "9/30/3024      3\n",
       "12/30/2400     2\n",
       "Name: count, dtype: int64"
      ]
     },
     "execution_count": 71,
     "metadata": {},
     "output_type": "execute_result"
    }
   ],
   "source": [
    "invalid_permit_dates.value_counts()"
   ]
  },
  {
   "cell_type": "markdown",
   "id": "1a8a15bd-96ff-49af-866b-7a0f9807936a",
   "metadata": {},
   "source": [
    "#### food service type "
   ]
  },
  {
   "cell_type": "code",
   "execution_count": 73,
   "id": "f1c0a1b7-c24d-43cc-9810-5d35f4ffcac5",
   "metadata": {},
   "outputs": [
    {
     "data": {
      "text/plain": [
       "food_service_type\n",
       "Food Service Establishment    1131871\n",
       "Institutional Food Service     154703\n",
       "SED Summer Feeding Prog.        14210\n",
       "SOFA Food Service               10050\n",
       "Name: count, dtype: int64"
      ]
     },
     "execution_count": 73,
     "metadata": {},
     "output_type": "execute_result"
    }
   ],
   "source": [
    "insp.food_service_type.value_counts()"
   ]
  },
  {
   "cell_type": "markdown",
   "id": "11ad74e2-9f16-4336-a071-0bfc05933771",
   "metadata": {},
   "source": [
    "#### Inspection Type"
   ]
  },
  {
   "cell_type": "code",
   "execution_count": 75,
   "id": "6ce44ade-f028-463b-b888-98c640a14465",
   "metadata": {},
   "outputs": [
    {
     "data": {
      "text/plain": [
       "inspection_type\n",
       "Inspection       1188410\n",
       "Re-Inspection     122424\n",
       "Name: count, dtype: int64"
      ]
     },
     "execution_count": 75,
     "metadata": {},
     "output_type": "execute_result"
    }
   ],
   "source": [
    "insp.inspection_type.value_counts()"
   ]
  },
  {
   "cell_type": "markdown",
   "id": "f79dbf27-446d-4a6c-b587-8126db702b50",
   "metadata": {},
   "source": [
    "## 3.1 NULL VALUES"
   ]
  },
  {
   "cell_type": "code",
   "execution_count": 77,
   "id": "c54b4039-b12a-491a-8b74-65dc02be5b6e",
   "metadata": {},
   "outputs": [
    {
     "data": {
      "text/plain": [
       "facility                             39\n",
       "address                              41\n",
       "date_of_inspection                   39\n",
       "violation_item                   241221\n",
       "violation_description            241221\n",
       "critical_violation                   39\n",
       "total_critical_violations         80801\n",
       "total_crit_not_corrected          81419\n",
       "total_noncritical_violations      80672\n",
       "local_health_department              39\n",
       "county                               39\n",
       "facility_code                        39\n",
       "facility_address                     45\n",
       "facility_city                       172\n",
       "facility_postal_zipcode             172\n",
       "nysdoh_gazetteer                     39\n",
       "facility_municipality                39\n",
       "operation_name                       39\n",
       "permit_expiration_date            15672\n",
       "food_service_type                    39\n",
       "food_service_description             39\n",
       "permitted_dba                   1177058\n",
       "permitted_corp_name              305477\n",
       "perm_operator_last_name          334093\n",
       "perm_operator_first_name         335787\n",
       "nys_health_operation_id              39\n",
       "inspection_type                      39\n",
       "inspection_comments              687096\n",
       "fs_facility_state                    39\n",
       "latitude                         344431\n",
       "longitude                        344431\n",
       "dtype: int64"
      ]
     },
     "execution_count": 77,
     "metadata": {},
     "output_type": "execute_result"
    }
   ],
   "source": [
    "insp.isna().sum()"
   ]
  },
  {
   "cell_type": "markdown",
   "id": "8a1bb8c3-0c9d-4a0e-8701-377244630de9",
   "metadata": {},
   "source": [
    "## 4. CLEANING DATA"
   ]
  },
  {
   "cell_type": "markdown",
   "id": "d85e2f59-8feb-42a1-a128-6889a15ea247",
   "metadata": {},
   "source": [
    "- Imputing null values for columns `'total_critical_violations', 'total_crit_not_corrected',\n",
    "       'total_noncritical_violations'` using `MICE` Algorithm"
   ]
  },
  {
   "cell_type": "code",
   "execution_count": 79,
   "id": "1f53a8cf-7b19-43bb-aff5-4b136e042707",
   "metadata": {},
   "outputs": [],
   "source": [
    "from sklearn.experimental import enable_iterative_imputer\n",
    "from sklearn.impute import IterativeImputer"
   ]
  },
  {
   "cell_type": "code",
   "execution_count": 81,
   "id": "2493016f-e859-411e-85ba-0e2f945c3496",
   "metadata": {},
   "outputs": [],
   "source": [
    "cols =['total_critical_violations', 'total_crit_not_corrected',\n",
    "       'total_noncritical_violations']"
   ]
  },
  {
   "cell_type": "code",
   "execution_count": 83,
   "id": "d1b0ed29-841d-4373-9737-faaf6da7eb8d",
   "metadata": {},
   "outputs": [],
   "source": [
    "\n",
    "invalid_dates = [x for x in invalid_dates if x is not None]\n",
    "\n",
    "invalid_permit_dates = [x for x in invalid_permit_dates if x is not None]\n",
    "def clean_data(df,cols):\n",
    "    imputer = IterativeImputer(random_state=42)\n",
    "    df[cols] = imputer.fit_transform(df[cols])\n",
    "    df = df[~df['permit_expiration_date'].isin(invalid_permit_dates)]\n",
    "    df = df[~df['date_of_inspection'].isin(invalid_dates)]\n",
    "    return(\n",
    "        df\n",
    "    )"
   ]
  },
  {
   "cell_type": "code",
   "execution_count": 85,
   "id": "f10f0cc3-a537-480e-af37-7ba6d447cb11",
   "metadata": {},
   "outputs": [
    {
     "data": {
      "text/plain": [
       "['04/07/0005',\n",
       " '07/14/0004',\n",
       " '09/19/0003',\n",
       " '04/30/0200',\n",
       " '11/18/0505',\n",
       " '03/24/0300',\n",
       " '11/13/0500',\n",
       " '03/23/0006',\n",
       " '04/04/0022',\n",
       " '02/21/0200',\n",
       " '01/17/0605',\n",
       " '11/17/0300',\n",
       " '02/04/1003',\n",
       " '03/19/0403',\n",
       " '12/04/1002',\n",
       " '11/03/0005',\n",
       " '10/14/0021',\n",
       " '06/24/0005',\n",
       " '11/23/1005',\n",
       " '01/05/1002',\n",
       " '01/20/0300',\n",
       " '04/30/0200',\n",
       " '01/29/0300',\n",
       " '01/20/0300',\n",
       " '01/10/0184',\n",
       " '11/18/0300',\n",
       " '03/14/0200',\n",
       " '01/14/0040',\n",
       " '01/23/0002',\n",
       " '04/17/0003',\n",
       " '04/30/0200',\n",
       " '04/25/0600',\n",
       " '01/05/1200',\n",
       " '08/04/0022',\n",
       " '07/04/0022',\n",
       " '10/26/1001',\n",
       " '11/03/0005',\n",
       " '07/30/0005',\n",
       " '02/24/0060',\n",
       " '02/04/0020',\n",
       " '05/25/0200',\n",
       " '01/14/0031',\n",
       " '05/16/1200',\n",
       " '12/08/0002',\n",
       " '02/20/0300',\n",
       " '12/02/0003',\n",
       " '09/08/0300',\n",
       " '04/21/0300']"
      ]
     },
     "execution_count": 85,
     "metadata": {},
     "output_type": "execute_result"
    }
   ],
   "source": [
    "invalid_dates"
   ]
  },
  {
   "cell_type": "code",
   "execution_count": 87,
   "id": "077ec1d7-41d2-4512-b589-718140616399",
   "metadata": {},
   "outputs": [
    {
     "data": {
      "text/plain": [
       "['11/30/3018',\n",
       " '3/31/3201',\n",
       " '3/31/3201',\n",
       " '3/31/3201',\n",
       " '3/31/3201',\n",
       " '11/30/3018',\n",
       " '3/31/3201',\n",
       " '11/30/3018',\n",
       " '11/30/3018',\n",
       " '11/30/3018',\n",
       " '3/31/3201',\n",
       " '11/30/3018',\n",
       " '11/30/3018',\n",
       " '3/31/3201',\n",
       " '3/31/3201',\n",
       " '3/31/3201',\n",
       " '3/31/3201',\n",
       " '11/30/3018',\n",
       " '3/31/3201',\n",
       " '3/31/3201',\n",
       " '3/31/3201',\n",
       " '11/30/3018',\n",
       " '3/31/3201',\n",
       " '3/31/3201',\n",
       " '11/30/3018',\n",
       " '3/31/3201',\n",
       " '3/31/3201',\n",
       " '3/31/3201',\n",
       " '11/30/3018',\n",
       " '3/31/3201',\n",
       " '11/30/3018',\n",
       " '3/31/3201',\n",
       " '11/30/3018',\n",
       " '3/31/3201',\n",
       " '9/30/3024',\n",
       " '12/30/2400',\n",
       " '3/31/3201',\n",
       " '3/31/3201',\n",
       " '11/30/3018',\n",
       " '11/30/3018',\n",
       " '3/31/3201',\n",
       " '3/31/3201',\n",
       " '11/30/3018',\n",
       " '3/31/3201',\n",
       " '3/31/3201',\n",
       " '9/30/3024',\n",
       " '3/31/3201',\n",
       " '3/31/3201',\n",
       " '3/31/3201',\n",
       " '9/30/3024',\n",
       " '11/30/3018',\n",
       " '12/30/2400']"
      ]
     },
     "execution_count": 87,
     "metadata": {},
     "output_type": "execute_result"
    }
   ],
   "source": [
    "invalid_permit_dates"
   ]
  },
  {
   "cell_type": "code",
   "execution_count": 89,
   "id": "24bc6352-e7da-4385-87fe-b15515f0e140",
   "metadata": {},
   "outputs": [
    {
     "name": "stdout",
     "output_type": "stream",
     "text": [
      "48 52\n"
     ]
    }
   ],
   "source": [
    "print(len(invalid_dates),len(invalid_permit_dates))"
   ]
  },
  {
   "cell_type": "code",
   "execution_count": 91,
   "id": "ede9750b-f681-4ac4-99c6-fcd2087d9e74",
   "metadata": {},
   "outputs": [],
   "source": [
    "clean_insp = clean_data(insp,cols)"
   ]
  },
  {
   "cell_type": "code",
   "execution_count": 93,
   "id": "e2d7ef8a-33f7-4186-93b4-19a825f666dc",
   "metadata": {},
   "outputs": [
    {
     "data": {
      "text/plain": [
       "0"
      ]
     },
     "execution_count": 93,
     "metadata": {},
     "output_type": "execute_result"
    }
   ],
   "source": [
    "clean_insp['total_noncritical_violations'].isna().sum()"
   ]
  },
  {
   "cell_type": "code",
   "execution_count": 95,
   "id": "0a89d6be-84b9-4cba-94a0-d863321d74a2",
   "metadata": {},
   "outputs": [
    {
     "data": {
      "text/plain": [
       "(1310773, 31)"
      ]
     },
     "execution_count": 95,
     "metadata": {},
     "output_type": "execute_result"
    }
   ],
   "source": [
    "clean_insp.shape"
   ]
  },
  {
   "cell_type": "markdown",
   "id": "cdf5c6ed-516e-47e2-a53b-8a69190e0862",
   "metadata": {},
   "source": [
    "- Null values in `Numerical` Columns `['total_critical_violations', 'total_crit_not_corrected',\n",
    "       'total_noncritical_violations']` are imputed using `mice` Algorithm.\n",
    "- `Incorrect Date Entries` columns are removed."
   ]
  },
  {
   "cell_type": "markdown",
   "id": "88f30595-31e0-4eb5-b769-a6950142b0f6",
   "metadata": {},
   "source": [
    "- Null values in `Categorical Columns` are imputed after checking their distribution and impute method is selcted based on their distribution or skewness."
   ]
  },
  {
   "cell_type": "markdown",
   "id": "462aee1b-eb3f-4be1-a822-a8e0d3403ce0",
   "metadata": {},
   "source": [
    "## END OF INTIAL INSPECTION AND DATACLEANING"
   ]
  },
  {
   "cell_type": "code",
   "execution_count": null,
   "id": "830a4f5a-a349-4855-9625-998e643f23bb",
   "metadata": {},
   "outputs": [],
   "source": []
  }
 ],
 "metadata": {
  "kernelspec": {
   "display_name": "NYFDPRED",
   "language": "python",
   "name": "nyfdpred"
  },
  "language_info": {
   "codemirror_mode": {
    "name": "ipython",
    "version": 3
   },
   "file_extension": ".py",
   "mimetype": "text/x-python",
   "name": "python",
   "nbconvert_exporter": "python",
   "pygments_lexer": "ipython3",
   "version": "3.12.3"
  }
 },
 "nbformat": 4,
 "nbformat_minor": 5
}
